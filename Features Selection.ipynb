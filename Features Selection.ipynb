{
 "cells": [
  {
   "cell_type": "code",
   "execution_count": 1,
   "id": "60106392",
   "metadata": {},
   "outputs": [],
   "source": [
    "import pandas\n",
    "import numpy\n",
    "import sklearn.feature_selection \n",
    "from pandas import read_csv\n",
    "from pandas import set_option\n",
    "from numpy import set_printoptions\n",
    "from sklearn.feature_selection import SelectKBest\n",
    "from sklearn.feature_selection import chi2\n",
    "from matplotlib import pyplot\n",
    "\n",
    "\n",
    "data = pandas.read_csv('./US_Accidents_March23.csv')\n",
    "data2 = pandas.read_csv('./train_mobile.csv')\n",
    "data3 = pandas.read_csv('./US_Accidents_March23.csv')\n"
   ]
  },
  {
   "cell_type": "code",
   "execution_count": 2,
   "id": "c4be1156-e510-401b-aa41-950ee77e3ed9",
   "metadata": {},
   "outputs": [
    {
     "name": "stdout",
     "output_type": "stream",
     "text": [
      "                   Severity  Start_Lat  Start_Lng  End_Lat  End_Lng  Distance(mi)  Temperature(F)  \\\n",
      "Severity           1.000000  -0.076981  -0.103261      NaN      NaN      0.034340        0.046538   \n",
      "Start_Lat         -0.076981   1.000000   0.861073      NaN      NaN      0.103625       -0.567659   \n",
      "Start_Lng         -0.103261   0.861073   1.000000      NaN      NaN      0.120892       -0.748900   \n",
      "End_Lat                 NaN        NaN        NaN      NaN      NaN           NaN             NaN   \n",
      "End_Lng                 NaN        NaN        NaN      NaN      NaN           NaN             NaN   \n",
      "Distance(mi)       0.034340   0.103625   0.120892      NaN      NaN      1.000000       -0.109664   \n",
      "Temperature(F)     0.046538  -0.567659  -0.748900      NaN      NaN     -0.109664        1.000000   \n",
      "Wind_Chill(F)     -0.227485  -0.193373  -0.181182      NaN      NaN     -0.017924        0.977217   \n",
      "Humidity(%)       -0.051149   0.265370   0.468385      NaN      NaN      0.080519       -0.804728   \n",
      "Pressure(in)       0.002198   0.004355   0.061179      NaN      NaN     -0.042234       -0.224227   \n",
      "Visibility(mi)     0.048129  -0.437290  -0.500385      NaN      NaN     -0.103921        0.489510   \n",
      "Wind_Speed(mph)    0.066140  -0.010574   0.016506      NaN      NaN      0.024571        0.021474   \n",
      "Precipitation(in)  0.060461   0.190027   0.083097      NaN      NaN      0.083497        0.247758   \n",
      "\n",
      "                   Wind_Chill(F)  Humidity(%)  Pressure(in)  Visibility(mi)  Wind_Speed(mph)  \\\n",
      "Severity               -0.227485    -0.051149      0.002198        0.048129         0.066140   \n",
      "Start_Lat              -0.193373     0.265370      0.004355       -0.437290        -0.010574   \n",
      "Start_Lng              -0.181182     0.468385      0.061179       -0.500385         0.016506   \n",
      "End_Lat                      NaN          NaN           NaN             NaN              NaN   \n",
      "End_Lng                      NaN          NaN           NaN             NaN              NaN   \n",
      "Distance(mi)           -0.017924     0.080519     -0.042234       -0.103921         0.024571   \n",
      "Temperature(F)          0.977217    -0.804728     -0.224227        0.489510         0.021474   \n",
      "Wind_Chill(F)           1.000000     0.092478     -0.276611        0.196162        -0.136024   \n",
      "Humidity(%)             0.092478     1.000000      0.020229       -0.482956        -0.080342   \n",
      "Pressure(in)           -0.276611     0.020229      1.000000        0.193466        -0.073640   \n",
      "Visibility(mi)          0.196162    -0.482956      0.193466        1.000000         0.079107   \n",
      "Wind_Speed(mph)        -0.136024    -0.080342     -0.073640        0.079107         1.000000   \n",
      "Precipitation(in)       0.404798     0.285182     -0.383209       -0.047328         0.194012   \n",
      "\n",
      "                   Precipitation(in)  \n",
      "Severity                    0.060461  \n",
      "Start_Lat                   0.190027  \n",
      "Start_Lng                   0.083097  \n",
      "End_Lat                          NaN  \n",
      "End_Lng                          NaN  \n",
      "Distance(mi)                0.083497  \n",
      "Temperature(F)              0.247758  \n",
      "Wind_Chill(F)               0.404798  \n",
      "Humidity(%)                 0.285182  \n",
      "Pressure(in)               -0.383209  \n",
      "Visibility(mi)             -0.047328  \n",
      "Wind_Speed(mph)             0.194012  \n",
      "Precipitation(in)           1.000000  \n"
     ]
    }
   ],
   "source": [
    "set_option('display.width', 100)\n",
    "correlations = data.corr(method='pearson', numeric_only=True)\n",
    "print(correlations)"
   ]
  },
  {
   "cell_type": "code",
   "execution_count": 3,
   "id": "7bd6d145-a7fb-4a6a-9253-0817d8a6cdbb",
   "metadata": {},
   "outputs": [],
   "source": [
    "# dalla matrice di correlazione vediamo che sono correlate:\n",
    "#        Start_Lat e Start_Lng (0.86 ca)\n",
    "#        Start_Lng e Temperature (-0.74 ca)\n",
    "#        Wind_Chill e Temperature (0.97 ca)\n",
    "#        Humidity e Temperature (-0.87 ca)"
   ]
  },
  {
   "cell_type": "code",
   "execution_count": 4,
   "id": "c5d4d2b9-7bf1-4893-9526-0d5cfc8da1e6",
   "metadata": {},
   "outputs": [],
   "source": [
    "# metodi di scelta delle feature del dataset train_mobile con price range scelta come variabile da predirre (output)"
   ]
  },
  {
   "cell_type": "code",
   "execution_count": 5,
   "id": "897643ac-d953-4abc-9345-96b308ddbc59",
   "metadata": {},
   "outputs": [
    {
     "name": "stdout",
     "output_type": "stream",
     "text": [
      "      battery_power  blue  clock_speed  dual_sim  fc  four_g  int_memory  m_dep  mobile_wt  \\\n",
      "0               842     0          2.2         0   1       0           7    0.6        188   \n",
      "1              1021     1          0.5         1   0       1          53    0.7        136   \n",
      "2               563     1          0.5         1   2       1          41    0.9        145   \n",
      "3               615     1          2.5         0   0       0          10    0.8        131   \n",
      "4              1821     1          1.2         0  13       1          44    0.6        141   \n",
      "...             ...   ...          ...       ...  ..     ...         ...    ...        ...   \n",
      "1995            794     1          0.5         1   0       1           2    0.8        106   \n",
      "1996           1965     1          2.6         1   0       0          39    0.2        187   \n",
      "1997           1911     0          0.9         1   1       1          36    0.7        108   \n",
      "1998           1512     0          0.9         0   4       1          46    0.1        145   \n",
      "1999            510     1          2.0         1   5       1          45    0.9        168   \n",
      "\n",
      "      n_cores  ...  px_height  px_width   ram  sc_h  sc_w  talk_time  three_g  touch_screen  wifi  \\\n",
      "0           2  ...         20       756  2549     9     7         19        0             0     1   \n",
      "1           3  ...        905      1988  2631    17     3          7        1             1     0   \n",
      "2           5  ...       1263      1716  2603    11     2          9        1             1     0   \n",
      "3           6  ...       1216      1786  2769    16     8         11        1             0     0   \n",
      "4           2  ...       1208      1212  1411     8     2         15        1             1     0   \n",
      "...       ...  ...        ...       ...   ...   ...   ...        ...      ...           ...   ...   \n",
      "1995        6  ...       1222      1890   668    13     4         19        1             1     0   \n",
      "1996        4  ...        915      1965  2032    11    10         16        1             1     1   \n",
      "1997        8  ...        868      1632  3057     9     1          5        1             1     0   \n",
      "1998        5  ...        336       670   869    18    10         19        1             1     1   \n",
      "1999        6  ...        483       754  3919    19     4          2        1             1     1   \n",
      "\n",
      "      price_range  \n",
      "0               1  \n",
      "1               2  \n",
      "2               2  \n",
      "3               2  \n",
      "4               1  \n",
      "...           ...  \n",
      "1995            0  \n",
      "1996            2  \n",
      "1997            3  \n",
      "1998            0  \n",
      "1999            3  \n",
      "\n",
      "[2000 rows x 21 columns]\n",
      "[1.41298666e+04 7.23232323e-01 6.48365906e-01 6.31010795e-01\n",
      " 1.01351665e+01 1.52157239e+00 8.98391244e+01 7.45819631e-01\n",
      " 9.59728626e+01 9.09755558e+00 9.18605355e+00 1.73635695e+04\n",
      " 9.81058675e+03 9.31267519e+05 9.61487832e+00 1.64803191e+01\n",
      " 1.32364000e+01 3.27642810e-01 1.92842942e+00 4.22090730e-01]\n",
      "[[ 842.   20.  756. 2549.]\n",
      " [1021.  905. 1988. 2631.]\n",
      " [ 563. 1263. 1716. 2603.]\n",
      " [ 615. 1216. 1786. 2769.]\n",
      " [1821. 1208. 1212. 1411.]]\n"
     ]
    }
   ],
   "source": [
    "# uso Univariate Selection, un test statistico per selezionare le feature che incidono \n",
    "# maggiormente sulla variabile in output\n",
    "\n",
    "array2 = data2.values\n",
    "X2 = array2[:,0:20]\n",
    "Y2 = array2[:,20]\n",
    "\n",
    "print(data2)\n",
    "\n",
    "# estrazione features\n",
    "test2 = SelectKBest(score_func=chi2, k=4)\n",
    "fit2 = test2.fit(X2,Y2)\n",
    "\n",
    "# riassunto punteggi\n",
    "print(fit2.scores_)\n",
    "features2 = fit2.transform(X2)\n",
    "\n",
    "# riassunto features selezionate\n",
    "print(features2[0:5,:])"
   ]
  },
  {
   "cell_type": "code",
   "execution_count": 6,
   "id": "0e69cdc4-d68f-487a-9e40-28b431124fae",
   "metadata": {},
   "outputs": [],
   "source": [
    "# le features che incidono maggiormente sul price range sono in ordine: \n",
    "#        ram (9.31267519e+05)\n",
    "#        px_height (1.73635695e+04)\n",
    "#        px_width (9.81058675e+03)\n",
    "#        battery_power (1.41298666e+04)\n",
    "# la matrice sotto indica i valori in input delle features selezionate (abbiamo preso le prime 5 righe \n",
    "# per avere un output più leggibile)"
   ]
  },
  {
   "cell_type": "code",
   "execution_count": 7,
   "id": "f562c08f-dc12-4a41-9d3c-837bf5ca956f",
   "metadata": {
    "scrolled": true
   },
   "outputs": [
    {
     "name": "stdout",
     "output_type": "stream",
     "text": [
      "          ID   Source  Severity           Start_Time             End_Time  Start_Lat   Start_Lng  \\\n",
      "0        A-1  Source2         3  2016-02-08 05:46:00  2016-02-08 11:00:00  39.865147  -84.058723   \n",
      "1        A-2  Source2         2  2016-02-08 06:07:59  2016-02-08 06:37:59  39.928059  -82.831184   \n",
      "2        A-3  Source2         2  2016-02-08 06:49:27  2016-02-08 07:19:27  39.063148  -84.032608   \n",
      "3        A-4  Source2         3  2016-02-08 07:23:34  2016-02-08 07:53:34  39.747753  -84.205582   \n",
      "4        A-5  Source2         2  2016-02-08 07:39:07  2016-02-08 08:09:07  39.627781  -84.188354   \n",
      "...      ...      ...       ...                  ...                  ...        ...         ...   \n",
      "2831  A-2832  Source2         2  2016-07-12 15:12:42  2016-07-12 16:27:42  38.474407 -121.419067   \n",
      "2832  A-2833  Source2         2  2016-07-12 15:45:38  2016-07-12 17:00:38  38.495541 -121.511070   \n",
      "2833  A-2834  Source2         3  2016-07-12 15:26:19  2016-07-12 16:41:19  38.588917 -121.415375   \n",
      "2834  A-2835  Source2         2  2016-07-12 15:50:04  2016-07-12 17:05:04  38.742481 -120.747398   \n",
      "2835  A-2836  Source2         2  2016-07-12 16:12:21  2016-07-12 16:42:21  38.567966 -122.829018   \n",
      "\n",
      "      End_Lat  End_Lng  Distance(mi)  ... Roundabout Station   Stop Traffic_Calming  \\\n",
      "0         NaN      NaN          0.01  ...      False   False  False           False   \n",
      "1         NaN      NaN          0.01  ...      False   False  False           False   \n",
      "2         NaN      NaN          0.01  ...      False   False  False           False   \n",
      "3         NaN      NaN          0.01  ...      False   False  False           False   \n",
      "4         NaN      NaN          0.01  ...      False   False  False           False   \n",
      "...       ...      ...           ...  ...        ...     ...    ...             ...   \n",
      "2831      NaN      NaN          0.00  ...      False   False  False           False   \n",
      "2832      NaN      NaN          0.00  ...      False   False  False           False   \n",
      "2833      NaN      NaN          0.00  ...      False   False  False           False   \n",
      "2834      NaN      NaN          0.00  ...      False   False  False           False   \n",
      "2835      NaN      NaN          0.00  ...        NaN     NaN    NaN             NaN   \n",
      "\n",
      "     Traffic_Signal Turning_Loop Sunrise_Sunset Civil_Twilight Nautical_Twilight  \\\n",
      "0             False        False          Night          Night             Night   \n",
      "1             False        False          Night          Night             Night   \n",
      "2              True        False          Night          Night               Day   \n",
      "3             False        False          Night            Day               Day   \n",
      "4              True        False            Day            Day               Day   \n",
      "...             ...          ...            ...            ...               ...   \n",
      "2831          False        False            Day            Day               Day   \n",
      "2832          False        False            Day            Day               Day   \n",
      "2833           True        False            Day            Day               Day   \n",
      "2834          False        False            Day            Day               Day   \n",
      "2835            NaN          NaN            NaN            NaN               NaN   \n",
      "\n",
      "     Astronomical_Twilight  \n",
      "0                    Night  \n",
      "1                      Day  \n",
      "2                      Day  \n",
      "3                      Day  \n",
      "4                      Day  \n",
      "...                    ...  \n",
      "2831                   Day  \n",
      "2832                   Day  \n",
      "2833                   Day  \n",
      "2834                   Day  \n",
      "2835                   NaN  \n",
      "\n",
      "[2836 rows x 46 columns]\n"
     ]
    }
   ],
   "source": [
    "# prova con il dataset sugli incidenti stradali\n",
    "\n",
    "print(data)"
   ]
  },
  {
   "cell_type": "code",
   "execution_count": null,
   "id": "e9f8a242",
   "metadata": {},
   "outputs": [],
   "source": []
  },
  {
   "cell_type": "code",
   "execution_count": 8,
   "id": "2e9eefd8",
   "metadata": {},
   "outputs": [
    {
     "name": "stdout",
     "output_type": "stream",
     "text": [
      "      Severity           Start_Time             End_Time  Temperature(F)  Pressure(in)  \\\n",
      "0            3  2016-02-08 05:46:00  2016-02-08 11:00:00            36.9         29.68   \n",
      "1            2  2016-02-08 06:07:59  2016-02-08 06:37:59            37.9         29.65   \n",
      "2            2  2016-02-08 06:49:27  2016-02-08 07:19:27            36.0         29.67   \n",
      "3            3  2016-02-08 07:23:34  2016-02-08 07:53:34            35.1         29.64   \n",
      "4            2  2016-02-08 07:39:07  2016-02-08 08:09:07            36.0         29.65   \n",
      "...        ...                  ...                  ...             ...           ...   \n",
      "2831         2  2016-07-12 15:12:42  2016-07-12 16:27:42            87.1         29.91   \n",
      "2832         2  2016-07-12 15:45:38  2016-07-12 17:00:38            88.0         29.89   \n",
      "2833         3  2016-07-12 15:26:19  2016-07-12 16:41:19            89.6         29.91   \n",
      "2834         2  2016-07-12 15:50:04  2016-07-12 17:05:04            84.2         30.03   \n",
      "2835         2  2016-07-12 16:12:21  2016-07-12 16:42:21             NaN           NaN   \n",
      "\n",
      "      Visibility(mi)  Wind_Speed(mph)  Precipitation(in) Weather_Condition Amenity  ...  \\\n",
      "0               10.0              NaN               0.02        Light Rain   False  ...   \n",
      "1               10.0              NaN               0.00        Light Rain   False  ...   \n",
      "2               10.0              3.5                NaN          Overcast   False  ...   \n",
      "3                9.0              4.6                NaN     Mostly Cloudy   False  ...   \n",
      "4                6.0              3.5                NaN     Mostly Cloudy   False  ...   \n",
      "...              ...              ...                ...               ...     ...  ...   \n",
      "2831            10.0              6.9                NaN             Clear   False  ...   \n",
      "2832            10.0              9.2                NaN             Clear   False  ...   \n",
      "2833            10.0              3.5                NaN             Clear   False  ...   \n",
      "2834            10.0              6.9                NaN             Clear   False  ...   \n",
      "2835             NaN              NaN                NaN               NaN     NaN  ...   \n",
      "\n",
      "     Roundabout Station   Stop Traffic_Calming Traffic_Signal Turning_Loop Sunrise_Sunset  \\\n",
      "0         False   False  False           False          False        False          Night   \n",
      "1         False   False  False           False          False        False          Night   \n",
      "2         False   False  False           False           True        False          Night   \n",
      "3         False   False  False           False          False        False          Night   \n",
      "4         False   False  False           False           True        False            Day   \n",
      "...         ...     ...    ...             ...            ...          ...            ...   \n",
      "2831      False   False  False           False          False        False            Day   \n",
      "2832      False   False  False           False          False        False            Day   \n",
      "2833      False   False  False           False           True        False            Day   \n",
      "2834      False   False  False           False          False        False            Day   \n",
      "2835        NaN     NaN    NaN             NaN            NaN          NaN            NaN   \n",
      "\n",
      "     Civil_Twilight Nautical_Twilight Astronomical_Twilight  \n",
      "0             Night             Night                 Night  \n",
      "1             Night             Night                   Day  \n",
      "2             Night               Day                   Day  \n",
      "3               Day               Day                   Day  \n",
      "4               Day               Day                   Day  \n",
      "...             ...               ...                   ...  \n",
      "2831            Day               Day                   Day  \n",
      "2832            Day               Day                   Day  \n",
      "2833            Day               Day                   Day  \n",
      "2834            Day               Day                   Day  \n",
      "2835            NaN               NaN                   NaN  \n",
      "\n",
      "[2836 rows x 26 columns]\n"
     ]
    }
   ],
   "source": [
    "# Rimozione feature ritenute poco utili\n",
    "data = data.drop(['ID', 'Source', 'Start_Lat', 'Start_Lng', 'End_Lat', 'End_Lng', 'Distance(mi)', 'Description', 'State', 'Zipcode', 'Country', 'Street', 'City', 'County', 'Timezone', 'Airport_Code', 'Weather_Timestamp', 'Wind_Chill(F)', 'Humidity(%)', 'Wind_Direction'], axis=1)\n",
    "print(data)"
   ]
  },
  {
   "cell_type": "code",
   "execution_count": 9,
   "id": "1b0cc43b",
   "metadata": {},
   "outputs": [
    {
     "data": {
      "text/plain": [
       "False    2834\n",
       "True        1\n",
       "Name: Roundabout, dtype: int64"
      ]
     },
     "execution_count": 9,
     "metadata": {},
     "output_type": "execute_result"
    }
   ],
   "source": [
    "data.Roundabout.value_counts()"
   ]
  },
  {
   "cell_type": "code",
   "execution_count": 10,
   "id": "841e0699",
   "metadata": {},
   "outputs": [
    {
     "data": {
      "text/plain": [
       "False    2786\n",
       "True       49\n",
       "Name: Station, dtype: int64"
      ]
     },
     "execution_count": 10,
     "metadata": {},
     "output_type": "execute_result"
    }
   ],
   "source": [
    "data.Station.value_counts()"
   ]
  },
  {
   "cell_type": "code",
   "execution_count": 11,
   "id": "5bf8413e",
   "metadata": {},
   "outputs": [
    {
     "data": {
      "text/plain": [
       "False    2716\n",
       "True      119\n",
       "Name: Stop, dtype: int64"
      ]
     },
     "execution_count": 11,
     "metadata": {},
     "output_type": "execute_result"
    }
   ],
   "source": [
    "data.Stop.value_counts()"
   ]
  },
  {
   "cell_type": "code",
   "execution_count": 12,
   "id": "ad5e54a8",
   "metadata": {},
   "outputs": [
    {
     "data": {
      "text/plain": [
       "False    2833\n",
       "True        2\n",
       "Name: Traffic_Calming, dtype: int64"
      ]
     },
     "execution_count": 12,
     "metadata": {},
     "output_type": "execute_result"
    }
   ],
   "source": [
    "data.Traffic_Calming.value_counts()"
   ]
  },
  {
   "cell_type": "code",
   "execution_count": 13,
   "id": "b7e22ca1",
   "metadata": {},
   "outputs": [
    {
     "data": {
      "text/plain": [
       "False    2463\n",
       "True      372\n",
       "Name: Traffic_Signal, dtype: int64"
      ]
     },
     "execution_count": 13,
     "metadata": {},
     "output_type": "execute_result"
    }
   ],
   "source": [
    "data.Traffic_Signal.value_counts()"
   ]
  },
  {
   "cell_type": "code",
   "execution_count": 14,
   "id": "65e16f54",
   "metadata": {},
   "outputs": [
    {
     "data": {
      "text/plain": [
       "False    2835\n",
       "Name: Turning_Loop, dtype: int64"
      ]
     },
     "execution_count": 14,
     "metadata": {},
     "output_type": "execute_result"
    }
   ],
   "source": [
    "data.Turning_Loop.value_counts()"
   ]
  },
  {
   "cell_type": "code",
   "execution_count": 15,
   "id": "9a9b78a6",
   "metadata": {},
   "outputs": [
    {
     "name": "stdout",
     "output_type": "stream",
     "text": [
      "      Severity           Start_Time             End_Time  Temperature(F)  Pressure(in)  \\\n",
      "0            3  2016-02-08 05:46:00  2016-02-08 11:00:00            36.9         29.68   \n",
      "1            2  2016-02-08 06:07:59  2016-02-08 06:37:59            37.9         29.65   \n",
      "2            2  2016-02-08 06:49:27  2016-02-08 07:19:27            36.0         29.67   \n",
      "3            3  2016-02-08 07:23:34  2016-02-08 07:53:34            35.1         29.64   \n",
      "4            2  2016-02-08 07:39:07  2016-02-08 08:09:07            36.0         29.65   \n",
      "...        ...                  ...                  ...             ...           ...   \n",
      "2831         2  2016-07-12 15:12:42  2016-07-12 16:27:42            87.1         29.91   \n",
      "2832         2  2016-07-12 15:45:38  2016-07-12 17:00:38            88.0         29.89   \n",
      "2833         3  2016-07-12 15:26:19  2016-07-12 16:41:19            89.6         29.91   \n",
      "2834         2  2016-07-12 15:50:04  2016-07-12 17:05:04            84.2         30.03   \n",
      "2835         2  2016-07-12 16:12:21  2016-07-12 16:42:21             NaN           NaN   \n",
      "\n",
      "      Visibility(mi)  Wind_Speed(mph)  Precipitation(in) Weather_Condition Amenity  ... Give_Way  \\\n",
      "0               10.0              NaN               0.02        Light Rain   False  ...    False   \n",
      "1               10.0              NaN               0.00        Light Rain   False  ...    False   \n",
      "2               10.0              3.5                NaN          Overcast   False  ...    False   \n",
      "3                9.0              4.6                NaN     Mostly Cloudy   False  ...    False   \n",
      "4                6.0              3.5                NaN     Mostly Cloudy   False  ...    False   \n",
      "...              ...              ...                ...               ...     ...  ...      ...   \n",
      "2831            10.0              6.9                NaN             Clear   False  ...    False   \n",
      "2832            10.0              9.2                NaN             Clear   False  ...    False   \n",
      "2833            10.0              3.5                NaN             Clear   False  ...    False   \n",
      "2834            10.0              6.9                NaN             Clear   False  ...    False   \n",
      "2835             NaN              NaN                NaN               NaN     NaN  ...      NaN   \n",
      "\n",
      "     Junction No_Exit Railway   Stop Traffic_Signal Sunrise_Sunset Civil_Twilight  \\\n",
      "0       False   False   False  False          False          Night          Night   \n",
      "1       False   False   False  False          False          Night          Night   \n",
      "2       False   False   False  False           True          Night          Night   \n",
      "3       False   False   False  False          False          Night            Day   \n",
      "4       False   False   False  False           True            Day            Day   \n",
      "...       ...     ...     ...    ...            ...            ...            ...   \n",
      "2831    False   False   False  False          False            Day            Day   \n",
      "2832    False   False   False  False          False            Day            Day   \n",
      "2833    False   False   False  False           True            Day            Day   \n",
      "2834    False   False   False  False          False            Day            Day   \n",
      "2835      NaN     NaN     NaN    NaN            NaN            NaN            NaN   \n",
      "\n",
      "     Nautical_Twilight Astronomical_Twilight  \n",
      "0                Night                 Night  \n",
      "1                Night                   Day  \n",
      "2                  Day                   Day  \n",
      "3                  Day                   Day  \n",
      "4                  Day                   Day  \n",
      "...                ...                   ...  \n",
      "2831               Day                   Day  \n",
      "2832               Day                   Day  \n",
      "2833               Day                   Day  \n",
      "2834               Day                   Day  \n",
      "2835               NaN                   NaN  \n",
      "\n",
      "[2836 rows x 22 columns]\n"
     ]
    }
   ],
   "source": [
    "data = data.drop(['Roundabout', 'Station', 'Traffic_Calming', 'Turning_Loop'], axis=1)\n",
    "print(data)"
   ]
  },
  {
   "cell_type": "code",
   "execution_count": 16,
   "id": "13af4ad6",
   "metadata": {},
   "outputs": [
    {
     "name": "stdout",
     "output_type": "stream",
     "text": [
      "Index(['Severity', 'Start_Time', 'End_Time', 'Temperature(F)', 'Pressure(in)', 'Visibility(mi)',\n",
      "       'Wind_Speed(mph)', 'Precipitation(in)', 'Weather_Condition', 'Amenity', 'Bump', 'Crossing',\n",
      "       'Give_Way', 'Junction', 'No_Exit', 'Railway', 'Stop', 'Traffic_Signal', 'Sunrise_Sunset',\n",
      "       'Civil_Twilight', 'Nautical_Twilight', 'Astronomical_Twilight'],\n",
      "      dtype='object')\n"
     ]
    }
   ],
   "source": [
    "print(data.columns)"
   ]
  },
  {
   "cell_type": "code",
   "execution_count": 17,
   "id": "47755528",
   "metadata": {},
   "outputs": [
    {
     "name": "stdout",
     "output_type": "stream",
     "text": [
      "      Severity           Start_Time             End_Time  Temperature(F)  Pressure(in)  \\\n",
      "0            3  2016-02-08 05:46:00  2016-02-08 11:00:00            36.9         29.68   \n",
      "1            2  2016-02-08 06:07:59  2016-02-08 06:37:59            37.9         29.65   \n",
      "2            2  2016-02-08 06:49:27  2016-02-08 07:19:27            36.0         29.67   \n",
      "3            3  2016-02-08 07:23:34  2016-02-08 07:53:34            35.1         29.64   \n",
      "4            2  2016-02-08 07:39:07  2016-02-08 08:09:07            36.0         29.65   \n",
      "...        ...                  ...                  ...             ...           ...   \n",
      "2831         2  2016-07-12 15:12:42  2016-07-12 16:27:42            87.1         29.91   \n",
      "2832         2  2016-07-12 15:45:38  2016-07-12 17:00:38            88.0         29.89   \n",
      "2833         3  2016-07-12 15:26:19  2016-07-12 16:41:19            89.6         29.91   \n",
      "2834         2  2016-07-12 15:50:04  2016-07-12 17:05:04            84.2         30.03   \n",
      "2835         2  2016-07-12 16:12:21  2016-07-12 16:42:21             NaN           NaN   \n",
      "\n",
      "      Visibility(mi)  Wind_Speed(mph)  Precipitation(in) Weather_Condition Crossing Junction  \\\n",
      "0               10.0              NaN               0.02        Light Rain    False    False   \n",
      "1               10.0              NaN               0.00        Light Rain    False    False   \n",
      "2               10.0              3.5                NaN          Overcast    False    False   \n",
      "3                9.0              4.6                NaN     Mostly Cloudy    False    False   \n",
      "4                6.0              3.5                NaN     Mostly Cloudy    False    False   \n",
      "...              ...              ...                ...               ...      ...      ...   \n",
      "2831            10.0              6.9                NaN             Clear    False    False   \n",
      "2832            10.0              9.2                NaN             Clear    False    False   \n",
      "2833            10.0              3.5                NaN             Clear     True    False   \n",
      "2834            10.0              6.9                NaN             Clear    False    False   \n",
      "2835             NaN              NaN                NaN               NaN      NaN      NaN   \n",
      "\n",
      "       Stop Traffic_Signal Sunrise_Sunset Civil_Twilight Nautical_Twilight Astronomical_Twilight  \n",
      "0     False          False          Night          Night             Night                 Night  \n",
      "1     False          False          Night          Night             Night                   Day  \n",
      "2     False           True          Night          Night               Day                   Day  \n",
      "3     False          False          Night            Day               Day                   Day  \n",
      "4     False           True            Day            Day               Day                   Day  \n",
      "...     ...            ...            ...            ...               ...                   ...  \n",
      "2831  False          False            Day            Day               Day                   Day  \n",
      "2832  False          False            Day            Day               Day                   Day  \n",
      "2833  False           True            Day            Day               Day                   Day  \n",
      "2834  False          False            Day            Day               Day                   Day  \n",
      "2835    NaN            NaN            NaN            NaN               NaN                   NaN  \n",
      "\n",
      "[2836 rows x 17 columns]\n"
     ]
    }
   ],
   "source": [
    "data = data.drop(['Amenity', 'Bump', 'Give_Way', 'No_Exit', 'Railway'], axis=1)  #abbiamo fatto lo stesso controllo di prima per il numero di true/false\n",
    "print(data)"
   ]
  },
  {
   "cell_type": "code",
   "execution_count": 18,
   "id": "00fd43a2",
   "metadata": {},
   "outputs": [
    {
     "data": {
      "text/plain": [
       "2648"
      ]
     },
     "execution_count": 18,
     "metadata": {},
     "output_type": "execute_result"
    }
   ],
   "source": [
    "data['Precipitation(in)'].isnull().sum()"
   ]
  },
  {
   "cell_type": "code",
   "execution_count": 19,
   "id": "83702935",
   "metadata": {},
   "outputs": [
    {
     "data": {
      "text/plain": [
       "0.00    107\n",
       "0.01     27\n",
       "0.02     17\n",
       "0.05      6\n",
       "0.08      5\n",
       "0.16      4\n",
       "0.10      4\n",
       "0.04      3\n",
       "0.09      3\n",
       "0.03      2\n",
       "0.07      2\n",
       "0.06      2\n",
       "0.11      2\n",
       "0.19      2\n",
       "0.18      1\n",
       "0.22      1\n",
       "Name: Precipitation(in), dtype: int64"
      ]
     },
     "execution_count": 19,
     "metadata": {},
     "output_type": "execute_result"
    }
   ],
   "source": [
    "data['Precipitation(in)'].value_counts()"
   ]
  },
  {
   "cell_type": "code",
   "execution_count": 20,
   "id": "cf9b05d1",
   "metadata": {},
   "outputs": [
    {
     "data": {
      "text/plain": [
       "0.021595744680851063"
      ]
     },
     "execution_count": 20,
     "metadata": {},
     "output_type": "execute_result"
    }
   ],
   "source": [
    "data['Precipitation(in)'].mean()"
   ]
  },
  {
   "cell_type": "code",
   "execution_count": 21,
   "id": "c159d559",
   "metadata": {},
   "outputs": [
    {
     "name": "stdout",
     "output_type": "stream",
     "text": [
      "      Severity           Start_Time             End_Time  Temperature(F)  Pressure(in)  \\\n",
      "0            3  2016-02-08 05:46:00  2016-02-08 11:00:00            36.9         29.68   \n",
      "1            2  2016-02-08 06:07:59  2016-02-08 06:37:59            37.9         29.65   \n",
      "2            2  2016-02-08 06:49:27  2016-02-08 07:19:27            36.0         29.67   \n",
      "3            3  2016-02-08 07:23:34  2016-02-08 07:53:34            35.1         29.64   \n",
      "4            2  2016-02-08 07:39:07  2016-02-08 08:09:07            36.0         29.65   \n",
      "...        ...                  ...                  ...             ...           ...   \n",
      "2831         2  2016-07-12 15:12:42  2016-07-12 16:27:42            87.1         29.91   \n",
      "2832         2  2016-07-12 15:45:38  2016-07-12 17:00:38            88.0         29.89   \n",
      "2833         3  2016-07-12 15:26:19  2016-07-12 16:41:19            89.6         29.91   \n",
      "2834         2  2016-07-12 15:50:04  2016-07-12 17:05:04            84.2         30.03   \n",
      "2835         2  2016-07-12 16:12:21  2016-07-12 16:42:21             NaN           NaN   \n",
      "\n",
      "      Visibility(mi)  Wind_Speed(mph) Weather_Condition Crossing Junction   Stop Traffic_Signal  \\\n",
      "0               10.0              NaN        Light Rain    False    False  False          False   \n",
      "1               10.0              NaN        Light Rain    False    False  False          False   \n",
      "2               10.0              3.5          Overcast    False    False  False           True   \n",
      "3                9.0              4.6     Mostly Cloudy    False    False  False          False   \n",
      "4                6.0              3.5     Mostly Cloudy    False    False  False           True   \n",
      "...              ...              ...               ...      ...      ...    ...            ...   \n",
      "2831            10.0              6.9             Clear    False    False  False          False   \n",
      "2832            10.0              9.2             Clear    False    False  False          False   \n",
      "2833            10.0              3.5             Clear     True    False  False           True   \n",
      "2834            10.0              6.9             Clear    False    False  False          False   \n",
      "2835             NaN              NaN               NaN      NaN      NaN    NaN            NaN   \n",
      "\n",
      "     Sunrise_Sunset Civil_Twilight Nautical_Twilight Astronomical_Twilight  \n",
      "0             Night          Night             Night                 Night  \n",
      "1             Night          Night             Night                   Day  \n",
      "2             Night          Night               Day                   Day  \n",
      "3             Night            Day               Day                   Day  \n",
      "4               Day            Day               Day                   Day  \n",
      "...             ...            ...               ...                   ...  \n",
      "2831            Day            Day               Day                   Day  \n",
      "2832            Day            Day               Day                   Day  \n",
      "2833            Day            Day               Day                   Day  \n",
      "2834            Day            Day               Day                   Day  \n",
      "2835            NaN            NaN               NaN                   NaN  \n",
      "\n",
      "[2836 rows x 16 columns]\n"
     ]
    }
   ],
   "source": [
    "# La colonna della precipitazione contiene quasi tutti NaN, con un valore medio dei non NaN prossimo allo 0, quindi la droppiamo\n",
    "data = data.drop(['Precipitation(in)'], axis=1)\n",
    "print(data)"
   ]
  },
  {
   "cell_type": "code",
   "execution_count": 22,
   "id": "199ce188",
   "metadata": {},
   "outputs": [
    {
     "data": {
      "text/plain": [
       "1"
      ]
     },
     "execution_count": 22,
     "metadata": {},
     "output_type": "execute_result"
    }
   ],
   "source": [
    "data['Stop'].isnull().sum()"
   ]
  },
  {
   "cell_type": "code",
   "execution_count": 23,
   "id": "359f4c65",
   "metadata": {},
   "outputs": [
    {
     "name": "stdout",
     "output_type": "stream",
     "text": [
      "      Severity           Start_Time             End_Time  Temperature(F)  Pressure(in)  \\\n",
      "0            3  2016-02-08 05:46:00  2016-02-08 11:00:00            36.9         29.68   \n",
      "1            2  2016-02-08 06:07:59  2016-02-08 06:37:59            37.9         29.65   \n",
      "2            2  2016-02-08 06:49:27  2016-02-08 07:19:27            36.0         29.67   \n",
      "3            3  2016-02-08 07:23:34  2016-02-08 07:53:34            35.1         29.64   \n",
      "4            2  2016-02-08 07:39:07  2016-02-08 08:09:07            36.0         29.65   \n",
      "...        ...                  ...                  ...             ...           ...   \n",
      "2830         3  2016-07-12 15:00:15  2016-07-12 16:15:15            89.1         29.91   \n",
      "2831         2  2016-07-12 15:12:42  2016-07-12 16:27:42            87.1         29.91   \n",
      "2832         2  2016-07-12 15:45:38  2016-07-12 17:00:38            88.0         29.89   \n",
      "2833         3  2016-07-12 15:26:19  2016-07-12 16:41:19            89.6         29.91   \n",
      "2834         2  2016-07-12 15:50:04  2016-07-12 17:05:04            84.2         30.03   \n",
      "\n",
      "      Visibility(mi)  Wind_Speed(mph) Weather_Condition Crossing Junction   Stop Traffic_Signal  \\\n",
      "0               10.0              NaN        Light Rain    False    False  False          False   \n",
      "1               10.0              NaN        Light Rain    False    False  False          False   \n",
      "2               10.0              3.5          Overcast    False    False  False           True   \n",
      "3                9.0              4.6     Mostly Cloudy    False    False  False          False   \n",
      "4                6.0              3.5     Mostly Cloudy    False    False  False           True   \n",
      "...              ...              ...               ...      ...      ...    ...            ...   \n",
      "2830            10.0              9.2               NaN    False     True  False          False   \n",
      "2831            10.0              6.9             Clear    False    False  False          False   \n",
      "2832            10.0              9.2             Clear    False    False  False          False   \n",
      "2833            10.0              3.5             Clear     True    False  False           True   \n",
      "2834            10.0              6.9             Clear    False    False  False          False   \n",
      "\n",
      "     Sunrise_Sunset Civil_Twilight Nautical_Twilight Astronomical_Twilight  \n",
      "0             Night          Night             Night                 Night  \n",
      "1             Night          Night             Night                   Day  \n",
      "2             Night          Night               Day                   Day  \n",
      "3             Night            Day               Day                   Day  \n",
      "4               Day            Day               Day                   Day  \n",
      "...             ...            ...               ...                   ...  \n",
      "2830            Day            Day               Day                   Day  \n",
      "2831            Day            Day               Day                   Day  \n",
      "2832            Day            Day               Day                   Day  \n",
      "2833            Day            Day               Day                   Day  \n",
      "2834            Day            Day               Day                   Day  \n",
      "\n",
      "[2835 rows x 16 columns]\n"
     ]
    }
   ],
   "source": [
    "# La riga 2835 contiene quasi solo NaN, quindi la togliamo\n",
    "data = data.drop(2835)\n",
    "print(data)"
   ]
  },
  {
   "cell_type": "code",
   "execution_count": 24,
   "id": "f083f401",
   "metadata": {},
   "outputs": [
    {
     "data": {
      "text/plain": [
       "0"
      ]
     },
     "execution_count": 24,
     "metadata": {},
     "output_type": "execute_result"
    }
   ],
   "source": [
    "data['Temperature(F)'].fillna(data['Temperature(F)'].mean(), inplace=True)\n",
    "data['Temperature(F)'].isnull().sum()"
   ]
  },
  {
   "cell_type": "code",
   "execution_count": 25,
   "id": "95e5bb2b",
   "metadata": {},
   "outputs": [
    {
     "data": {
      "text/plain": [
       "0"
      ]
     },
     "execution_count": 25,
     "metadata": {},
     "output_type": "execute_result"
    }
   ],
   "source": [
    "data['Pressure(in)'].fillna(data['Pressure(in)'].mean(), inplace=True)\n",
    "data['Pressure(in)'].isnull().sum()"
   ]
  },
  {
   "cell_type": "code",
   "execution_count": 26,
   "id": "91d005eb",
   "metadata": {},
   "outputs": [
    {
     "data": {
      "text/plain": [
       "0"
      ]
     },
     "execution_count": 26,
     "metadata": {},
     "output_type": "execute_result"
    }
   ],
   "source": [
    "data['Visibility(mi)'].fillna(data['Visibility(mi)'].mean(), inplace=True)\n",
    "data['Visibility(mi)'].isnull().sum()"
   ]
  },
  {
   "cell_type": "code",
   "execution_count": 27,
   "id": "77f40005",
   "metadata": {},
   "outputs": [
    {
     "data": {
      "text/plain": [
       "0"
      ]
     },
     "execution_count": 27,
     "metadata": {},
     "output_type": "execute_result"
    }
   ],
   "source": [
    "data['Wind_Speed(mph)'].fillna(data['Wind_Speed(mph)'].mean(), inplace=True)\n",
    "data['Wind_Speed(mph)'].isnull().sum()"
   ]
  },
  {
   "cell_type": "code",
   "execution_count": 28,
   "id": "4ac0e170",
   "metadata": {},
   "outputs": [
    {
     "data": {
      "text/plain": [
       "20"
      ]
     },
     "execution_count": 28,
     "metadata": {},
     "output_type": "execute_result"
    }
   ],
   "source": [
    "data['Weather_Condition'].isnull().sum()"
   ]
  },
  {
   "cell_type": "code",
   "execution_count": 29,
   "id": "4ebef1e5",
   "metadata": {},
   "outputs": [
    {
     "data": {
      "text/plain": [
       "Clear                     1776\n",
       "Overcast                   316\n",
       "Partly Cloudy              235\n",
       "Mostly Cloudy              149\n",
       "Scattered Clouds           109\n",
       "Light Snow                 104\n",
       "Light Rain                  44\n",
       "Haze                        30\n",
       "Rain                        28\n",
       "Light Freezing Drizzle      10\n",
       "Heavy Rain                   3\n",
       "Snow                         2\n",
       "Fog                          2\n",
       "Light Drizzle                1\n",
       "Shallow Fog                  1\n",
       "Light Freezing Rain          1\n",
       "Cloudy                       1\n",
       "Drizzle                      1\n",
       "Light Rain Showers           1\n",
       "Mist                         1\n",
       "Name: Weather_Condition, dtype: int64"
      ]
     },
     "execution_count": 29,
     "metadata": {},
     "output_type": "execute_result"
    }
   ],
   "source": [
    "data['Weather_Condition'].value_counts()"
   ]
  },
  {
   "cell_type": "code",
   "execution_count": 30,
   "id": "3a0a6a06",
   "metadata": {},
   "outputs": [
    {
     "name": "stdout",
     "output_type": "stream",
     "text": [
      "      Severity           Start_Time             End_Time  Temperature(F)  Pressure(in)  \\\n",
      "439          2  2016-03-01 17:23:06  2016-03-01 18:23:06       48.200000     29.510000   \n",
      "601          3  2016-03-11 07:28:40  2016-03-11 07:58:40       64.490319     29.959202   \n",
      "1478         3  2016-06-27 20:42:18  2016-06-27 22:12:18       95.000000     29.870000   \n",
      "1685         2  2016-06-29 14:44:14  2016-06-29 15:29:14       91.400000     29.940000   \n",
      "1957         2  2016-07-03 03:54:45  2016-07-03 04:40:40       64.490319     29.959202   \n",
      "1968         2  2016-07-03 08:41:05  2016-07-03 09:26:05       64.490319     29.959202   \n",
      "1973         2  2016-07-03 11:59:28  2016-07-03 12:44:28       64.490319     29.959202   \n",
      "1978         2  2016-07-03 13:12:18  2016-07-03 13:57:18       64.490319     29.959202   \n",
      "1989         2  2016-07-03 15:33:37  2016-07-03 17:03:37       64.490319     29.959202   \n",
      "2137         2  2016-07-05 09:44:44  2016-07-05 10:14:44       64.490319     29.959202   \n",
      "2145         2  2016-07-05 10:43:04  2016-07-05 11:13:04       64.490319     29.959202   \n",
      "2342         2  2016-07-07 03:01:28  2016-07-07 04:01:28       64.490319     29.959202   \n",
      "2343         2  2016-07-07 02:54:40  2016-07-07 03:54:40       64.490319     29.959202   \n",
      "2344         2  2016-07-07 02:50:57  2016-07-07 03:50:57       64.490319     29.959202   \n",
      "2360         2  2016-07-07 10:10:21  2016-07-07 10:40:21       64.490319     29.959202   \n",
      "2364         2  2016-07-07 10:31:44  2016-07-07 11:16:44       64.490319     29.959202   \n",
      "2384         2  2016-07-07 12:25:25  2016-07-07 12:55:25       64.490319     29.959202   \n",
      "2769         3  2016-07-12 10:16:39  2016-07-12 10:46:39       75.000000     29.930000   \n",
      "2770         3  2016-07-12 10:15:55  2016-07-12 10:45:55       75.000000     29.930000   \n",
      "2830         3  2016-07-12 15:00:15  2016-07-12 16:15:15       89.100000     29.910000   \n",
      "\n",
      "      Visibility(mi)  Wind_Speed(mph) Weather_Condition Crossing Junction   Stop Traffic_Signal  \\\n",
      "439        10.000000         9.200000               NaN    False    False  False          False   \n",
      "601         9.163876         9.817681               NaN    False    False  False          False   \n",
      "1478       10.000000         6.900000               NaN    False    False  False          False   \n",
      "1685       10.000000        15.000000               NaN    False    False  False          False   \n",
      "1957        9.163876         9.817681               NaN     True    False  False           True   \n",
      "1968        9.163876         9.817681               NaN    False    False  False          False   \n",
      "1973        9.163876         9.817681               NaN    False    False  False          False   \n",
      "1978        9.163876         9.817681               NaN    False    False  False          False   \n",
      "1989        9.163876         9.817681               NaN    False    False  False          False   \n",
      "2137        9.163876         9.817681               NaN    False    False  False           True   \n",
      "2145        9.163876         9.817681               NaN    False    False   True          False   \n",
      "2342        9.163876         9.817681               NaN    False     True  False          False   \n",
      "2343        9.163876         9.817681               NaN    False    False  False          False   \n",
      "2344        9.163876         9.817681               NaN     True    False  False          False   \n",
      "2360        9.163876         9.817681               NaN    False    False  False          False   \n",
      "2364        9.163876         9.817681               NaN    False    False  False          False   \n",
      "2384        9.163876         9.817681               NaN    False    False  False          False   \n",
      "2769       10.000000         9.200000               NaN    False    False  False          False   \n",
      "2770       10.000000         9.200000               NaN    False     True  False          False   \n",
      "2830       10.000000         9.200000               NaN    False     True  False          False   \n",
      "\n",
      "     Sunrise_Sunset Civil_Twilight Nautical_Twilight Astronomical_Twilight  \n",
      "439             Day            Day               Day                   Day  \n",
      "601             Day            Day               Day                   Day  \n",
      "1478          Night            Day               Day                   Day  \n",
      "1685            Day            Day               Day                   Day  \n",
      "1957          Night          Night             Night                 Night  \n",
      "1968            Day            Day               Day                   Day  \n",
      "1973            Day            Day               Day                   Day  \n",
      "1978            Day            Day               Day                   Day  \n",
      "1989            Day            Day               Day                   Day  \n",
      "2137            Day            Day               Day                   Day  \n",
      "2145            Day            Day               Day                   Day  \n",
      "2342          Night          Night             Night                 Night  \n",
      "2343          Night          Night             Night                 Night  \n",
      "2344          Night          Night             Night                 Night  \n",
      "2360            Day            Day               Day                   Day  \n",
      "2364            Day            Day               Day                   Day  \n",
      "2384            Day            Day               Day                   Day  \n",
      "2769            Day            Day               Day                   Day  \n",
      "2770            Day            Day               Day                   Day  \n",
      "2830            Day            Day               Day                   Day  \n"
     ]
    }
   ],
   "source": [
    "# Per le righe con Weather_Condition=NaN, possiamo o rimuovere le intere righe, o assumere Clear come valore, essendo nettamente il più frequente\n",
    "print(data.loc[data['Weather_Condition'].isnull()])"
   ]
  },
  {
   "cell_type": "code",
   "execution_count": 31,
   "id": "79dd2950",
   "metadata": {},
   "outputs": [
    {
     "name": "stdout",
     "output_type": "stream",
     "text": [
      "      Severity           Start_Time             End_Time  Temperature(F)  Pressure(in)  \\\n",
      "0            3  2016-02-08 05:46:00  2016-02-08 11:00:00            36.9         29.68   \n",
      "1            2  2016-02-08 06:07:59  2016-02-08 06:37:59            37.9         29.65   \n",
      "2            2  2016-02-08 06:49:27  2016-02-08 07:19:27            36.0         29.67   \n",
      "3            3  2016-02-08 07:23:34  2016-02-08 07:53:34            35.1         29.64   \n",
      "4            2  2016-02-08 07:39:07  2016-02-08 08:09:07            36.0         29.65   \n",
      "...        ...                  ...                  ...             ...           ...   \n",
      "2829         3  2016-07-12 14:43:08  2016-07-12 15:13:08            93.9         29.88   \n",
      "2831         2  2016-07-12 15:12:42  2016-07-12 16:27:42            87.1         29.91   \n",
      "2832         2  2016-07-12 15:45:38  2016-07-12 17:00:38            88.0         29.89   \n",
      "2833         3  2016-07-12 15:26:19  2016-07-12 16:41:19            89.6         29.91   \n",
      "2834         2  2016-07-12 15:50:04  2016-07-12 17:05:04            84.2         30.03   \n",
      "\n",
      "      Visibility(mi)  Wind_Speed(mph) Weather_Condition Crossing Junction   Stop Traffic_Signal  \\\n",
      "0               10.0         9.817681        Light Rain    False    False  False          False   \n",
      "1               10.0         9.817681        Light Rain    False    False  False          False   \n",
      "2               10.0         3.500000          Overcast    False    False  False           True   \n",
      "3                9.0         4.600000     Mostly Cloudy    False    False  False          False   \n",
      "4                6.0         3.500000     Mostly Cloudy    False    False  False           True   \n",
      "...              ...              ...               ...      ...      ...    ...            ...   \n",
      "2829            10.0        10.400000             Clear    False    False  False          False   \n",
      "2831            10.0         6.900000             Clear    False    False  False          False   \n",
      "2832            10.0         9.200000             Clear    False    False  False          False   \n",
      "2833            10.0         3.500000             Clear     True    False  False           True   \n",
      "2834            10.0         6.900000             Clear    False    False  False          False   \n",
      "\n",
      "     Sunrise_Sunset Civil_Twilight Nautical_Twilight Astronomical_Twilight  \n",
      "0             Night          Night             Night                 Night  \n",
      "1             Night          Night             Night                   Day  \n",
      "2             Night          Night               Day                   Day  \n",
      "3             Night            Day               Day                   Day  \n",
      "4               Day            Day               Day                   Day  \n",
      "...             ...            ...               ...                   ...  \n",
      "2829            Day            Day               Day                   Day  \n",
      "2831            Day            Day               Day                   Day  \n",
      "2832            Day            Day               Day                   Day  \n",
      "2833            Day            Day               Day                   Day  \n",
      "2834            Day            Day               Day                   Day  \n",
      "\n",
      "[2815 rows x 16 columns]\n"
     ]
    }
   ],
   "source": [
    "# Notiamo che molte righe in cui è NaN, corrispondono a righe in cui prima abbiamo sostituito alcuni NaN con valori medi,\n",
    "# ha quindi senso togliere l'intera riga\n",
    "data = data.dropna(subset=['Weather_Condition'])\n",
    "print(data)"
   ]
  },
  {
   "cell_type": "code",
   "execution_count": 32,
   "id": "e42df961",
   "metadata": {
    "scrolled": true
   },
   "outputs": [
    {
     "name": "stdout",
     "output_type": "stream",
     "text": [
      "      Severity           Start_Time             End_Time  Temperature(F)  Pressure(in)  \\\n",
      "0            3  2016-02-08 05:46:00  2016-02-08 11:00:00            36.9         29.68   \n",
      "1            2  2016-02-08 06:07:59  2016-02-08 06:37:59            37.9         29.65   \n",
      "2            2  2016-02-08 06:49:27  2016-02-08 07:19:27            36.0         29.67   \n",
      "3            3  2016-02-08 07:23:34  2016-02-08 07:53:34            35.1         29.64   \n",
      "4            2  2016-02-08 07:39:07  2016-02-08 08:09:07            36.0         29.65   \n",
      "...        ...                  ...                  ...             ...           ...   \n",
      "2810         3  2016-07-12 14:43:08  2016-07-12 15:13:08            93.9         29.88   \n",
      "2811         2  2016-07-12 15:12:42  2016-07-12 16:27:42            87.1         29.91   \n",
      "2812         2  2016-07-12 15:45:38  2016-07-12 17:00:38            88.0         29.89   \n",
      "2813         3  2016-07-12 15:26:19  2016-07-12 16:41:19            89.6         29.91   \n",
      "2814         2  2016-07-12 15:50:04  2016-07-12 17:05:04            84.2         30.03   \n",
      "\n",
      "      Visibility(mi)  Wind_Speed(mph) Weather_Condition Crossing Junction   Stop Traffic_Signal  \\\n",
      "0               10.0         9.817681        Light Rain    False    False  False          False   \n",
      "1               10.0         9.817681        Light Rain    False    False  False          False   \n",
      "2               10.0         3.500000          Overcast    False    False  False           True   \n",
      "3                9.0         4.600000     Mostly Cloudy    False    False  False          False   \n",
      "4                6.0         3.500000     Mostly Cloudy    False    False  False           True   \n",
      "...              ...              ...               ...      ...      ...    ...            ...   \n",
      "2810            10.0        10.400000             Clear    False    False  False          False   \n",
      "2811            10.0         6.900000             Clear    False    False  False          False   \n",
      "2812            10.0         9.200000             Clear    False    False  False          False   \n",
      "2813            10.0         3.500000             Clear     True    False  False           True   \n",
      "2814            10.0         6.900000             Clear    False    False  False          False   \n",
      "\n",
      "     Sunrise_Sunset Civil_Twilight Nautical_Twilight Astronomical_Twilight  \n",
      "0             Night          Night             Night                 Night  \n",
      "1             Night          Night             Night                   Day  \n",
      "2             Night          Night               Day                   Day  \n",
      "3             Night            Day               Day                   Day  \n",
      "4               Day            Day               Day                   Day  \n",
      "...             ...            ...               ...                   ...  \n",
      "2810            Day            Day               Day                   Day  \n",
      "2811            Day            Day               Day                   Day  \n",
      "2812            Day            Day               Day                   Day  \n",
      "2813            Day            Day               Day                   Day  \n",
      "2814            Day            Day               Day                   Day  \n",
      "\n",
      "[2815 rows x 16 columns]\n"
     ]
    }
   ],
   "source": [
    "# Rinumeriamo gli indici delle righe\n",
    "data = data.reset_index(drop=True)\n",
    "print(data)"
   ]
  },
  {
   "cell_type": "code",
   "execution_count": 33,
   "id": "50e8fcfb",
   "metadata": {},
   "outputs": [
    {
     "data": {
      "text/plain": [
       "False"
      ]
     },
     "execution_count": 33,
     "metadata": {},
     "output_type": "execute_result"
    }
   ],
   "source": [
    "# Verifichiamo se ci sono ancora valori NaN da correggere\n",
    "data.isna().any().any()"
   ]
  },
  {
   "cell_type": "code",
   "execution_count": 34,
   "id": "a7d0192e",
   "metadata": {},
   "outputs": [
    {
     "name": "stdout",
     "output_type": "stream",
     "text": [
      "      Severity          Start_Time            End_Time  Temperature(F)  Pressure(in)  \\\n",
      "0            3 2016-02-08 05:46:00 2016-02-08 11:00:00            36.9         29.68   \n",
      "1            2 2016-02-08 06:07:59 2016-02-08 06:37:59            37.9         29.65   \n",
      "2            2 2016-02-08 06:49:27 2016-02-08 07:19:27            36.0         29.67   \n",
      "3            3 2016-02-08 07:23:34 2016-02-08 07:53:34            35.1         29.64   \n",
      "4            2 2016-02-08 07:39:07 2016-02-08 08:09:07            36.0         29.65   \n",
      "...        ...                 ...                 ...             ...           ...   \n",
      "2810         3 2016-07-12 14:43:08 2016-07-12 15:13:08            93.9         29.88   \n",
      "2811         2 2016-07-12 15:12:42 2016-07-12 16:27:42            87.1         29.91   \n",
      "2812         2 2016-07-12 15:45:38 2016-07-12 17:00:38            88.0         29.89   \n",
      "2813         3 2016-07-12 15:26:19 2016-07-12 16:41:19            89.6         29.91   \n",
      "2814         2 2016-07-12 15:50:04 2016-07-12 17:05:04            84.2         30.03   \n",
      "\n",
      "      Visibility(mi)  Wind_Speed(mph) Weather_Condition Crossing Junction   Stop Traffic_Signal  \\\n",
      "0               10.0         9.817681        Light Rain    False    False  False          False   \n",
      "1               10.0         9.817681        Light Rain    False    False  False          False   \n",
      "2               10.0         3.500000          Overcast    False    False  False           True   \n",
      "3                9.0         4.600000     Mostly Cloudy    False    False  False          False   \n",
      "4                6.0         3.500000     Mostly Cloudy    False    False  False           True   \n",
      "...              ...              ...               ...      ...      ...    ...            ...   \n",
      "2810            10.0        10.400000             Clear    False    False  False          False   \n",
      "2811            10.0         6.900000             Clear    False    False  False          False   \n",
      "2812            10.0         9.200000             Clear    False    False  False          False   \n",
      "2813            10.0         3.500000             Clear     True    False  False           True   \n",
      "2814            10.0         6.900000             Clear    False    False  False          False   \n",
      "\n",
      "     Sunrise_Sunset Civil_Twilight Nautical_Twilight Astronomical_Twilight  \n",
      "0             Night          Night             Night                 Night  \n",
      "1             Night          Night             Night                   Day  \n",
      "2             Night          Night               Day                   Day  \n",
      "3             Night            Day               Day                   Day  \n",
      "4               Day            Day               Day                   Day  \n",
      "...             ...            ...               ...                   ...  \n",
      "2810            Day            Day               Day                   Day  \n",
      "2811            Day            Day               Day                   Day  \n",
      "2812            Day            Day               Day                   Day  \n",
      "2813            Day            Day               Day                   Day  \n",
      "2814            Day            Day               Day                   Day  \n",
      "\n",
      "[2815 rows x 16 columns]\n"
     ]
    }
   ],
   "source": [
    "data['Start_Time'] = pandas.to_datetime(data['Start_Time'])\n",
    "data['End_Time'] = pandas.to_datetime(data['End_Time'])\n",
    "print(data)"
   ]
  },
  {
   "cell_type": "code",
   "execution_count": 35,
   "id": "a6d52e45",
   "metadata": {},
   "outputs": [
    {
     "name": "stdout",
     "output_type": "stream",
     "text": [
      "      Severity          Start_Time            End_Time  Temperature(F)  Pressure(in)  \\\n",
      "0            3 2016-02-08 05:46:00 2016-02-08 11:00:00            36.9         29.68   \n",
      "1            2 2016-02-08 06:07:59 2016-02-08 06:37:59            37.9         29.65   \n",
      "2            2 2016-02-08 06:49:27 2016-02-08 07:19:27            36.0         29.67   \n",
      "3            3 2016-02-08 07:23:34 2016-02-08 07:53:34            35.1         29.64   \n",
      "4            2 2016-02-08 07:39:07 2016-02-08 08:09:07            36.0         29.65   \n",
      "...        ...                 ...                 ...             ...           ...   \n",
      "2810         3 2016-07-12 14:43:08 2016-07-12 15:13:08            93.9         29.88   \n",
      "2811         2 2016-07-12 15:12:42 2016-07-12 16:27:42            87.1         29.91   \n",
      "2812         2 2016-07-12 15:45:38 2016-07-12 17:00:38            88.0         29.89   \n",
      "2813         3 2016-07-12 15:26:19 2016-07-12 16:41:19            89.6         29.91   \n",
      "2814         2 2016-07-12 15:50:04 2016-07-12 17:05:04            84.2         30.03   \n",
      "\n",
      "      Visibility(mi)  Wind_Speed(mph) Weather_Condition Crossing Junction   Stop Traffic_Signal  \\\n",
      "0               10.0         9.817681        Light Rain    False    False  False          False   \n",
      "1               10.0         9.817681        Light Rain    False    False  False          False   \n",
      "2               10.0         3.500000          Overcast    False    False  False           True   \n",
      "3                9.0         4.600000     Mostly Cloudy    False    False  False          False   \n",
      "4                6.0         3.500000     Mostly Cloudy    False    False  False           True   \n",
      "...              ...              ...               ...      ...      ...    ...            ...   \n",
      "2810            10.0        10.400000             Clear    False    False  False          False   \n",
      "2811            10.0         6.900000             Clear    False    False  False          False   \n",
      "2812            10.0         9.200000             Clear    False    False  False          False   \n",
      "2813            10.0         3.500000             Clear     True    False  False           True   \n",
      "2814            10.0         6.900000             Clear    False    False  False          False   \n",
      "\n",
      "     Sunrise_Sunset Civil_Twilight Nautical_Twilight Astronomical_Twilight  Duration  \n",
      "0             Night          Night             Night                 Night       314  \n",
      "1             Night          Night             Night                   Day        30  \n",
      "2             Night          Night               Day                   Day        30  \n",
      "3             Night            Day               Day                   Day        30  \n",
      "4               Day            Day               Day                   Day        30  \n",
      "...             ...            ...               ...                   ...       ...  \n",
      "2810            Day            Day               Day                   Day        30  \n",
      "2811            Day            Day               Day                   Day        75  \n",
      "2812            Day            Day               Day                   Day        75  \n",
      "2813            Day            Day               Day                   Day        75  \n",
      "2814            Day            Day               Day                   Day        75  \n",
      "\n",
      "[2815 rows x 17 columns]\n"
     ]
    }
   ],
   "source": [
    "data['Duration'] = data.End_Time - data.Start_Time \n",
    "data['Duration'] = data['Duration'].apply(lambda x:round(x.total_seconds() / 60) ) \n",
    "print(data)"
   ]
  },
  {
   "cell_type": "code",
   "execution_count": 36,
   "id": "ce234ed2",
   "metadata": {},
   "outputs": [
    {
     "name": "stdout",
     "output_type": "stream",
     "text": [
      "      Severity          Start_Time  Temperature(F)  Pressure(in)  Visibility(mi)  Wind_Speed(mph)  \\\n",
      "0            3 2016-02-08 05:46:00            36.9         29.68            10.0         9.817681   \n",
      "1            2 2016-02-08 06:07:59            37.9         29.65            10.0         9.817681   \n",
      "2            2 2016-02-08 06:49:27            36.0         29.67            10.0         3.500000   \n",
      "3            3 2016-02-08 07:23:34            35.1         29.64             9.0         4.600000   \n",
      "4            2 2016-02-08 07:39:07            36.0         29.65             6.0         3.500000   \n",
      "...        ...                 ...             ...           ...             ...              ...   \n",
      "2810         3 2016-07-12 14:43:08            93.9         29.88            10.0        10.400000   \n",
      "2811         2 2016-07-12 15:12:42            87.1         29.91            10.0         6.900000   \n",
      "2812         2 2016-07-12 15:45:38            88.0         29.89            10.0         9.200000   \n",
      "2813         3 2016-07-12 15:26:19            89.6         29.91            10.0         3.500000   \n",
      "2814         2 2016-07-12 15:50:04            84.2         30.03            10.0         6.900000   \n",
      "\n",
      "     Weather_Condition Crossing Junction   Stop Traffic_Signal Sunrise_Sunset Civil_Twilight  \\\n",
      "0           Light Rain    False    False  False          False          Night          Night   \n",
      "1           Light Rain    False    False  False          False          Night          Night   \n",
      "2             Overcast    False    False  False           True          Night          Night   \n",
      "3        Mostly Cloudy    False    False  False          False          Night            Day   \n",
      "4        Mostly Cloudy    False    False  False           True            Day            Day   \n",
      "...                ...      ...      ...    ...            ...            ...            ...   \n",
      "2810             Clear    False    False  False          False            Day            Day   \n",
      "2811             Clear    False    False  False          False            Day            Day   \n",
      "2812             Clear    False    False  False          False            Day            Day   \n",
      "2813             Clear     True    False  False           True            Day            Day   \n",
      "2814             Clear    False    False  False          False            Day            Day   \n",
      "\n",
      "     Nautical_Twilight Astronomical_Twilight  Duration  \n",
      "0                Night                 Night       314  \n",
      "1                Night                   Day        30  \n",
      "2                  Day                   Day        30  \n",
      "3                  Day                   Day        30  \n",
      "4                  Day                   Day        30  \n",
      "...                ...                   ...       ...  \n",
      "2810               Day                   Day        30  \n",
      "2811               Day                   Day        75  \n",
      "2812               Day                   Day        75  \n",
      "2813               Day                   Day        75  \n",
      "2814               Day                   Day        75  \n",
      "\n",
      "[2815 rows x 16 columns]\n"
     ]
    }
   ],
   "source": [
    "# A questo punto la colonna End_Time è superflua\n",
    "data = data.drop(['End_Time'], axis=1)\n",
    "print(data)"
   ]
  },
  {
   "cell_type": "code",
   "execution_count": 37,
   "id": "d0598744",
   "metadata": {},
   "outputs": [],
   "source": [
    "data = data.replace([True, False], [1, 0])\n",
    "data['Sunrise_Sunset'] = data['Sunrise_Sunset'].replace({'Day': 1, 'Night': 0})\n",
    "data['Civil_Twilight'] = data['Civil_Twilight'].replace({'Day': 1, 'Night': 0})\n",
    "data['Nautical_Twilight'] = data['Nautical_Twilight'].replace({'Day': 1, 'Night': 0})\n",
    "data['Astronomical_Twilight'] = data['Astronomical_Twilight'].replace({'Day': 1, 'Night': 0})"
   ]
  },
  {
   "cell_type": "code",
   "execution_count": 38,
   "id": "e1525ae8",
   "metadata": {},
   "outputs": [],
   "source": [
    "data.loc[data['Weather_Condition']=='Clear', 'Weather_Condition'] = '0'\n",
    "data.loc[(data['Weather_Condition']=='Overcast')|(data['Weather_Condition']=='Mostly Cloudy'), 'Weather_Condition'] = '1'\n",
    "data.loc[(data['Weather_Condition']=='Partly Cloudy')|(data['Weather_Condition']=='Scattered Clouds')|(data['Weather_Condition']=='Cloudy'), 'Weather_Condition'] = '2'\n",
    "data.loc[(data['Weather_Condition']=='Light Snow')|(data['Weather_Condition']=='Snow'), 'Weather_Condition'] = '3'\n",
    "data.loc[(data['Weather_Condition']=='Light Freezing Rain')|(data['Weather_Condition']=='Light Rain')|(data['Weather_Condition']=='Rain')|(data['Weather_Condition']=='Light Drizzle')|(data['Weather_Condition']=='Light Rain Showers')|(data['Weather_Condition']=='Drizzle'), 'Weather_Condition'] = '4'\n",
    "data.loc[data['Weather_Condition']=='Heavy Rain', 'Weather_Condition'] = '5'\n",
    "data.loc[(data['Weather_Condition']=='Light Freezing Rain')|(data['Weather_Condition']=='Light Freezing Drizzle'), 'Weather_Condition'] = '6'\n",
    "data.loc[(data['Weather_Condition']=='Haze')|(data['Weather_Condition']=='Fog')|(data['Weather_Condition']=='Shallow Fog'), 'Weather_Condition'] = '7'\n",
    "data.loc[data['Weather_Condition']=='Mist', 'Weather_Condition'] = '1234567'"
   ]
  },
  {
   "cell_type": "code",
   "execution_count": 39,
   "id": "dc392086",
   "metadata": {},
   "outputs": [
    {
     "name": "stdout",
     "output_type": "stream",
     "text": [
      "      Severity          Start_Time  Temperature(F)  Pressure(in)  Visibility(mi)  Wind_Speed(mph)  \\\n",
      "0            3 2016-02-08 05:46:00            36.9         29.68            10.0         9.817681   \n",
      "1            2 2016-02-08 06:07:59            37.9         29.65            10.0         9.817681   \n",
      "2            2 2016-02-08 06:49:27            36.0         29.67            10.0         3.500000   \n",
      "3            3 2016-02-08 07:23:34            35.1         29.64             9.0         4.600000   \n",
      "4            2 2016-02-08 07:39:07            36.0         29.65             6.0         3.500000   \n",
      "...        ...                 ...             ...           ...             ...              ...   \n",
      "2810         3 2016-07-12 14:43:08            93.9         29.88            10.0        10.400000   \n",
      "2811         2 2016-07-12 15:12:42            87.1         29.91            10.0         6.900000   \n",
      "2812         2 2016-07-12 15:45:38            88.0         29.89            10.0         9.200000   \n",
      "2813         3 2016-07-12 15:26:19            89.6         29.91            10.0         3.500000   \n",
      "2814         2 2016-07-12 15:50:04            84.2         30.03            10.0         6.900000   \n",
      "\n",
      "     Weather_Condition  Crossing  Junction  Stop  Traffic_Signal  Sunrise_Sunset  Civil_Twilight  \\\n",
      "0                    4         0         0     0               0               0               0   \n",
      "1                    4         0         0     0               0               0               0   \n",
      "2                    1         0         0     0               1               0               0   \n",
      "3                    1         0         0     0               0               0               1   \n",
      "4                    1         0         0     0               1               1               1   \n",
      "...                ...       ...       ...   ...             ...             ...             ...   \n",
      "2810                 0         0         0     0               0               1               1   \n",
      "2811                 0         0         0     0               0               1               1   \n",
      "2812                 0         0         0     0               0               1               1   \n",
      "2813                 0         1         0     0               1               1               1   \n",
      "2814                 0         0         0     0               0               1               1   \n",
      "\n",
      "      Nautical_Twilight  Astronomical_Twilight  Duration  \n",
      "0                     0                      0       314  \n",
      "1                     0                      1        30  \n",
      "2                     1                      1        30  \n",
      "3                     1                      1        30  \n",
      "4                     1                      1        30  \n",
      "...                 ...                    ...       ...  \n",
      "2810                  1                      1        30  \n",
      "2811                  1                      1        75  \n",
      "2812                  1                      1        75  \n",
      "2813                  1                      1        75  \n",
      "2814                  1                      1        75  \n",
      "\n",
      "[2815 rows x 16 columns]\n"
     ]
    }
   ],
   "source": [
    "print(data)"
   ]
  },
  {
   "cell_type": "code",
   "execution_count": 40,
   "id": "e24e58ec",
   "metadata": {},
   "outputs": [],
   "source": [
    "data = data.drop(['Start_Time'], axis=1)"
   ]
  },
  {
   "cell_type": "code",
   "execution_count": 41,
   "id": "dfeca844",
   "metadata": {},
   "outputs": [
    {
     "name": "stdout",
     "output_type": "stream",
     "text": [
      "      Severity  Temperature(F)  Pressure(in)  Visibility(mi)  Wind_Speed(mph) Weather_Condition  \\\n",
      "0            3            36.9         29.68            10.0         9.817681                 4   \n",
      "1            2            37.9         29.65            10.0         9.817681                 4   \n",
      "2            2            36.0         29.67            10.0         3.500000                 1   \n",
      "3            3            35.1         29.64             9.0         4.600000                 1   \n",
      "4            2            36.0         29.65             6.0         3.500000                 1   \n",
      "...        ...             ...           ...             ...              ...               ...   \n",
      "2810         3            93.9         29.88            10.0        10.400000                 0   \n",
      "2811         2            87.1         29.91            10.0         6.900000                 0   \n",
      "2812         2            88.0         29.89            10.0         9.200000                 0   \n",
      "2813         3            89.6         29.91            10.0         3.500000                 0   \n",
      "2814         2            84.2         30.03            10.0         6.900000                 0   \n",
      "\n",
      "      Crossing  Junction  Stop  Traffic_Signal  Sunrise_Sunset  Civil_Twilight  Nautical_Twilight  \\\n",
      "0            0         0     0               0               0               0                  0   \n",
      "1            0         0     0               0               0               0                  0   \n",
      "2            0         0     0               1               0               0                  1   \n",
      "3            0         0     0               0               0               1                  1   \n",
      "4            0         0     0               1               1               1                  1   \n",
      "...        ...       ...   ...             ...             ...             ...                ...   \n",
      "2810         0         0     0               0               1               1                  1   \n",
      "2811         0         0     0               0               1               1                  1   \n",
      "2812         0         0     0               0               1               1                  1   \n",
      "2813         1         0     0               1               1               1                  1   \n",
      "2814         0         0     0               0               1               1                  1   \n",
      "\n",
      "      Astronomical_Twilight  Duration  \n",
      "0                         0       314  \n",
      "1                         1        30  \n",
      "2                         1        30  \n",
      "3                         1        30  \n",
      "4                         1        30  \n",
      "...                     ...       ...  \n",
      "2810                      1        30  \n",
      "2811                      1        75  \n",
      "2812                      1        75  \n",
      "2813                      1        75  \n",
      "2814                      1        75  \n",
      "\n",
      "[2815 rows x 15 columns]\n"
     ]
    }
   ],
   "source": [
    "print(data)"
   ]
  },
  {
   "cell_type": "code",
   "execution_count": 42,
   "id": "cbd3f2fd",
   "metadata": {},
   "outputs": [
    {
     "data": {
      "text/plain": [
       "0    1649\n",
       "1    1166\n",
       "Name: Severity4, dtype: int64"
      ]
     },
     "execution_count": 42,
     "metadata": {},
     "output_type": "execute_result"
    }
   ],
   "source": [
    "data['Severity4'] = 0\n",
    "data.loc[(data['Severity'] == 4)|(data['Severity'] == 3), 'Severity4'] = 1\n",
    "\n",
    "\n",
    "\n",
    "data = data.drop(['Severity'], axis = 1)\n",
    "data.Severity4.value_counts()"
   ]
  },
  {
   "cell_type": "code",
   "execution_count": 43,
   "id": "31819934",
   "metadata": {},
   "outputs": [],
   "source": [
    "data['Weather_Condition'] = data['Weather_Condition'].astype(int)"
   ]
  },
  {
   "cell_type": "code",
   "execution_count": 44,
   "id": "bec232eb",
   "metadata": {},
   "outputs": [
    {
     "name": "stdout",
     "output_type": "stream",
     "text": [
      "int32\n"
     ]
    }
   ],
   "source": [
    "print(data['Weather_Condition'].dtype)"
   ]
  },
  {
   "cell_type": "code",
   "execution_count": 45,
   "id": "74767ae1",
   "metadata": {},
   "outputs": [
    {
     "name": "stdout",
     "output_type": "stream",
     "text": [
      "                       Temperature(F)  Pressure(in)  Visibility(mi)  Wind_Speed(mph)  \\\n",
      "Temperature(F)               1.000000     -0.225094        0.489206         0.020707   \n",
      "Pressure(in)                -0.225094      1.000000        0.194281        -0.070998   \n",
      "Visibility(mi)               0.489206      0.194281        1.000000         0.076972   \n",
      "Wind_Speed(mph)              0.020707     -0.070998        0.076972         1.000000   \n",
      "Weather_Condition           -0.012705      0.004890       -0.068999         0.000004   \n",
      "Crossing                    -0.007102      0.014084        0.030681         0.021516   \n",
      "Junction                     0.094129     -0.021612        0.079467         0.048950   \n",
      "Stop                         0.063249     -0.001291        0.027717        -0.023588   \n",
      "Traffic_Signal              -0.098383      0.016809       -0.051233         0.015766   \n",
      "Sunrise_Sunset               0.254557      0.100508        0.070750         0.103384   \n",
      "Civil_Twilight               0.206640      0.094789        0.034743         0.082494   \n",
      "Nautical_Twilight            0.168069      0.050625        0.001700         0.088700   \n",
      "Astronomical_Twilight        0.146148      0.024731       -0.012202         0.080612   \n",
      "Duration                    -0.005619      0.033279        0.024213         0.007357   \n",
      "Severity4                    0.044438     -0.001872        0.046561         0.064632   \n",
      "\n",
      "                       Weather_Condition  Crossing  Junction      Stop  Traffic_Signal  \\\n",
      "Temperature(F)                 -0.012705 -0.007102  0.094129  0.063249       -0.098383   \n",
      "Pressure(in)                    0.004890  0.014084 -0.021612 -0.001291        0.016809   \n",
      "Visibility(mi)                 -0.068999  0.030681  0.079467  0.027717       -0.051233   \n",
      "Wind_Speed(mph)                 0.000004  0.021516  0.048950 -0.023588        0.015766   \n",
      "Weather_Condition               1.000000 -0.006078 -0.006942 -0.003946       -0.007330   \n",
      "Crossing                       -0.006078  1.000000 -0.111178  0.126817        0.490256   \n",
      "Junction                       -0.006942 -0.111178  1.000000 -0.066072       -0.136731   \n",
      "Stop                           -0.003946  0.126817 -0.066072  1.000000       -0.065631   \n",
      "Traffic_Signal                 -0.007330  0.490256 -0.136731 -0.065631        1.000000   \n",
      "Sunrise_Sunset                  0.011029 -0.012303  0.004275 -0.003671        0.010548   \n",
      "Civil_Twilight                  0.009489 -0.016464  0.002500 -0.005069        0.007301   \n",
      "Nautical_Twilight               0.008180 -0.003379  0.000705 -0.016041        0.021945   \n",
      "Astronomical_Twilight           0.006976 -0.011539 -0.008540 -0.009748        0.011493   \n",
      "Duration                       -0.007578 -0.019249  0.001202  0.018201       -0.034339   \n",
      "Severity4                      -0.015852 -0.177232  0.170890 -0.111114       -0.222529   \n",
      "\n",
      "                       Sunrise_Sunset  Civil_Twilight  Nautical_Twilight  Astronomical_Twilight  \\\n",
      "Temperature(F)               0.254557        0.206640           0.168069               0.146148   \n",
      "Pressure(in)                 0.100508        0.094789           0.050625               0.024731   \n",
      "Visibility(mi)               0.070750        0.034743           0.001700              -0.012202   \n",
      "Wind_Speed(mph)              0.103384        0.082494           0.088700               0.080612   \n",
      "Weather_Condition            0.011029        0.009489           0.008180               0.006976   \n",
      "Crossing                    -0.012303       -0.016464          -0.003379              -0.011539   \n",
      "Junction                     0.004275        0.002500           0.000705              -0.008540   \n",
      "Stop                        -0.003671       -0.005069          -0.016041              -0.009748   \n",
      "Traffic_Signal               0.010548        0.007301           0.021945               0.011493   \n",
      "Sunrise_Sunset               1.000000        0.860178           0.741518               0.632356   \n",
      "Civil_Twilight               0.860178        1.000000           0.862052               0.735145   \n",
      "Nautical_Twilight            0.741518        0.862052           1.000000               0.852785   \n",
      "Astronomical_Twilight        0.632356        0.735145           0.852785               1.000000   \n",
      "Duration                     0.013798        0.024637           0.018611               0.021206   \n",
      "Severity4                   -0.030769       -0.009544          -0.004468               0.005356   \n",
      "\n",
      "                       Duration  Severity4  \n",
      "Temperature(F)        -0.005619   0.044438  \n",
      "Pressure(in)           0.033279  -0.001872  \n",
      "Visibility(mi)         0.024213   0.046561  \n",
      "Wind_Speed(mph)        0.007357   0.064632  \n",
      "Weather_Condition     -0.007578  -0.015852  \n",
      "Crossing              -0.019249  -0.177232  \n",
      "Junction               0.001202   0.170890  \n",
      "Stop                   0.018201  -0.111114  \n",
      "Traffic_Signal        -0.034339  -0.222529  \n",
      "Sunrise_Sunset         0.013798  -0.030769  \n",
      "Civil_Twilight         0.024637  -0.009544  \n",
      "Nautical_Twilight      0.018611  -0.004468  \n",
      "Astronomical_Twilight  0.021206   0.005356  \n",
      "Duration               1.000000   0.090754  \n",
      "Severity4              0.090754   1.000000  \n"
     ]
    }
   ],
   "source": [
    "set_option('display.width', 100)\n",
    "correlations = data.corr(method='pearson', numeric_only=True)\n",
    "print(correlations)"
   ]
  },
  {
   "cell_type": "code",
   "execution_count": 46,
   "id": "a69e5e02",
   "metadata": {
    "scrolled": true
   },
   "outputs": [
    {
     "data": {
      "image/png": "[encoded data removed]",
      "text/plain": [
       "<Figure size 640x480 with 2 Axes>"
      ]
     },
     "metadata": {},
     "output_type": "display_data"
    }
   ],
   "source": [
    "# plot matrice di correlazione\n",
    "fig = pyplot.figure()\n",
    "ax = fig.add_subplot(111)\n",
    "cax = ax.matshow(correlations, vmin=-1, vmax=1, cmap='bwr')\n",
    "fig.colorbar(cax)\n",
    "ticks = numpy.arange(0,15,1)\n",
    "ax.set_xticks(ticks)\n",
    "ax.set_yticks(ticks)\n",
    "ax.set_xticklabels(data.columns, rotation=90)\n",
    "ax.set_yticklabels(data.columns)\n",
    "pyplot.show()"
   ]
  },
  {
   "cell_type": "code",
   "execution_count": 47,
   "id": "2cf2afc2",
   "metadata": {},
   "outputs": [],
   "source": [
    "data = data.drop(['Civil_Twilight','Nautical_Twilight','Astronomical_Twilight'], axis = 1)"
   ]
  },
  {
   "cell_type": "code",
   "execution_count": 87,
   "id": "f26f3502",
   "metadata": {},
   "outputs": [
    {
     "data": {
      "image/png": "[encoded data removed]",
      "text/plain": [
       "<Figure size 640x480 with 2 Axes>"
      ]
     },
     "metadata": {},
     "output_type": "display_data"
    }
   ],
   "source": [
    "set_option('display.width', 100)\n",
    "correlations = data.corr(method='pearson', numeric_only=True)\n",
    "# plot matrice di correlazione\n",
    "fig = pyplot.figure()\n",
    "ax = fig.add_subplot(111)\n",
    "cax = ax.matshow(correlations, vmin=-1, vmax=1, cmap='bwr')\n",
    "fig.colorbar(cax)\n",
    "ticks = numpy.arange(0,12,1)\n",
    "ax.set_xticks(ticks)\n",
    "ax.set_yticks(ticks)\n",
    "ax.set_xticklabels(data.columns, rotation=90)\n",
    "ax.set_yticklabels(data.columns)\n",
    "pyplot.show()"
   ]
  },
  {
   "cell_type": "markdown",
   "id": "20d1084b",
   "metadata": {},
   "source": [
    "#### RANDOM FOREST"
   ]
  },
  {
   "cell_type": "code",
   "execution_count": 89,
   "id": "9661d912",
   "metadata": {},
   "outputs": [
    {
     "name": "stdout",
     "output_type": "stream",
     "text": [
      "0.8648731986443258\n"
     ]
    }
   ],
   "source": [
    "from sklearn.ensemble import RandomForestClassifier\n",
    "from sklearn.model_selection import KFold\n",
    "from sklearn.model_selection import cross_val_score\n",
    "array = data.values\n",
    "X = array[:,0:10]\n",
    "Y = array[:,11]\n",
    "num_trees = 200\n",
    "max_features = 10\n",
    "kfold = KFold(n_splits=10, shuffle=True, random_state=7)\n",
    "model = RandomForestClassifier(n_estimators=num_trees, max_features=max_features)\n",
    "results = cross_val_score(model, X, Y, cv=kfold)\n",
    "print(results.mean())"
   ]
  },
  {
   "cell_type": "code",
   "execution_count": 49,
   "id": "638025ac",
   "metadata": {},
   "outputs": [
    {
     "name": "stderr",
     "output_type": "stream",
     "text": [
      "C:\\Users\\crist\\anaconda3\\lib\\site-packages\\sklearn\\ensemble\\_base.py:166: FutureWarning: `base_estimator` was renamed to `estimator` in version 1.2 and will be removed in 1.4.\n",
      "  warnings.warn(\n",
      "C:\\Users\\crist\\anaconda3\\lib\\site-packages\\sklearn\\ensemble\\_base.py:166: FutureWarning: `base_estimator` was renamed to `estimator` in version 1.2 and will be removed in 1.4.\n",
      "  warnings.warn(\n",
      "C:\\Users\\crist\\anaconda3\\lib\\site-packages\\sklearn\\ensemble\\_base.py:166: FutureWarning: `base_estimator` was renamed to `estimator` in version 1.2 and will be removed in 1.4.\n",
      "  warnings.warn(\n",
      "C:\\Users\\crist\\anaconda3\\lib\\site-packages\\sklearn\\ensemble\\_base.py:166: FutureWarning: `base_estimator` was renamed to `estimator` in version 1.2 and will be removed in 1.4.\n",
      "  warnings.warn(\n",
      "C:\\Users\\crist\\anaconda3\\lib\\site-packages\\sklearn\\ensemble\\_base.py:166: FutureWarning: `base_estimator` was renamed to `estimator` in version 1.2 and will be removed in 1.4.\n",
      "  warnings.warn(\n",
      "C:\\Users\\crist\\anaconda3\\lib\\site-packages\\sklearn\\ensemble\\_base.py:166: FutureWarning: `base_estimator` was renamed to `estimator` in version 1.2 and will be removed in 1.4.\n",
      "  warnings.warn(\n",
      "C:\\Users\\crist\\anaconda3\\lib\\site-packages\\sklearn\\ensemble\\_base.py:166: FutureWarning: `base_estimator` was renamed to `estimator` in version 1.2 and will be removed in 1.4.\n",
      "  warnings.warn(\n",
      "C:\\Users\\crist\\anaconda3\\lib\\site-packages\\sklearn\\ensemble\\_base.py:166: FutureWarning: `base_estimator` was renamed to `estimator` in version 1.2 and will be removed in 1.4.\n",
      "  warnings.warn(\n",
      "C:\\Users\\crist\\anaconda3\\lib\\site-packages\\sklearn\\ensemble\\_base.py:166: FutureWarning: `base_estimator` was renamed to `estimator` in version 1.2 and will be removed in 1.4.\n",
      "  warnings.warn(\n",
      "C:\\Users\\crist\\anaconda3\\lib\\site-packages\\sklearn\\ensemble\\_base.py:166: FutureWarning: `base_estimator` was renamed to `estimator` in version 1.2 and will be removed in 1.4.\n",
      "  warnings.warn(\n"
     ]
    },
    {
     "name": "stdout",
     "output_type": "stream",
     "text": [
      "0.6444019585573307\n"
     ]
    }
   ],
   "source": [
    "from sklearn.model_selection import KFold\n",
    "from sklearn.model_selection import cross_val_score\n",
    "from sklearn.ensemble import BaggingClassifier\n",
    "from sklearn.tree import DecisionTreeClassifier\n",
    "array = data.values\n",
    "X = array[:,0:10]\n",
    "Y = array[:,11]\n",
    "seed = 7\n",
    "kfold = KFold(n_splits=10, shuffle=True, random_state=seed)\n",
    "cart = DecisionTreeClassifier()\n",
    "num_trees = 100\n",
    "model = BaggingClassifier(base_estimator=cart, n_estimators=num_trees, random_state=seed)\n",
    "results = cross_val_score(model, X, Y, cv=kfold)\n",
    "print(results.mean())"
   ]
  },
  {
   "cell_type": "code",
   "execution_count": 50,
   "id": "0c1debe6-eb6e-4706-827c-2e6c15fbf774",
   "metadata": {},
   "outputs": [
    {
     "data": {
      "text/plain": [
       "\"\\ncategorical_columns = data.select_dtypes(exclude='number').columns.tolist()\\ndata = data.drop(columns = categorical_columns)\\narray = data.values\\n\\nX = array[:,1:12]\\nY = array[:,0]\\n\\nprint(data)\\n# estrazione features\\ntest = SelectKBest(score_func=chi2, k=4)\\nfit = test.fit(X,Y)\\n\\n# riassunto punteggi\\nprint(fit.scores_)\\nfeatures = fit.transform(X)\\n\\n# riassunto features selezionate\\nprint(features[0:5,:])\\n\\n\""
      ]
     },
     "execution_count": 50,
     "metadata": {},
     "output_type": "execute_result"
    }
   ],
   "source": [
    "\"\"\"\n",
    "categorical_columns = data.select_dtypes(exclude='number').columns.tolist()\n",
    "data = data.drop(columns = categorical_columns)\n",
    "array = data.values\n",
    "\n",
    "X = array[:,1:12]\n",
    "Y = array[:,0]\n",
    "\n",
    "print(data)\n",
    "# estrazione features\n",
    "test = SelectKBest(score_func=chi2, k=4)\n",
    "fit = test.fit(X,Y)\n",
    "\n",
    "# riassunto punteggi\n",
    "print(fit.scores_)\n",
    "features = fit.transform(X)\n",
    "\n",
    "# riassunto features selezionate\n",
    "print(features[0:5,:])\n",
    "\n",
    "\"\"\""
   ]
  },
  {
   "cell_type": "code",
   "execution_count": 51,
   "id": "0e95c013-64eb-47a0-8570-cbf01230b890",
   "metadata": {},
   "outputs": [],
   "source": [
    "#import sklearn.linear_model\n",
    "#from sklearn.feature_selection import RFE\n",
    "#from sklearn.linear_model import LogisticRegression\n",
    "# load data\n",
    "\n",
    "\n",
    "#array = data2.values\n",
    "#X = array[:,0:20]\n",
    "#Y = array[:,20]\n",
    "# feature extraction\n",
    "#model = LogisticRegression()\n",
    "#rfe = RFE(model, 3)\n",
    "#fit = rfe.fit(X, Y)\n",
    "#print(\"Num Features: %d\") % fit.n_features_\n",
    "#print(\"Selected Features: %s\") % fit.support_\n",
    "#print(\"Feature Ranking: %s\") % fit.ranking_"
   ]
  },
  {
   "cell_type": "markdown",
   "id": "acf003d2",
   "metadata": {},
   "source": [
    "## PROVA CON UNISELECT"
   ]
  },
  {
   "cell_type": "code",
   "execution_count": 52,
   "id": "0f85b81d-01e2-424b-ad21-f12c72d95e35",
   "metadata": {},
   "outputs": [
    {
     "name": "stdout",
     "output_type": "stream",
     "text": [
      "          ID   Source  Severity           Start_Time             End_Time  Start_Lat   Start_Lng  \\\n",
      "0        A-1  Source2         3  2016-02-08 05:46:00  2016-02-08 11:00:00  39.865147  -84.058723   \n",
      "1        A-2  Source2         2  2016-02-08 06:07:59  2016-02-08 06:37:59  39.928059  -82.831184   \n",
      "2        A-3  Source2         2  2016-02-08 06:49:27  2016-02-08 07:19:27  39.063148  -84.032608   \n",
      "3        A-4  Source2         3  2016-02-08 07:23:34  2016-02-08 07:53:34  39.747753  -84.205582   \n",
      "4        A-5  Source2         2  2016-02-08 07:39:07  2016-02-08 08:09:07  39.627781  -84.188354   \n",
      "...      ...      ...       ...                  ...                  ...        ...         ...   \n",
      "2831  A-2832  Source2         2  2016-07-12 15:12:42  2016-07-12 16:27:42  38.474407 -121.419067   \n",
      "2832  A-2833  Source2         2  2016-07-12 15:45:38  2016-07-12 17:00:38  38.495541 -121.511070   \n",
      "2833  A-2834  Source2         3  2016-07-12 15:26:19  2016-07-12 16:41:19  38.588917 -121.415375   \n",
      "2834  A-2835  Source2         2  2016-07-12 15:50:04  2016-07-12 17:05:04  38.742481 -120.747398   \n",
      "2835  A-2836  Source2         2  2016-07-12 16:12:21  2016-07-12 16:42:21  38.567966 -122.829018   \n",
      "\n",
      "      End_Lat  End_Lng  Distance(mi)  ... Roundabout Station   Stop Traffic_Calming  \\\n",
      "0         NaN      NaN          0.01  ...      False   False  False           False   \n",
      "1         NaN      NaN          0.01  ...      False   False  False           False   \n",
      "2         NaN      NaN          0.01  ...      False   False  False           False   \n",
      "3         NaN      NaN          0.01  ...      False   False  False           False   \n",
      "4         NaN      NaN          0.01  ...      False   False  False           False   \n",
      "...       ...      ...           ...  ...        ...     ...    ...             ...   \n",
      "2831      NaN      NaN          0.00  ...      False   False  False           False   \n",
      "2832      NaN      NaN          0.00  ...      False   False  False           False   \n",
      "2833      NaN      NaN          0.00  ...      False   False  False           False   \n",
      "2834      NaN      NaN          0.00  ...      False   False  False           False   \n",
      "2835      NaN      NaN          0.00  ...        NaN     NaN    NaN             NaN   \n",
      "\n",
      "     Traffic_Signal Turning_Loop Sunrise_Sunset Civil_Twilight Nautical_Twilight  \\\n",
      "0             False        False          Night          Night             Night   \n",
      "1             False        False          Night          Night             Night   \n",
      "2              True        False          Night          Night               Day   \n",
      "3             False        False          Night            Day               Day   \n",
      "4              True        False            Day            Day               Day   \n",
      "...             ...          ...            ...            ...               ...   \n",
      "2831          False        False            Day            Day               Day   \n",
      "2832          False        False            Day            Day               Day   \n",
      "2833           True        False            Day            Day               Day   \n",
      "2834          False        False            Day            Day               Day   \n",
      "2835            NaN          NaN            NaN            NaN               NaN   \n",
      "\n",
      "     Astronomical_Twilight  \n",
      "0                    Night  \n",
      "1                      Day  \n",
      "2                      Day  \n",
      "3                      Day  \n",
      "4                      Day  \n",
      "...                    ...  \n",
      "2831                   Day  \n",
      "2832                   Day  \n",
      "2833                   Day  \n",
      "2834                   Day  \n",
      "2835                   NaN  \n",
      "\n",
      "[2836 rows x 46 columns]\n"
     ]
    }
   ],
   "source": [
    "df = pandas.read_csv('./US_Accidents_March23.csv')\n",
    "print(df)"
   ]
  },
  {
   "cell_type": "code",
   "execution_count": 53,
   "id": "7dd20b78",
   "metadata": {
    "scrolled": true
   },
   "outputs": [
    {
     "name": "stdout",
     "output_type": "stream",
     "text": [
      "      Severity          Start_Time            End_Time  Start_Lat   Start_Lng  End_Lat  End_Lng  \\\n",
      "0            3 2016-02-08 05:46:00 2016-02-08 11:00:00  39.865147  -84.058723      NaN      NaN   \n",
      "1            2 2016-02-08 06:07:59 2016-02-08 06:37:59  39.928059  -82.831184      NaN      NaN   \n",
      "2            2 2016-02-08 06:49:27 2016-02-08 07:19:27  39.063148  -84.032608      NaN      NaN   \n",
      "3            3 2016-02-08 07:23:34 2016-02-08 07:53:34  39.747753  -84.205582      NaN      NaN   \n",
      "4            2 2016-02-08 07:39:07 2016-02-08 08:09:07  39.627781  -84.188354      NaN      NaN   \n",
      "...        ...                 ...                 ...        ...         ...      ...      ...   \n",
      "2831         2 2016-07-12 15:12:42 2016-07-12 16:27:42  38.474407 -121.419067      NaN      NaN   \n",
      "2832         2 2016-07-12 15:45:38 2016-07-12 17:00:38  38.495541 -121.511070      NaN      NaN   \n",
      "2833         3 2016-07-12 15:26:19 2016-07-12 16:41:19  38.588917 -121.415375      NaN      NaN   \n",
      "2834         2 2016-07-12 15:50:04 2016-07-12 17:05:04  38.742481 -120.747398      NaN      NaN   \n",
      "2835         2 2016-07-12 16:12:21 2016-07-12 16:42:21  38.567966 -122.829018      NaN      NaN   \n",
      "\n",
      "      Distance(mi)  Temperature(F)  Wind_Chill(F)  ...  Roundabout  Station   Stop  \\\n",
      "0             0.01            36.9            NaN  ...       False    False  False   \n",
      "1             0.01            37.9            NaN  ...       False    False  False   \n",
      "2             0.01            36.0           33.3  ...       False    False  False   \n",
      "3             0.01            35.1           31.0  ...       False    False  False   \n",
      "4             0.01            36.0           33.3  ...       False    False  False   \n",
      "...            ...             ...            ...  ...         ...      ...    ...   \n",
      "2831          0.00            87.1            NaN  ...       False    False  False   \n",
      "2832          0.00            88.0            NaN  ...       False    False  False   \n",
      "2833          0.00            89.6            NaN  ...       False    False  False   \n",
      "2834          0.00            84.2            NaN  ...       False    False  False   \n",
      "2835          0.00             NaN            NaN  ...         NaN      NaN    NaN   \n",
      "\n",
      "     Traffic_Calming  Traffic_Signal  Turning_Loop Sunrise_Sunset Civil_Twilight  \\\n",
      "0              False           False         False          Night          Night   \n",
      "1              False           False         False          Night          Night   \n",
      "2              False            True         False          Night          Night   \n",
      "3              False           False         False          Night            Day   \n",
      "4              False            True         False            Day            Day   \n",
      "...              ...             ...           ...            ...            ...   \n",
      "2831           False           False         False            Day            Day   \n",
      "2832           False           False         False            Day            Day   \n",
      "2833           False            True         False            Day            Day   \n",
      "2834           False           False         False            Day            Day   \n",
      "2835             NaN             NaN           NaN            NaN            NaN   \n",
      "\n",
      "     Nautical_Twilight Astronomical_Twilight  \n",
      "0                Night                 Night  \n",
      "1                Night                   Day  \n",
      "2                  Day                   Day  \n",
      "3                  Day                   Day  \n",
      "4                  Day                   Day  \n",
      "...                ...                   ...  \n",
      "2831               Day                   Day  \n",
      "2832               Day                   Day  \n",
      "2833               Day                   Day  \n",
      "2834               Day                   Day  \n",
      "2835               NaN                   NaN  \n",
      "\n",
      "[2836 rows x 34 columns]\n",
      "Index(['Severity', 'Start_Time', 'End_Time', 'Start_Lat', 'Start_Lng', 'End_Lat', 'End_Lng',\n",
      "       'Distance(mi)', 'Temperature(F)', 'Wind_Chill(F)', 'Humidity(%)', 'Pressure(in)',\n",
      "       'Visibility(mi)', 'Wind_Direction', 'Wind_Speed(mph)', 'Precipitation(in)',\n",
      "       'Weather_Condition', 'Amenity', 'Bump', 'Crossing', 'Give_Way', 'Junction', 'No_Exit',\n",
      "       'Railway', 'Roundabout', 'Station', 'Stop', 'Traffic_Calming', 'Traffic_Signal',\n",
      "       'Turning_Loop', 'Sunrise_Sunset', 'Civil_Twilight', 'Nautical_Twilight',\n",
      "       'Astronomical_Twilight'],\n",
      "      dtype='object')\n"
     ]
    }
   ],
   "source": [
    "df['Start_Time'] = pandas.to_datetime(df['Start_Time'])\n",
    "df['End_Time'] = pandas.to_datetime(df['End_Time'])\n",
    "df['Weather_Timestamp'] = pandas.to_datetime(df['Weather_Timestamp'])\n",
    "df = df.drop(['ID', 'Source', 'Description', 'State', 'Country', 'Street', 'City', 'County', 'Timezone', 'Airport_Code', 'Zipcode', 'Weather_Timestamp'], axis=1)\n",
    "print(df)\n",
    "print(df.columns)"
   ]
  },
  {
   "cell_type": "code",
   "execution_count": 54,
   "id": "ad0b300e",
   "metadata": {},
   "outputs": [],
   "source": [
    "df = df.drop(2835)\n",
    "df = df.drop(['End_Lat', 'End_Lng'], axis=1)"
   ]
  },
  {
   "cell_type": "code",
   "execution_count": 55,
   "id": "efe62c1d",
   "metadata": {},
   "outputs": [
    {
     "data": {
      "text/plain": [
       "True"
      ]
     },
     "execution_count": 55,
     "metadata": {},
     "output_type": "execute_result"
    }
   ],
   "source": [
    "df['Temperature(F)'].fillna(df['Temperature(F)'].mean(), inplace=True)\n",
    "df['Precipitation(in)'].fillna(df['Precipitation(in)'].mean(), inplace=True)\n",
    "df['Pressure(in)'].fillna(df['Pressure(in)'].mean(), inplace=True)\n",
    "df['Visibility(mi)'].fillna(df['Visibility(mi)'].mean(), inplace=True)\n",
    "df['Wind_Speed(mph)'].fillna(df['Wind_Speed(mph)'].mean(), inplace=True)\n",
    "df['Wind_Chill(F)'].fillna(df['Wind_Chill(F)'].mean(), inplace=True)\n",
    "df['Humidity(%)'].fillna(df['Humidity(%)'].mean(), inplace=True)\n",
    "df.isna().any().any()"
   ]
  },
  {
   "cell_type": "code",
   "execution_count": 56,
   "id": "2e2729a0",
   "metadata": {},
   "outputs": [
    {
     "name": "stdout",
     "output_type": "stream",
     "text": [
      "      Severity          Start_Time            End_Time  Start_Lat   Start_Lng  Distance(mi)  \\\n",
      "0            3 2016-02-08 05:46:00 2016-02-08 11:00:00  39.865147  -84.058723          0.01   \n",
      "1            2 2016-02-08 06:07:59 2016-02-08 06:37:59  39.928059  -82.831184          0.01   \n",
      "2            2 2016-02-08 06:49:27 2016-02-08 07:19:27  39.063148  -84.032608          0.01   \n",
      "3            3 2016-02-08 07:23:34 2016-02-08 07:53:34  39.747753  -84.205582          0.01   \n",
      "4            2 2016-02-08 07:39:07 2016-02-08 08:09:07  39.627781  -84.188354          0.01   \n",
      "...        ...                 ...                 ...        ...         ...           ...   \n",
      "2830         3 2016-07-12 15:00:15 2016-07-12 16:15:15  37.742188 -121.525635          0.00   \n",
      "2831         2 2016-07-12 15:12:42 2016-07-12 16:27:42  38.474407 -121.419067          0.00   \n",
      "2832         2 2016-07-12 15:45:38 2016-07-12 17:00:38  38.495541 -121.511070          0.00   \n",
      "2833         3 2016-07-12 15:26:19 2016-07-12 16:41:19  38.588917 -121.415375          0.00   \n",
      "2834         2 2016-07-12 15:50:04 2016-07-12 17:05:04  38.742481 -120.747398          0.00   \n",
      "\n",
      "      Temperature(F)  Wind_Chill(F)  Humidity(%)  Pressure(in)  ...  Roundabout Station   Stop  \\\n",
      "0               36.9      23.368696         91.0         29.68  ...       False   False  False   \n",
      "1               37.9      23.368696        100.0         29.65  ...       False   False  False   \n",
      "2               36.0      33.300000        100.0         29.67  ...       False   False  False   \n",
      "3               35.1      31.000000         96.0         29.64  ...       False   False  False   \n",
      "4               36.0      33.300000         89.0         29.65  ...       False   False  False   \n",
      "...              ...            ...          ...           ...  ...         ...     ...    ...   \n",
      "2830            89.1      23.368696         22.0         29.91  ...       False   False  False   \n",
      "2831            87.1      23.368696         29.0         29.91  ...       False   False  False   \n",
      "2832            88.0      23.368696         28.0         29.89  ...       False   False  False   \n",
      "2833            89.6      23.368696         22.0         29.91  ...       False   False  False   \n",
      "2834            84.2      23.368696         15.0         30.03  ...       False   False  False   \n",
      "\n",
      "      Traffic_Calming Traffic_Signal Turning_Loop Sunrise_Sunset Civil_Twilight Nautical_Twilight  \\\n",
      "0               False          False        False          Night          Night             Night   \n",
      "1               False          False        False          Night          Night             Night   \n",
      "2               False           True        False          Night          Night               Day   \n",
      "3               False          False        False          Night            Day               Day   \n",
      "4               False           True        False            Day            Day               Day   \n",
      "...               ...            ...          ...            ...            ...               ...   \n",
      "2830            False          False        False            Day            Day               Day   \n",
      "2831            False          False        False            Day            Day               Day   \n",
      "2832            False          False        False            Day            Day               Day   \n",
      "2833            False           True        False            Day            Day               Day   \n",
      "2834            False          False        False            Day            Day               Day   \n",
      "\n",
      "     Astronomical_Twilight  \n",
      "0                    Night  \n",
      "1                      Day  \n",
      "2                      Day  \n",
      "3                      Day  \n",
      "4                      Day  \n",
      "...                    ...  \n",
      "2830                   Day  \n",
      "2831                   Day  \n",
      "2832                   Day  \n",
      "2833                   Day  \n",
      "2834                   Day  \n",
      "\n",
      "[2835 rows x 32 columns]\n",
      "Index(['Severity', 'Start_Time', 'End_Time', 'Start_Lat', 'Start_Lng', 'Distance(mi)',\n",
      "       'Temperature(F)', 'Wind_Chill(F)', 'Humidity(%)', 'Pressure(in)', 'Visibility(mi)',\n",
      "       'Wind_Direction', 'Wind_Speed(mph)', 'Precipitation(in)', 'Weather_Condition', 'Amenity',\n",
      "       'Bump', 'Crossing', 'Give_Way', 'Junction', 'No_Exit', 'Railway', 'Roundabout', 'Station',\n",
      "       'Stop', 'Traffic_Calming', 'Traffic_Signal', 'Turning_Loop', 'Sunrise_Sunset',\n",
      "       'Civil_Twilight', 'Nautical_Twilight', 'Astronomical_Twilight'],\n",
      "      dtype='object')\n"
     ]
    }
   ],
   "source": [
    "print(df)\n",
    "print(df.columns)"
   ]
  },
  {
   "cell_type": "code",
   "execution_count": 57,
   "id": "3c9fdb78",
   "metadata": {},
   "outputs": [],
   "source": [
    "df = df.dropna(subset=['Wind_Direction'])\n",
    "df = df.dropna(subset=['Weather_Condition'])"
   ]
  },
  {
   "cell_type": "code",
   "execution_count": 58,
   "id": "d21976cc",
   "metadata": {},
   "outputs": [
    {
     "data": {
      "text/plain": [
       "False"
      ]
     },
     "execution_count": 58,
     "metadata": {},
     "output_type": "execute_result"
    }
   ],
   "source": [
    "df.isna().any().any()"
   ]
  },
  {
   "cell_type": "code",
   "execution_count": 59,
   "id": "0ccaa9ab",
   "metadata": {},
   "outputs": [
    {
     "name": "stdout",
     "output_type": "stream",
     "text": [
      "      Severity          Start_Time            End_Time  Start_Lat   Start_Lng  Distance(mi)  \\\n",
      "0            3 2016-02-08 05:46:00 2016-02-08 11:00:00  39.865147  -84.058723          0.01   \n",
      "1            2 2016-02-08 06:07:59 2016-02-08 06:37:59  39.928059  -82.831184          0.01   \n",
      "2            2 2016-02-08 06:49:27 2016-02-08 07:19:27  39.063148  -84.032608          0.01   \n",
      "3            3 2016-02-08 07:23:34 2016-02-08 07:53:34  39.747753  -84.205582          0.01   \n",
      "4            2 2016-02-08 07:39:07 2016-02-08 08:09:07  39.627781  -84.188354          0.01   \n",
      "...        ...                 ...                 ...        ...         ...           ...   \n",
      "2829         3 2016-07-12 14:43:08 2016-07-12 15:13:08  36.778355 -120.724655          0.00   \n",
      "2831         2 2016-07-12 15:12:42 2016-07-12 16:27:42  38.474407 -121.419067          0.00   \n",
      "2832         2 2016-07-12 15:45:38 2016-07-12 17:00:38  38.495541 -121.511070          0.00   \n",
      "2833         3 2016-07-12 15:26:19 2016-07-12 16:41:19  38.588917 -121.415375          0.00   \n",
      "2834         2 2016-07-12 15:50:04 2016-07-12 17:05:04  38.742481 -120.747398          0.00   \n",
      "\n",
      "      Temperature(F)  Wind_Chill(F)  Humidity(%)  Pressure(in)  ...  Roundabout Station   Stop  \\\n",
      "0               36.9      23.368696         91.0         29.68  ...       False   False  False   \n",
      "1               37.9      23.368696        100.0         29.65  ...       False   False  False   \n",
      "2               36.0      33.300000        100.0         29.67  ...       False   False  False   \n",
      "3               35.1      31.000000         96.0         29.64  ...       False   False  False   \n",
      "4               36.0      33.300000         89.0         29.65  ...       False   False  False   \n",
      "...              ...            ...          ...           ...  ...         ...     ...    ...   \n",
      "2829            93.9      23.368696         15.0         29.88  ...       False   False  False   \n",
      "2831            87.1      23.368696         29.0         29.91  ...       False   False  False   \n",
      "2832            88.0      23.368696         28.0         29.89  ...       False   False  False   \n",
      "2833            89.6      23.368696         22.0         29.91  ...       False   False  False   \n",
      "2834            84.2      23.368696         15.0         30.03  ...       False   False  False   \n",
      "\n",
      "      Traffic_Calming Traffic_Signal Turning_Loop Sunrise_Sunset Civil_Twilight Nautical_Twilight  \\\n",
      "0               False          False        False          Night          Night             Night   \n",
      "1               False          False        False          Night          Night             Night   \n",
      "2               False           True        False          Night          Night               Day   \n",
      "3               False          False        False          Night            Day               Day   \n",
      "4               False           True        False            Day            Day               Day   \n",
      "...               ...            ...          ...            ...            ...               ...   \n",
      "2829            False          False        False            Day            Day               Day   \n",
      "2831            False          False        False            Day            Day               Day   \n",
      "2832            False          False        False            Day            Day               Day   \n",
      "2833            False           True        False            Day            Day               Day   \n",
      "2834            False          False        False            Day            Day               Day   \n",
      "\n",
      "     Astronomical_Twilight  \n",
      "0                    Night  \n",
      "1                      Day  \n",
      "2                      Day  \n",
      "3                      Day  \n",
      "4                      Day  \n",
      "...                    ...  \n",
      "2829                   Day  \n",
      "2831                   Day  \n",
      "2832                   Day  \n",
      "2833                   Day  \n",
      "2834                   Day  \n",
      "\n",
      "[2815 rows x 32 columns]\n",
      "Index(['Severity', 'Start_Time', 'End_Time', 'Start_Lat', 'Start_Lng', 'Distance(mi)',\n",
      "       'Temperature(F)', 'Wind_Chill(F)', 'Humidity(%)', 'Pressure(in)', 'Visibility(mi)',\n",
      "       'Wind_Direction', 'Wind_Speed(mph)', 'Precipitation(in)', 'Weather_Condition', 'Amenity',\n",
      "       'Bump', 'Crossing', 'Give_Way', 'Junction', 'No_Exit', 'Railway', 'Roundabout', 'Station',\n",
      "       'Stop', 'Traffic_Calming', 'Traffic_Signal', 'Turning_Loop', 'Sunrise_Sunset',\n",
      "       'Civil_Twilight', 'Nautical_Twilight', 'Astronomical_Twilight'],\n",
      "      dtype='object')\n"
     ]
    }
   ],
   "source": [
    "print(df)\n",
    "print(df.columns)"
   ]
  },
  {
   "cell_type": "code",
   "execution_count": 60,
   "id": "22d1d093",
   "metadata": {},
   "outputs": [
    {
     "name": "stdout",
     "output_type": "stream",
     "text": [
      "      Severity          Start_Time            End_Time  Start_Lat   Start_Lng  Distance(mi)  \\\n",
      "0            3 2016-02-08 05:46:00 2016-02-08 11:00:00  39.865147  -84.058723          0.01   \n",
      "1            2 2016-02-08 06:07:59 2016-02-08 06:37:59  39.928059  -82.831184          0.01   \n",
      "2            2 2016-02-08 06:49:27 2016-02-08 07:19:27  39.063148  -84.032608          0.01   \n",
      "3            3 2016-02-08 07:23:34 2016-02-08 07:53:34  39.747753  -84.205582          0.01   \n",
      "4            2 2016-02-08 07:39:07 2016-02-08 08:09:07  39.627781  -84.188354          0.01   \n",
      "...        ...                 ...                 ...        ...         ...           ...   \n",
      "2829         3 2016-07-12 14:43:08 2016-07-12 15:13:08  36.778355 -120.724655          0.00   \n",
      "2831         2 2016-07-12 15:12:42 2016-07-12 16:27:42  38.474407 -121.419067          0.00   \n",
      "2832         2 2016-07-12 15:45:38 2016-07-12 17:00:38  38.495541 -121.511070          0.00   \n",
      "2833         3 2016-07-12 15:26:19 2016-07-12 16:41:19  38.588917 -121.415375          0.00   \n",
      "2834         2 2016-07-12 15:50:04 2016-07-12 17:05:04  38.742481 -120.747398          0.00   \n",
      "\n",
      "      Temperature(F)  Wind_Chill(F)  Humidity(%)  Pressure(in)  ...  Roundabout Station  Stop  \\\n",
      "0               36.9      23.368696         91.0         29.68  ...           0       0     0   \n",
      "1               37.9      23.368696        100.0         29.65  ...           0       0     0   \n",
      "2               36.0      33.300000        100.0         29.67  ...           0       0     0   \n",
      "3               35.1      31.000000         96.0         29.64  ...           0       0     0   \n",
      "4               36.0      33.300000         89.0         29.65  ...           0       0     0   \n",
      "...              ...            ...          ...           ...  ...         ...     ...   ...   \n",
      "2829            93.9      23.368696         15.0         29.88  ...           0       0     0   \n",
      "2831            87.1      23.368696         29.0         29.91  ...           0       0     0   \n",
      "2832            88.0      23.368696         28.0         29.89  ...           0       0     0   \n",
      "2833            89.6      23.368696         22.0         29.91  ...           0       0     0   \n",
      "2834            84.2      23.368696         15.0         30.03  ...           0       0     0   \n",
      "\n",
      "      Traffic_Calming Traffic_Signal  Turning_Loop  Sunrise_Sunset  Civil_Twilight  \\\n",
      "0                   0              0             0               0               0   \n",
      "1                   0              0             0               0               0   \n",
      "2                   0              1             0               0               0   \n",
      "3                   0              0             0               0               1   \n",
      "4                   0              1             0               1               1   \n",
      "...               ...            ...           ...             ...             ...   \n",
      "2829                0              0             0               1               1   \n",
      "2831                0              0             0               1               1   \n",
      "2832                0              0             0               1               1   \n",
      "2833                0              1             0               1               1   \n",
      "2834                0              0             0               1               1   \n",
      "\n",
      "      Nautical_Twilight  Astronomical_Twilight  \n",
      "0                     0                      0  \n",
      "1                     0                      1  \n",
      "2                     1                      1  \n",
      "3                     1                      1  \n",
      "4                     1                      1  \n",
      "...                 ...                    ...  \n",
      "2829                  1                      1  \n",
      "2831                  1                      1  \n",
      "2832                  1                      1  \n",
      "2833                  1                      1  \n",
      "2834                  1                      1  \n",
      "\n",
      "[2815 rows x 32 columns]\n"
     ]
    }
   ],
   "source": [
    "df = df.replace([True, False], [1, 0])\n",
    "df['Sunrise_Sunset'] = df['Sunrise_Sunset'].replace({'Day': 1, 'Night': 0})\n",
    "df['Civil_Twilight'] = df['Civil_Twilight'].replace({'Day': 1, 'Night': 0})\n",
    "df['Nautical_Twilight'] = df['Nautical_Twilight'].replace({'Day': 1, 'Night': 0})\n",
    "df['Astronomical_Twilight'] = df['Astronomical_Twilight'].replace({'Day': 1, 'Night': 0})\n",
    "print(df)"
   ]
  },
  {
   "cell_type": "code",
   "execution_count": 61,
   "id": "965c16e2",
   "metadata": {
    "scrolled": true
   },
   "outputs": [
    {
     "name": "stdout",
     "output_type": "stream",
     "text": [
      "WNW         379\n",
      "West        366\n",
      "South       313\n",
      "SSW         268\n",
      "NW          242\n",
      "Calm        208\n",
      "SW          182\n",
      "WSW         143\n",
      "NNW         143\n",
      "North       123\n",
      "Variable     95\n",
      "SSE          92\n",
      "SE           64\n",
      "NE           51\n",
      "NNE          50\n",
      "East         35\n",
      "ENE          30\n",
      "ESE          29\n",
      "E             1\n",
      "W             1\n",
      "Name: Wind_Direction, dtype: int64\n"
     ]
    }
   ],
   "source": [
    "print(df['Wind_Direction'].value_counts())"
   ]
  },
  {
   "cell_type": "code",
   "execution_count": 62,
   "id": "5a9f2e76",
   "metadata": {},
   "outputs": [],
   "source": [
    "df.loc[df['Wind_Direction']=='Calm','Wind_Direction'] = '0'\n",
    "df.loc[(df['Wind_Direction']=='South')|(df['Wind_Direction']=='SSW')|(df['Wind_Direction']=='SSE'),'Wind_Direction'] = '1'\n",
    "df.loc[(df['Wind_Direction']=='SW'),'Wind_Direction'] = '12'\n",
    "df.loc[(df['Wind_Direction']=='SE'),'Wind_Direction'] = '14'\n",
    "df.loc[(df['Wind_Direction']=='West')|(df['Wind_Direction']=='W')|(df['Wind_Direction']=='WSW')|(df['Wind_Direction']=='WNW'),'Wind_Direction'] = '2'\n",
    "df.loc[(df['Wind_Direction']=='North')|(df['Wind_Direction']=='NNW')|(df['Wind_Direction']=='NNE'),'Wind_Direction'] = '3'\n",
    "df.loc[(df['Wind_Direction']=='NW'),'Wind_Direction'] = '32'\n",
    "df.loc[(df['Wind_Direction']=='NE'),'Wind_Direction'] = '34'\n",
    "df.loc[(df['Wind_Direction']=='East')|(df['Wind_Direction']=='ESE')|(df['Wind_Direction']=='ENE')|(df['Wind_Direction']=='E'),'Wind_Direction'] = '4'\n",
    "df.loc[df['Wind_Direction']=='Variable','Wind_Direction'] = '1234'"
   ]
  },
  {
   "cell_type": "code",
   "execution_count": 63,
   "id": "2203df33",
   "metadata": {},
   "outputs": [
    {
     "name": "stdout",
     "output_type": "stream",
     "text": [
      "Clear                     1776\n",
      "Overcast                   316\n",
      "Partly Cloudy              235\n",
      "Mostly Cloudy              149\n",
      "Scattered Clouds           109\n",
      "Light Snow                 104\n",
      "Light Rain                  44\n",
      "Haze                        30\n",
      "Rain                        28\n",
      "Light Freezing Drizzle      10\n",
      "Heavy Rain                   3\n",
      "Snow                         2\n",
      "Fog                          2\n",
      "Light Drizzle                1\n",
      "Shallow Fog                  1\n",
      "Light Freezing Rain          1\n",
      "Cloudy                       1\n",
      "Drizzle                      1\n",
      "Light Rain Showers           1\n",
      "Mist                         1\n",
      "Name: Weather_Condition, dtype: int64\n"
     ]
    }
   ],
   "source": [
    "print(df['Weather_Condition'].value_counts())"
   ]
  },
  {
   "cell_type": "code",
   "execution_count": 64,
   "id": "84840c27",
   "metadata": {},
   "outputs": [
    {
     "name": "stdout",
     "output_type": "stream",
     "text": [
      "      Severity          Start_Time            End_Time  Start_Lat   Start_Lng  Distance(mi)  \\\n",
      "0            3 2016-02-08 05:46:00 2016-02-08 11:00:00  39.865147  -84.058723          0.01   \n",
      "1            2 2016-02-08 06:07:59 2016-02-08 06:37:59  39.928059  -82.831184          0.01   \n",
      "2            2 2016-02-08 06:49:27 2016-02-08 07:19:27  39.063148  -84.032608          0.01   \n",
      "3            3 2016-02-08 07:23:34 2016-02-08 07:53:34  39.747753  -84.205582          0.01   \n",
      "4            2 2016-02-08 07:39:07 2016-02-08 08:09:07  39.627781  -84.188354          0.01   \n",
      "...        ...                 ...                 ...        ...         ...           ...   \n",
      "2829         3 2016-07-12 14:43:08 2016-07-12 15:13:08  36.778355 -120.724655          0.00   \n",
      "2831         2 2016-07-12 15:12:42 2016-07-12 16:27:42  38.474407 -121.419067          0.00   \n",
      "2832         2 2016-07-12 15:45:38 2016-07-12 17:00:38  38.495541 -121.511070          0.00   \n",
      "2833         3 2016-07-12 15:26:19 2016-07-12 16:41:19  38.588917 -121.415375          0.00   \n",
      "2834         2 2016-07-12 15:50:04 2016-07-12 17:05:04  38.742481 -120.747398          0.00   \n",
      "\n",
      "      Temperature(F)  Wind_Chill(F)  Humidity(%)  Pressure(in)  ...  Roundabout Station  Stop  \\\n",
      "0               36.9      23.368696         91.0         29.68  ...           0       0     0   \n",
      "1               37.9      23.368696        100.0         29.65  ...           0       0     0   \n",
      "2               36.0      33.300000        100.0         29.67  ...           0       0     0   \n",
      "3               35.1      31.000000         96.0         29.64  ...           0       0     0   \n",
      "4               36.0      33.300000         89.0         29.65  ...           0       0     0   \n",
      "...              ...            ...          ...           ...  ...         ...     ...   ...   \n",
      "2829            93.9      23.368696         15.0         29.88  ...           0       0     0   \n",
      "2831            87.1      23.368696         29.0         29.91  ...           0       0     0   \n",
      "2832            88.0      23.368696         28.0         29.89  ...           0       0     0   \n",
      "2833            89.6      23.368696         22.0         29.91  ...           0       0     0   \n",
      "2834            84.2      23.368696         15.0         30.03  ...           0       0     0   \n",
      "\n",
      "      Traffic_Calming Traffic_Signal  Turning_Loop  Sunrise_Sunset  Civil_Twilight  \\\n",
      "0                   0              0             0               0               0   \n",
      "1                   0              0             0               0               0   \n",
      "2                   0              1             0               0               0   \n",
      "3                   0              0             0               0               1   \n",
      "4                   0              1             0               1               1   \n",
      "...               ...            ...           ...             ...             ...   \n",
      "2829                0              0             0               1               1   \n",
      "2831                0              0             0               1               1   \n",
      "2832                0              0             0               1               1   \n",
      "2833                0              1             0               1               1   \n",
      "2834                0              0             0               1               1   \n",
      "\n",
      "      Nautical_Twilight  Astronomical_Twilight  \n",
      "0                     0                      0  \n",
      "1                     0                      1  \n",
      "2                     1                      1  \n",
      "3                     1                      1  \n",
      "4                     1                      1  \n",
      "...                 ...                    ...  \n",
      "2829                  1                      1  \n",
      "2831                  1                      1  \n",
      "2832                  1                      1  \n",
      "2833                  1                      1  \n",
      "2834                  1                      1  \n",
      "\n",
      "[2815 rows x 32 columns]\n"
     ]
    }
   ],
   "source": [
    "print(df)"
   ]
  },
  {
   "cell_type": "code",
   "execution_count": 65,
   "id": "549c56ab",
   "metadata": {},
   "outputs": [
    {
     "name": "stdout",
     "output_type": "stream",
     "text": [
      "0          1776\n",
      "1           465\n",
      "2           345\n",
      "3           106\n",
      "4            76\n",
      "7            33\n",
      "6            10\n",
      "5             3\n",
      "1234567       1\n",
      "Name: Weather_Condition, dtype: int64\n"
     ]
    }
   ],
   "source": [
    "df.loc[df['Weather_Condition']=='Clear', 'Weather_Condition'] = '0'\n",
    "df.loc[(df['Weather_Condition']=='Overcast')|(df['Weather_Condition']=='Mostly Cloudy'), 'Weather_Condition'] = '1'\n",
    "df.loc[(df['Weather_Condition']=='Partly Cloudy')|(df['Weather_Condition']=='Scattered Clouds')|(df['Weather_Condition']=='Cloudy'), 'Weather_Condition'] = '2'\n",
    "df.loc[(df['Weather_Condition']=='Light Snow')|(df['Weather_Condition']=='Snow'), 'Weather_Condition'] = '3'\n",
    "df.loc[(df['Weather_Condition']=='Light Freezing Rain')|(df['Weather_Condition']=='Light Rain')|(df['Weather_Condition']=='Rain')|(df['Weather_Condition']=='Light Drizzle')|(df['Weather_Condition']=='Light Rain Showers')|(df['Weather_Condition']=='Drizzle'), 'Weather_Condition'] = '4'\n",
    "df.loc[df['Weather_Condition']=='Heavy Rain', 'Weather_Condition'] = '5'\n",
    "df.loc[(df['Weather_Condition']=='Light Freezing Rain')|(df['Weather_Condition']=='Light Freezing Drizzle'), 'Weather_Condition'] = '6'\n",
    "df.loc[(df['Weather_Condition']=='Haze')|(df['Weather_Condition']=='Fog')|(df['Weather_Condition']=='Shallow Fog'), 'Weather_Condition'] = '7'\n",
    "df.loc[df['Weather_Condition']=='Mist', 'Weather_Condition'] = '1234567'\n",
    "print(df['Weather_Condition'].value_counts())"
   ]
  },
  {
   "cell_type": "code",
   "execution_count": 66,
   "id": "37e76df9",
   "metadata": {},
   "outputs": [
    {
     "name": "stdout",
     "output_type": "stream",
     "text": [
      "      Severity          Start_Time            End_Time  Start_Lat   Start_Lng  Distance(mi)  \\\n",
      "0            3 2016-02-08 05:46:00 2016-02-08 11:00:00  39.865147  -84.058723          0.01   \n",
      "1            2 2016-02-08 06:07:59 2016-02-08 06:37:59  39.928059  -82.831184          0.01   \n",
      "2            2 2016-02-08 06:49:27 2016-02-08 07:19:27  39.063148  -84.032608          0.01   \n",
      "3            3 2016-02-08 07:23:34 2016-02-08 07:53:34  39.747753  -84.205582          0.01   \n",
      "4            2 2016-02-08 07:39:07 2016-02-08 08:09:07  39.627781  -84.188354          0.01   \n",
      "...        ...                 ...                 ...        ...         ...           ...   \n",
      "2829         3 2016-07-12 14:43:08 2016-07-12 15:13:08  36.778355 -120.724655          0.00   \n",
      "2831         2 2016-07-12 15:12:42 2016-07-12 16:27:42  38.474407 -121.419067          0.00   \n",
      "2832         2 2016-07-12 15:45:38 2016-07-12 17:00:38  38.495541 -121.511070          0.00   \n",
      "2833         3 2016-07-12 15:26:19 2016-07-12 16:41:19  38.588917 -121.415375          0.00   \n",
      "2834         2 2016-07-12 15:50:04 2016-07-12 17:05:04  38.742481 -120.747398          0.00   \n",
      "\n",
      "      Temperature(F)  Wind_Chill(F)  Humidity(%)  Pressure(in)  ...  Roundabout Station  Stop  \\\n",
      "0               36.9      23.368696         91.0         29.68  ...           0       0     0   \n",
      "1               37.9      23.368696        100.0         29.65  ...           0       0     0   \n",
      "2               36.0      33.300000        100.0         29.67  ...           0       0     0   \n",
      "3               35.1      31.000000         96.0         29.64  ...           0       0     0   \n",
      "4               36.0      33.300000         89.0         29.65  ...           0       0     0   \n",
      "...              ...            ...          ...           ...  ...         ...     ...   ...   \n",
      "2829            93.9      23.368696         15.0         29.88  ...           0       0     0   \n",
      "2831            87.1      23.368696         29.0         29.91  ...           0       0     0   \n",
      "2832            88.0      23.368696         28.0         29.89  ...           0       0     0   \n",
      "2833            89.6      23.368696         22.0         29.91  ...           0       0     0   \n",
      "2834            84.2      23.368696         15.0         30.03  ...           0       0     0   \n",
      "\n",
      "      Traffic_Calming Traffic_Signal  Turning_Loop  Sunrise_Sunset  Civil_Twilight  \\\n",
      "0                   0              0             0               0               0   \n",
      "1                   0              0             0               0               0   \n",
      "2                   0              1             0               0               0   \n",
      "3                   0              0             0               0               1   \n",
      "4                   0              1             0               1               1   \n",
      "...               ...            ...           ...             ...             ...   \n",
      "2829                0              0             0               1               1   \n",
      "2831                0              0             0               1               1   \n",
      "2832                0              0             0               1               1   \n",
      "2833                0              1             0               1               1   \n",
      "2834                0              0             0               1               1   \n",
      "\n",
      "      Nautical_Twilight  Astronomical_Twilight  \n",
      "0                     0                      0  \n",
      "1                     0                      1  \n",
      "2                     1                      1  \n",
      "3                     1                      1  \n",
      "4                     1                      1  \n",
      "...                 ...                    ...  \n",
      "2829                  1                      1  \n",
      "2831                  1                      1  \n",
      "2832                  1                      1  \n",
      "2833                  1                      1  \n",
      "2834                  1                      1  \n",
      "\n",
      "[2815 rows x 32 columns]\n"
     ]
    }
   ],
   "source": [
    "print(df)"
   ]
  },
  {
   "cell_type": "code",
   "execution_count": 67,
   "id": "1a06ba63",
   "metadata": {},
   "outputs": [
    {
     "name": "stdout",
     "output_type": "stream",
     "text": [
      "      Severity  Distance(mi)  Temperature(F)  Humidity(%)  Pressure(in)  Visibility(mi)  \\\n",
      "0            3          0.01            36.9         91.0         29.68            10.0   \n",
      "1            2          0.01            37.9        100.0         29.65            10.0   \n",
      "2            2          0.01            36.0        100.0         29.67            10.0   \n",
      "3            3          0.01            35.1         96.0         29.64             9.0   \n",
      "4            2          0.01            36.0         89.0         29.65             6.0   \n",
      "...        ...           ...             ...          ...           ...             ...   \n",
      "2829         3          0.00            93.9         15.0         29.88            10.0   \n",
      "2831         2          0.00            87.1         29.0         29.91            10.0   \n",
      "2832         2          0.00            88.0         28.0         29.89            10.0   \n",
      "2833         3          0.00            89.6         22.0         29.91            10.0   \n",
      "2834         2          0.00            84.2         15.0         30.03            10.0   \n",
      "\n",
      "     Wind_Direction  Wind_Speed(mph)  Precipitation(in) Weather_Condition  ...  Railway  \\\n",
      "0                 0         9.817681           0.020000                 4  ...        0   \n",
      "1                 0         9.817681           0.000000                 4  ...        0   \n",
      "2                12         3.500000           0.021596                 1  ...        0   \n",
      "3                12         4.600000           0.021596                 1  ...        0   \n",
      "4                12         3.500000           0.021596                 1  ...        0   \n",
      "...             ...              ...                ...               ...  ...      ...   \n",
      "2829              3        10.400000           0.021596                 0  ...        0   \n",
      "2831              1         6.900000           0.021596                 0  ...        0   \n",
      "2832              1         9.200000           0.021596                 0  ...        0   \n",
      "2833             12         3.500000           0.021596                 0  ...        0   \n",
      "2834              2         6.900000           0.021596                 0  ...        0   \n",
      "\n",
      "      Roundabout  Station  Stop  Traffic_Calming  Traffic_Signal  Sunrise_Sunset  Civil_Twilight  \\\n",
      "0              0        0     0                0               0               0               0   \n",
      "1              0        0     0                0               0               0               0   \n",
      "2              0        0     0                0               1               0               0   \n",
      "3              0        0     0                0               0               0               1   \n",
      "4              0        0     0                0               1               1               1   \n",
      "...          ...      ...   ...              ...             ...             ...             ...   \n",
      "2829           0        0     0                0               0               1               1   \n",
      "2831           0        0     0                0               0               1               1   \n",
      "2832           0        0     0                0               0               1               1   \n",
      "2833           0        0     0                0               1               1               1   \n",
      "2834           0        0     0                0               0               1               1   \n",
      "\n",
      "      Nautical_Twilight  Astronomical_Twilight  \n",
      "0                     0                      0  \n",
      "1                     0                      1  \n",
      "2                     1                      1  \n",
      "3                     1                      1  \n",
      "4                     1                      1  \n",
      "...                 ...                    ...  \n",
      "2829                  1                      1  \n",
      "2831                  1                      1  \n",
      "2832                  1                      1  \n",
      "2833                  1                      1  \n",
      "2834                  1                      1  \n",
      "\n",
      "[2815 rows x 26 columns]\n"
     ]
    }
   ],
   "source": [
    "df = df.drop(['Start_Time', 'End_Time', 'Start_Lat', 'Start_Lng', 'Wind_Chill(F)', 'Turning_Loop'], axis=1)\n",
    "print(df)"
   ]
  },
  {
   "cell_type": "code",
   "execution_count": 68,
   "id": "fcc247e7",
   "metadata": {},
   "outputs": [],
   "source": [
    "df['Wind_Direction'] = df['Wind_Direction'].astype(int)\n",
    "df['Weather_Condition'] = df['Weather_Condition'].astype(int)"
   ]
  },
  {
   "cell_type": "code",
   "execution_count": 69,
   "id": "58ad6611",
   "metadata": {},
   "outputs": [
    {
     "name": "stdout",
     "output_type": "stream",
     "text": [
      "                       Severity  Distance(mi)  Temperature(F)  Humidity(%)  Pressure(in)  \\\n",
      "Severity               1.000000      0.034240        0.045201    -0.049451      0.001846   \n",
      "Distance(mi)           0.034240      1.000000       -0.109690     0.080553     -0.042407   \n",
      "Temperature(F)         0.045201     -0.109690        1.000000    -0.804279     -0.225094   \n",
      "Humidity(%)           -0.049451      0.080553       -0.804279     1.000000      0.021260   \n",
      "Pressure(in)           0.001846     -0.042407       -0.225094     0.021260      1.000000   \n",
      "Visibility(mi)         0.047709     -0.103880        0.489206    -0.482995      0.194281   \n",
      "Wind_Direction         0.007337     -0.012242        0.084235    -0.065244      0.028890   \n",
      "Wind_Speed(mph)        0.064381      0.024573        0.020707    -0.077221     -0.070998   \n",
      "Precipitation(in)      0.015962      0.072816        0.043783     0.033487     -0.169169   \n",
      "Weather_Condition     -0.015681     -0.001331       -0.012705     0.034661      0.004890   \n",
      "Amenity               -0.081963     -0.006602       -0.015827     0.027095      0.016396   \n",
      "Bump                   0.022208     -0.001337       -0.003283     0.010712      0.004894   \n",
      "Crossing              -0.175234     -0.018338       -0.007102    -0.009685      0.014084   \n",
      "Give_Way              -0.041530     -0.003541        0.017014    -0.009344      0.016616   \n",
      "Junction               0.171651      0.011538        0.094129    -0.049151     -0.021612   \n",
      "No_Exit                0.038479     -0.002317        0.016181    -0.022890      0.013359   \n",
      "Railway               -0.027974     -0.005262        0.014862    -0.013118     -0.008231   \n",
      "Roundabout            -0.015680     -0.001337       -0.005181     0.029850      0.006101   \n",
      "Station               -0.056116     -0.007703       -0.035719     0.039553      0.021690   \n",
      "Stop                  -0.109857     -0.014320        0.063249    -0.018137     -0.001291   \n",
      "Traffic_Calming        0.004617     -0.001891       -0.008067     0.020792      0.007776   \n",
      "Traffic_Signal        -0.220032     -0.011942       -0.098383     0.030345      0.016809   \n",
      "Sunrise_Sunset        -0.030880     -0.025024        0.254557    -0.314406      0.100508   \n",
      "Civil_Twilight        -0.009808     -0.011874        0.206640    -0.274974      0.094789   \n",
      "Nautical_Twilight     -0.004734     -0.009725        0.168069    -0.246517      0.050625   \n",
      "Astronomical_Twilight  0.005038     -0.017735        0.146148    -0.244059      0.024731   \n",
      "\n",
      "                       Visibility(mi)  Wind_Direction  Wind_Speed(mph)  Precipitation(in)  \\\n",
      "Severity                     0.047709        0.007337         0.064381       1.596185e-02   \n",
      "Distance(mi)                -0.103880       -0.012242         0.024573       7.281613e-02   \n",
      "Temperature(F)               0.489206        0.084235         0.020707       4.378313e-02   \n",
      "Humidity(%)                 -0.482995       -0.065244        -0.077221       3.348700e-02   \n",
      "Pressure(in)                 0.194281        0.028890        -0.070998      -1.691690e-01   \n",
      "Visibility(mi)               1.000000        0.076743         0.076972      -1.736268e-02   \n",
      "Wind_Direction               0.076743        1.000000        -0.208046       1.632869e-03   \n",
      "Wind_Speed(mph)              0.076972       -0.208046         1.000000       5.026286e-02   \n",
      "Precipitation(in)           -0.017363        0.001633         0.050263       1.000000e+00   \n",
      "Weather_Condition           -0.068999       -0.004033         0.000004       4.260298e-06   \n",
      "Amenity                      0.002341       -0.005044        -0.004427      -6.246470e-03   \n",
      "Bump                         0.006911       -0.003860         0.032393       3.780147e-17   \n",
      "Crossing                     0.030681       -0.014638         0.021516      -1.842259e-02   \n",
      "Give_Way                     0.018304       -0.008938         0.001791       3.316970e-17   \n",
      "Junction                     0.079467        0.015937         0.048950      -5.726649e-03   \n",
      "No_Exit                      0.011974       -0.005315         0.005662       2.510432e-17   \n",
      "Railway                      0.022558        0.009572         0.008267      -9.059034e-03   \n",
      "Roundabout                   0.006911       -0.003860        -0.027352       3.029820e-17   \n",
      "Station                     -0.030832       -0.009129         0.014180      -8.248304e-03   \n",
      "Stop                         0.027717        0.008754        -0.023588      -3.502263e-03   \n",
      "Traffic_Calming              0.009775       -0.005460         0.035103       5.261231e-17   \n",
      "Traffic_Signal              -0.051233       -0.020074         0.015766      -2.876436e-02   \n",
      "Sunrise_Sunset               0.070750        0.074367         0.103384       1.268298e-02   \n",
      "Civil_Twilight               0.034743        0.055350         0.082494       1.344789e-02   \n",
      "Nautical_Twilight            0.001700        0.038742         0.088700       2.483605e-02   \n",
      "Astronomical_Twilight       -0.012202        0.020925         0.080612       1.464952e-02   \n",
      "\n",
      "                       Weather_Condition  ...   Railway    Roundabout   Station      Stop  \\\n",
      "Severity                       -0.015681  ... -0.027974 -1.568021e-02 -0.056116 -0.109857   \n",
      "Distance(mi)                   -0.001331  ... -0.005262 -1.337049e-03 -0.007703 -0.014320   \n",
      "Temperature(F)                 -0.012705  ...  0.014862 -5.181007e-03 -0.035719  0.063249   \n",
      "Humidity(%)                     0.034661  ... -0.013118  2.985039e-02  0.039553 -0.018137   \n",
      "Pressure(in)                    0.004890  ... -0.008231  6.101013e-03  0.021690 -0.001291   \n",
      "Visibility(mi)                 -0.068999  ...  0.022558  6.910978e-03 -0.030832  0.027717   \n",
      "Wind_Direction                 -0.004033  ...  0.009572 -3.860028e-03 -0.009129  0.008754   \n",
      "Wind_Speed(mph)                 0.000004  ...  0.008267 -2.735178e-02  0.014180 -0.023588   \n",
      "Precipitation(in)               0.000004  ... -0.009059  3.029820e-17 -0.008248 -0.003502   \n",
      "Weather_Condition               1.000000  ... -0.001470 -3.551555e-04 -0.002507 -0.003946   \n",
      "Amenity                        -0.002145  ... -0.008872 -2.145581e-03  0.081549  0.070850   \n",
      "Bump                           -0.000355  ... -0.001469 -3.553660e-04 -0.002509 -0.003943   \n",
      "Crossing                       -0.006078  ...  0.147587 -6.077022e-03  0.124524  0.126817   \n",
      "Give_Way                       -0.000941  ... -0.003892 -9.412141e-04 -0.006645  0.096332   \n",
      "Junction                       -0.006942  ... -0.028697 -6.940158e-03 -0.040623 -0.066072   \n",
      "No_Exit                        -0.000617  ... -0.002546 -6.157309e-04 -0.004347 -0.006832   \n",
      "Railway                        -0.001470  ...  1.000000 -1.469395e-03  0.164923  0.006575   \n",
      "Roundabout                     -0.000355  ... -0.001469  1.000000e+00 -0.002509 -0.003943   \n",
      "Station                        -0.002507  ...  0.164923 -2.509053e-03  1.000000  0.053485   \n",
      "Stop                           -0.003946  ...  0.006575 -3.943106e-03  0.053485  1.000000   \n",
      "Traffic_Calming                -0.000502  ... -0.002078 -5.026528e-04 -0.003549 -0.005577   \n",
      "Traffic_Signal                 -0.007330  ...  0.010389 -7.333299e-03  0.076851 -0.065631   \n",
      "Sunrise_Sunset                  0.011029  ...  0.003535 -3.221625e-02  0.015567 -0.003671   \n",
      "Civil_Twilight                  0.009489  ...  0.004981 -3.745301e-02  0.026409 -0.005069   \n",
      "Nautical_Twilight               0.008180  ...  0.021264 -4.344633e-02  0.020557 -0.016041   \n",
      "Astronomical_Twilight           0.006976  ...  0.014754 -5.094639e-02  0.015865 -0.009748   \n",
      "\n",
      "                       Traffic_Calming  Traffic_Signal  Sunrise_Sunset  Civil_Twilight  \\\n",
      "Severity                  4.616682e-03       -0.220032       -0.030880       -0.009808   \n",
      "Distance(mi)             -1.891208e-03       -0.011942       -0.025024       -0.011874   \n",
      "Temperature(F)           -8.066624e-03       -0.098383        0.254557        0.206640   \n",
      "Humidity(%)               2.079151e-02        0.030345       -0.314406       -0.274974   \n",
      "Pressure(in)              7.776281e-03        0.016809        0.100508        0.094789   \n",
      "Visibility(mi)            9.775336e-03       -0.051233        0.070750        0.034743   \n",
      "Wind_Direction           -5.459875e-03       -0.020074        0.074367        0.055350   \n",
      "Wind_Speed(mph)           3.510264e-02        0.015766        0.103384        0.082494   \n",
      "Precipitation(in)         5.261231e-17       -0.028764        0.012683        0.013448   \n",
      "Weather_Condition        -5.023550e-04       -0.007330        0.011029        0.009489   \n",
      "Amenity                  -3.034849e-03        0.096081       -0.020437       -0.037185   \n",
      "Bump                      7.069811e-01       -0.007333        0.011031        0.009488   \n",
      "Crossing                  3.705897e-02        0.490256       -0.012303       -0.016464   \n",
      "Give_Way                 -1.331314e-03        0.043908       -0.003511       -0.010392   \n",
      "Junction                 -9.816609e-03       -0.136731        0.004275        0.002500   \n",
      "No_Exit                  -8.709297e-04       -0.012706        0.019112        0.016440   \n",
      "Railway                  -2.078408e-03        0.010389        0.003535        0.004981   \n",
      "Roundabout               -5.026528e-04       -0.007333       -0.032216       -0.037453   \n",
      "Station                  -3.548968e-03        0.076851        0.015567        0.026409   \n",
      "Stop                     -5.577385e-03       -0.065631       -0.003671       -0.005069   \n",
      "Traffic_Calming           1.000000e+00        0.029086        0.015602        0.013421   \n",
      "Traffic_Signal            2.908559e-02        1.000000        0.010548        0.007301   \n",
      "Sunrise_Sunset            1.560246e-02        0.010548        1.000000        0.860178   \n",
      "Civil_Twilight            1.342089e-02        0.007301        0.860178        1.000000   \n",
      "Nautical_Twilight         1.156951e-02        0.021945        0.741518        0.862052   \n",
      "Astronomical_Twilight     9.866308e-03        0.011493        0.632356        0.735145   \n",
      "\n",
      "                       Nautical_Twilight  Astronomical_Twilight  \n",
      "Severity                       -0.004734               0.005038  \n",
      "Distance(mi)                   -0.009725              -0.017735  \n",
      "Temperature(F)                  0.168069               0.146148  \n",
      "Humidity(%)                    -0.246517              -0.244059  \n",
      "Pressure(in)                    0.050625               0.024731  \n",
      "Visibility(mi)                  0.001700              -0.012202  \n",
      "Wind_Direction                  0.038742               0.020925  \n",
      "Wind_Speed(mph)                 0.088700               0.080612  \n",
      "Precipitation(in)               0.024836               0.014650  \n",
      "Weather_Condition               0.008180               0.006976  \n",
      "Amenity                        -0.045857              -0.055028  \n",
      "Bump                            0.008179               0.006975  \n",
      "Crossing                       -0.003379              -0.011539  \n",
      "Give_Way                       -0.017403              -0.025357  \n",
      "Junction                        0.000705              -0.008540  \n",
      "No_Exit                         0.014172               0.012086  \n",
      "Railway                         0.021264               0.014754  \n",
      "Roundabout                     -0.043446              -0.050946  \n",
      "Station                         0.020557               0.015865  \n",
      "Stop                           -0.016041              -0.009748  \n",
      "Traffic_Calming                 0.011570               0.009866  \n",
      "Traffic_Signal                  0.021945               0.011493  \n",
      "Sunrise_Sunset                  0.741518               0.632356  \n",
      "Civil_Twilight                  0.862052               0.735145  \n",
      "Nautical_Twilight               1.000000               0.852785  \n",
      "Astronomical_Twilight           0.852785               1.000000  \n",
      "\n",
      "[26 rows x 26 columns]\n"
     ]
    }
   ],
   "source": [
    "set_option('display.width', 100)\n",
    "correlations = df.corr(method='pearson', numeric_only=True)\n",
    "print(correlations)"
   ]
  },
  {
   "cell_type": "code",
   "execution_count": 70,
   "id": "8a080f45",
   "metadata": {},
   "outputs": [
    {
     "name": "stdout",
     "output_type": "stream",
     "text": [
      "float64\n"
     ]
    }
   ],
   "source": [
    "print(df['Distance(mi)'].dtype)"
   ]
  },
  {
   "cell_type": "code",
   "execution_count": 71,
   "id": "3e2334c0",
   "metadata": {},
   "outputs": [
    {
     "data": {
      "image/png": "[encoded data removed]",
      "text/plain": [
       "<Figure size 800x800 with 2 Axes>"
      ]
     },
     "metadata": {},
     "output_type": "display_data"
    }
   ],
   "source": [
    "# plot matrice di correlazione\n",
    "fig = pyplot.figure(figsize=(8, 8))\n",
    "ax = fig.add_subplot(111)\n",
    "cax = ax.matshow(correlations, vmin=-1, vmax=1, cmap='bwr')\n",
    "fig.colorbar(cax)\n",
    "ticks = numpy.arange(0,26,1)\n",
    "ax.set_xticks(ticks)\n",
    "ax.set_yticks(ticks)\n",
    "ax.set_xticklabels(df.columns, rotation=90)\n",
    "ax.set_yticklabels(df.columns)\n",
    "pyplot.show()"
   ]
  },
  {
   "cell_type": "code",
   "execution_count": 72,
   "id": "1879edad",
   "metadata": {},
   "outputs": [
    {
     "name": "stdout",
     "output_type": "stream",
     "text": [
      "2    1645\n",
      "3    1163\n",
      "1       4\n",
      "4       3\n",
      "Name: Severity, dtype: int64\n"
     ]
    }
   ],
   "source": [
    "print(df['Severity'].value_counts())"
   ]
  },
  {
   "cell_type": "code",
   "execution_count": 73,
   "id": "5206d03c",
   "metadata": {},
   "outputs": [
    {
     "name": "stdout",
     "output_type": "stream",
     "text": [
      "Index(['Severity', 'Distance(mi)', 'Temperature(F)', 'Humidity(%)', 'Pressure(in)',\n",
      "       'Visibility(mi)', 'Wind_Direction', 'Wind_Speed(mph)', 'Precipitation(in)',\n",
      "       'Weather_Condition', 'Amenity', 'Bump', 'Crossing', 'Give_Way', 'Junction', 'No_Exit',\n",
      "       'Railway', 'Roundabout', 'Station', 'Stop', 'Traffic_Calming', 'Traffic_Signal',\n",
      "       'Sunrise_Sunset', 'Civil_Twilight', 'Nautical_Twilight', 'Astronomical_Twilight'],\n",
      "      dtype='object')\n"
     ]
    }
   ],
   "source": [
    "print(df.columns)"
   ]
  },
  {
   "cell_type": "code",
   "execution_count": 74,
   "id": "b86651c4",
   "metadata": {},
   "outputs": [
    {
     "name": "stdout",
     "output_type": "stream",
     "text": [
      "Index(['Distance(mi)', 'Temperature(F)', 'Humidity(%)', 'Pressure(in)', 'Visibility(mi)',\n",
      "       'Wind_Direction', 'Wind_Speed(mph)', 'Precipitation(in)', 'Weather_Condition', 'Amenity',\n",
      "       'Bump', 'Crossing', 'Give_Way', 'Junction', 'No_Exit', 'Railway', 'Roundabout', 'Station',\n",
      "       'Stop', 'Traffic_Calming', 'Traffic_Signal', 'Sunrise_Sunset', 'Civil_Twilight',\n",
      "       'Nautical_Twilight', 'Astronomical_Twilight', 'Severity4'],\n",
      "      dtype='object')\n"
     ]
    }
   ],
   "source": [
    "df['Severity4'] = 0\n",
    "df.loc[(df['Severity'] == 4)|(df['Severity'] == 3), 'Severity4'] = 1\n",
    "df = df.drop(['Severity'], axis = 1)\n",
    "df.Severity4.value_counts()\n",
    "print(df.columns)"
   ]
  },
  {
   "cell_type": "code",
   "execution_count": 75,
   "id": "fe77fd9a",
   "metadata": {
    "scrolled": true
   },
   "outputs": [
    {
     "name": "stdout",
     "output_type": "stream",
     "text": [
      "      Distance(mi)  Temperature(F)  Humidity(%)  Pressure(in)  Visibility(mi)  Wind_Direction  \\\n",
      "0             0.01            36.9         91.0         29.68            10.0               0   \n",
      "1             0.01            37.9        100.0         29.65            10.0               0   \n",
      "2             0.01            36.0        100.0         29.67            10.0              12   \n",
      "3             0.01            35.1         96.0         29.64             9.0              12   \n",
      "4             0.01            36.0         89.0         29.65             6.0              12   \n",
      "...            ...             ...          ...           ...             ...             ...   \n",
      "2829          0.00            93.9         15.0         29.88            10.0               3   \n",
      "2831          0.00            87.1         29.0         29.91            10.0               1   \n",
      "2832          0.00            88.0         28.0         29.89            10.0               1   \n",
      "2833          0.00            89.6         22.0         29.91            10.0              12   \n",
      "2834          0.00            84.2         15.0         30.03            10.0               2   \n",
      "\n",
      "      Wind_Speed(mph)  Precipitation(in)  Weather_Condition  Amenity  ...  Roundabout  Station  \\\n",
      "0            9.817681           0.020000                  4        0  ...           0        0   \n",
      "1            9.817681           0.000000                  4        0  ...           0        0   \n",
      "2            3.500000           0.021596                  1        0  ...           0        0   \n",
      "3            4.600000           0.021596                  1        0  ...           0        0   \n",
      "4            3.500000           0.021596                  1        0  ...           0        0   \n",
      "...               ...                ...                ...      ...  ...         ...      ...   \n",
      "2829        10.400000           0.021596                  0        0  ...           0        0   \n",
      "2831         6.900000           0.021596                  0        0  ...           0        0   \n",
      "2832         9.200000           0.021596                  0        0  ...           0        0   \n",
      "2833         3.500000           0.021596                  0        0  ...           0        0   \n",
      "2834         6.900000           0.021596                  0        0  ...           0        0   \n",
      "\n",
      "      Stop  Traffic_Calming  Traffic_Signal  Sunrise_Sunset  Civil_Twilight  Nautical_Twilight  \\\n",
      "0        0                0               0               0               0                  0   \n",
      "1        0                0               0               0               0                  0   \n",
      "2        0                0               1               0               0                  1   \n",
      "3        0                0               0               0               1                  1   \n",
      "4        0                0               1               1               1                  1   \n",
      "...    ...              ...             ...             ...             ...                ...   \n",
      "2829     0                0               0               1               1                  1   \n",
      "2831     0                0               0               1               1                  1   \n",
      "2832     0                0               0               1               1                  1   \n",
      "2833     0                0               1               1               1                  1   \n",
      "2834     0                0               0               1               1                  1   \n",
      "\n",
      "      Astronomical_Twilight  Severity4  \n",
      "0                         0          1  \n",
      "1                         1          0  \n",
      "2                         1          0  \n",
      "3                         1          1  \n",
      "4                         1          0  \n",
      "...                     ...        ...  \n",
      "2829                      1          1  \n",
      "2831                      1          0  \n",
      "2832                      1          0  \n",
      "2833                      1          1  \n",
      "2834                      1          0  \n",
      "\n",
      "[2815 rows x 26 columns]\n"
     ]
    }
   ],
   "source": [
    "print(df)"
   ]
  },
  {
   "cell_type": "code",
   "execution_count": 76,
   "id": "d8840ab2",
   "metadata": {},
   "outputs": [],
   "source": [
    "#(df['Wind_Chill(F)'] < 0).any()"
   ]
  },
  {
   "cell_type": "code",
   "execution_count": 77,
   "id": "bcd753b5",
   "metadata": {},
   "outputs": [
    {
     "name": "stdout",
     "output_type": "stream",
     "text": [
      "int64\n"
     ]
    }
   ],
   "source": [
    "print(df['Severity4'].dtype)"
   ]
  },
  {
   "cell_type": "code",
   "execution_count": 78,
   "id": "693833db",
   "metadata": {},
   "outputs": [
    {
     "data": {
      "text/plain": [
       "0       1\n",
       "1       0\n",
       "2       0\n",
       "3       1\n",
       "4       0\n",
       "       ..\n",
       "2829    1\n",
       "2831    0\n",
       "2832    0\n",
       "2833    1\n",
       "2834    0\n",
       "Name: Severity4, Length: 2815, dtype: int32"
      ]
     },
     "execution_count": 78,
     "metadata": {},
     "output_type": "execute_result"
    }
   ],
   "source": [
    "df['Severity4'].astype(int)"
   ]
  },
  {
   "cell_type": "code",
   "execution_count": 79,
   "id": "1dd2aba1",
   "metadata": {},
   "outputs": [
    {
     "name": "stdout",
     "output_type": "stream",
     "text": [
      "int64\n"
     ]
    }
   ],
   "source": [
    "print(df['Severity4'].dtype)"
   ]
  },
  {
   "cell_type": "code",
   "execution_count": 80,
   "id": "dca36da5",
   "metadata": {},
   "outputs": [
    {
     "name": "stdout",
     "output_type": "stream",
     "text": [
      "Index(['Distance(mi)', 'Temperature(F)', 'Humidity(%)', 'Pressure(in)', 'Visibility(mi)',\n",
      "       'Wind_Direction', 'Wind_Speed(mph)', 'Precipitation(in)', 'Weather_Condition', 'Amenity',\n",
      "       'Bump', 'Crossing', 'Give_Way', 'Junction', 'No_Exit', 'Railway', 'Roundabout', 'Station',\n",
      "       'Stop', 'Traffic_Calming', 'Traffic_Signal', 'Sunrise_Sunset', 'Civil_Twilight',\n",
      "       'Nautical_Twilight', 'Astronomical_Twilight', 'Severity4'],\n",
      "      dtype='object')\n"
     ]
    }
   ],
   "source": [
    "print(df.columns)"
   ]
  },
  {
   "cell_type": "code",
   "execution_count": 81,
   "id": "0bb9f515",
   "metadata": {},
   "outputs": [
    {
     "name": "stdout",
     "output_type": "stream",
     "text": [
      "[8.12118143e+00 3.40292254e+01 6.79989858e+01 8.03733109e-06 3.47949299e+00 1.49650633e+02 2.27085760e+01 6.21448427e-03 8.71546679e+05 1.90849725e+01 1.41423671e+00 8.00983654e+01 4.94966646e+00 7.23952345e+01 4.24271012e+00 2.24275751e+00 7.07095209e-01 8.91664253e+00 3.32980067e+01 6.06659580e-02 1.21073999e+02 6.79749534e-01 5.18313222e-02 8.90549842e-03]\n",
      "[[ 36.9         91.           0.           9.81768105   4.           0.           0.           0.           0.           0.        ]\n",
      " [ 37.9        100.           0.           9.81768105   4.           0.           0.           0.           0.           0.        ]\n",
      " [ 36.         100.          12.           3.5          1.           0.           0.           0.           0.           1.        ]\n",
      " [ 35.1         96.          12.           4.6          1.           0.           0.           0.           0.           0.        ]\n",
      " [ 36.          89.          12.           3.5          1.           0.           0.           0.           0.           1.        ]\n",
      " [ 37.9         97.           1.           3.5          4.           0.           0.           0.           0.           0.        ]\n",
      " [ 34.         100.           2.           3.5          1.           0.           0.           0.           0.           0.        ]\n",
      " [ 34.         100.           2.           3.5          1.           0.           0.           0.           0.           0.        ]\n",
      " [ 33.3         99.          12.           1.2          1.           0.           0.           0.           0.           0.        ]\n",
      " [ 37.4        100.           1.           4.6          4.           0.           0.           0.           0.           0.        ]]\n"
     ]
    }
   ],
   "source": [
    "array = df.values\n",
    "\n",
    "X = array[:,0:24]\n",
    "#Y = array[:,25]\n",
    "Y = df['Severity4']\n",
    "\n",
    "# estrazione features\n",
    "test = SelectKBest(score_func=chi2, k=10)\n",
    "fit = test.fit(X,Y)\n",
    "\n",
    "numpy.set_printoptions(linewidth=numpy.inf)\n",
    "# riassunto punteggi\n",
    "print(fit.scores_)\n",
    "features = fit.transform(X)\n",
    "\n",
    "# riassunto features selezionate\n",
    "print(features[0:10,:])"
   ]
  },
  {
   "cell_type": "code",
   "execution_count": 82,
   "id": "70197b79",
   "metadata": {},
   "outputs": [
    {
     "name": "stdout",
     "output_type": "stream",
     "text": [
      "Colonnes selezionate: Index(['Temperature(F)', 'Humidity(%)', 'Wind_Direction', 'Wind_Speed(mph)', 'Weather_Condition',\n",
      "       'Amenity', 'Crossing', 'Junction', 'Stop', 'Traffic_Signal'],\n",
      "      dtype='object')\n"
     ]
    }
   ],
   "source": [
    "selected_indices = fit.get_support(indices=True)  # Ottieni gli indici delle colonne selezionate\n",
    "selected_columns = df.columns[selected_indices]  # Ottieni i nomi delle colonne selezionate\n",
    "\n",
    "print(\"Colonnes selezionate:\", selected_columns)"
   ]
  },
  {
   "cell_type": "code",
   "execution_count": 83,
   "id": "0118d2ef",
   "metadata": {},
   "outputs": [
    {
     "name": "stdout",
     "output_type": "stream",
     "text": [
      "[ 1  2  5  6  8  9 11 13 18 20]\n"
     ]
    }
   ],
   "source": [
    "print(selected_indices)"
   ]
  },
  {
   "cell_type": "code",
   "execution_count": 84,
   "id": "a0866876",
   "metadata": {},
   "outputs": [
    {
     "name": "stdout",
     "output_type": "stream",
     "text": [
      "[0.64184397 0.67730496 0.66312057 0.66666667 0.71276596 0.68683274 0.69039146 0.67259786 0.66903915 0.66192171]\n",
      "0.674248504580904\n"
     ]
    }
   ],
   "source": [
    "array = df.values\n",
    "X = array[:,0:24]\n",
    "Y = array[:,25]\n",
    "num_trees = 100\n",
    "max_features = 5\n",
    "kfold = KFold(n_splits=10, shuffle=True, random_state=7)\n",
    "model = RandomForestClassifier(n_estimators=num_trees, max_features=max_features)\n",
    "results = cross_val_score(model, X, Y, cv=kfold)\n",
    "print(results)\n",
    "print(results.mean())"
   ]
  },
  {
   "cell_type": "code",
   "execution_count": 85,
   "id": "be98db61",
   "metadata": {},
   "outputs": [
    {
     "name": "stdout",
     "output_type": "stream",
     "text": [
      "[0.64539007 0.65248227 0.65957447 0.67730496 0.66312057 0.66903915 0.70106762 0.6405694  0.66548043 0.60854093]\n",
      "0.6582569849322331\n"
     ]
    }
   ],
   "source": [
    "array = df.values\n",
    "X = features\n",
    "Y = array[:,25]\n",
    "num_trees = 100\n",
    "max_features = 5\n",
    "kfold = KFold(n_splits=10, shuffle=True, random_state=7)\n",
    "model = RandomForestClassifier(n_estimators=num_trees, max_features=max_features)\n",
    "results = cross_val_score(model, X, Y, cv=kfold)\n",
    "print(results)\n",
    "print(results.mean())"
   ]
  },
  {
   "cell_type": "code",
   "execution_count": null,
   "id": "3d669a94",
   "metadata": {},
   "outputs": [],
   "source": []
  }
 ],
 "metadata": {
  "kernelspec": {
   "display_name": "Python 3 (ipykernel)",
   "language": "python",
   "name": "python3"
  },
  "language_info": {
   "codemirror_mode": {
    "name": "ipython",
    "version": 3
   },
   "file_extension": ".py",
   "mimetype": "text/x-python",
   "name": "python",
   "nbconvert_exporter": "python",
   "pygments_lexer": "ipython3",
   "version": "3.10.9"
  }
 },
 "nbformat": 4,
 "nbformat_minor": 5
}
