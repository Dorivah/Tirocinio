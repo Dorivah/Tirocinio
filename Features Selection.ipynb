{
 "cells": [
  {
   "cell_type": "code",
   "execution_count": 1,
   "id": "60106392",
   "metadata": {},
   "outputs": [],
   "source": [
    "import pandas\n",
    "import numpy\n",
    "import sklearn.feature_selection \n",
    "from pandas import read_csv\n",
    "from pandas import set_option\n",
    "from numpy import set_printoptions\n",
    "from sklearn.feature_selection import SelectKBest\n",
    "from sklearn.feature_selection import chi2\n",
    "\n",
    "\n",
    "data = pandas.read_csv('./US_Accidents_March23.csv')\n",
    "data2 = pandas.read_csv('./train_mobile.csv')"
   ]
  },
  {
   "cell_type": "code",
   "execution_count": 2,
   "id": "c4be1156-e510-401b-aa41-950ee77e3ed9",
   "metadata": {},
   "outputs": [
    {
     "name": "stdout",
     "output_type": "stream",
     "text": [
      "                   Severity  Start_Lat  Start_Lng  End_Lat  End_Lng  Distance(mi)  Temperature(F)  \\\n",
      "Severity           1.000000  -0.076981  -0.103261      NaN      NaN      0.034340        0.046538   \n",
      "Start_Lat         -0.076981   1.000000   0.861073      NaN      NaN      0.103625       -0.567659   \n",
      "Start_Lng         -0.103261   0.861073   1.000000      NaN      NaN      0.120892       -0.748900   \n",
      "End_Lat                 NaN        NaN        NaN      NaN      NaN           NaN             NaN   \n",
      "End_Lng                 NaN        NaN        NaN      NaN      NaN           NaN             NaN   \n",
      "Distance(mi)       0.034340   0.103625   0.120892      NaN      NaN      1.000000       -0.109664   \n",
      "Temperature(F)     0.046538  -0.567659  -0.748900      NaN      NaN     -0.109664        1.000000   \n",
      "Wind_Chill(F)     -0.227485  -0.193373  -0.181182      NaN      NaN     -0.017924        0.977217   \n",
      "Humidity(%)       -0.051149   0.265370   0.468385      NaN      NaN      0.080519       -0.804728   \n",
      "Pressure(in)       0.002198   0.004355   0.061179      NaN      NaN     -0.042234       -0.224227   \n",
      "Visibility(mi)     0.048129  -0.437290  -0.500385      NaN      NaN     -0.103921        0.489510   \n",
      "Wind_Speed(mph)    0.066140  -0.010574   0.016506      NaN      NaN      0.024571        0.021474   \n",
      "Precipitation(in)  0.060461   0.190027   0.083097      NaN      NaN      0.083497        0.247758   \n",
      "\n",
      "                   Wind_Chill(F)  Humidity(%)  Pressure(in)  Visibility(mi)  Wind_Speed(mph)  \\\n",
      "Severity               -0.227485    -0.051149      0.002198        0.048129         0.066140   \n",
      "Start_Lat              -0.193373     0.265370      0.004355       -0.437290        -0.010574   \n",
      "Start_Lng              -0.181182     0.468385      0.061179       -0.500385         0.016506   \n",
      "End_Lat                      NaN          NaN           NaN             NaN              NaN   \n",
      "End_Lng                      NaN          NaN           NaN             NaN              NaN   \n",
      "Distance(mi)           -0.017924     0.080519     -0.042234       -0.103921         0.024571   \n",
      "Temperature(F)          0.977217    -0.804728     -0.224227        0.489510         0.021474   \n",
      "Wind_Chill(F)           1.000000     0.092478     -0.276611        0.196162        -0.136024   \n",
      "Humidity(%)             0.092478     1.000000      0.020229       -0.482956        -0.080342   \n",
      "Pressure(in)           -0.276611     0.020229      1.000000        0.193466        -0.073640   \n",
      "Visibility(mi)          0.196162    -0.482956      0.193466        1.000000         0.079107   \n",
      "Wind_Speed(mph)        -0.136024    -0.080342     -0.073640        0.079107         1.000000   \n",
      "Precipitation(in)       0.404798     0.285182     -0.383209       -0.047328         0.194012   \n",
      "\n",
      "                   Precipitation(in)  \n",
      "Severity                    0.060461  \n",
      "Start_Lat                   0.190027  \n",
      "Start_Lng                   0.083097  \n",
      "End_Lat                          NaN  \n",
      "End_Lng                          NaN  \n",
      "Distance(mi)                0.083497  \n",
      "Temperature(F)              0.247758  \n",
      "Wind_Chill(F)               0.404798  \n",
      "Humidity(%)                 0.285182  \n",
      "Pressure(in)               -0.383209  \n",
      "Visibility(mi)             -0.047328  \n",
      "Wind_Speed(mph)             0.194012  \n",
      "Precipitation(in)           1.000000  \n"
     ]
    }
   ],
   "source": [
    "set_option('display.width', 100)\n",
    "correlations = data.corr(method='pearson', numeric_only=True)\n",
    "print(correlations)"
   ]
  },
  {
   "cell_type": "code",
   "execution_count": 3,
   "id": "7bd6d145-a7fb-4a6a-9253-0817d8a6cdbb",
   "metadata": {},
   "outputs": [],
   "source": [
    "# dalla matrice di correlazione vediamo che sono correlate:\n",
    "#        Start_Lat e Start_Lng (0.86 ca)\n",
    "#        Start_Lng e Temperature (-0.74 ca)\n",
    "#        Wind_Chill e Temperature (0.97 ca)\n",
    "#        Humidity e Temperature (-0.87 ca)"
   ]
  },
  {
   "cell_type": "code",
   "execution_count": 4,
   "id": "c5d4d2b9-7bf1-4893-9526-0d5cfc8da1e6",
   "metadata": {},
   "outputs": [],
   "source": [
    "# metodi di scelta delle feature del dataset train_mobile con price range scelta come variabile da predirre (output)"
   ]
  },
  {
   "cell_type": "code",
   "execution_count": 5,
   "id": "897643ac-d953-4abc-9345-96b308ddbc59",
   "metadata": {},
   "outputs": [
    {
     "name": "stdout",
     "output_type": "stream",
     "text": [
      "[1.41298666e+04 7.23232323e-01 6.48365906e-01 6.31010795e-01\n",
      " 1.01351665e+01 1.52157239e+00 8.98391244e+01 7.45819631e-01\n",
      " 9.59728626e+01 9.09755558e+00 9.18605355e+00 1.73635695e+04\n",
      " 9.81058675e+03 9.31267519e+05 9.61487832e+00 1.64803191e+01\n",
      " 1.32364000e+01 3.27642810e-01 1.92842942e+00 4.22090730e-01]\n",
      "[[ 842.   20.  756. 2549.]\n",
      " [1021.  905. 1988. 2631.]\n",
      " [ 563. 1263. 1716. 2603.]\n",
      " [ 615. 1216. 1786. 2769.]\n",
      " [1821. 1208. 1212. 1411.]]\n"
     ]
    }
   ],
   "source": [
    "# uso Univariate Selection, un test statistico per selezionare le feature che incidono \n",
    "# maggiormente sulla variabile in output\n",
    "\n",
    "array2 = data2.values\n",
    "X2 = array2[:,0:20]\n",
    "Y2 = array2[:,20]\n",
    "\n",
    "# estrazione features\n",
    "test2 = SelectKBest(score_func=chi2, k=4)\n",
    "fit2 = test2.fit(X2,Y2)\n",
    "\n",
    "# riassunto punteggi\n",
    "print(fit2.scores_)\n",
    "features2 = fit2.transform(X2)\n",
    "\n",
    "# riassunto features selezionate\n",
    "print(features2[0:5,:])"
   ]
  },
  {
   "cell_type": "code",
   "execution_count": 6,
   "id": "0e69cdc4-d68f-487a-9e40-28b431124fae",
   "metadata": {},
   "outputs": [],
   "source": [
    "# le features che incidono maggiormente sul price range sono in ordine: \n",
    "#        ram (9.31267519e+05)\n",
    "#        px_height (1.73635695e+04)\n",
    "#        px_width (9.81058675e+03)\n",
    "#        battery_power (1.41298666e+04)\n",
    "# la matrice sotto indica i valori in input delle features selezionate (abbiamo preso le prime 5 righe \n",
    "# per avere un output più leggibile)"
   ]
  },
  {
   "cell_type": "code",
   "execution_count": 7,
   "id": "f562c08f-dc12-4a41-9d3c-837bf5ca956f",
   "metadata": {
    "scrolled": true
   },
   "outputs": [
    {
     "name": "stdout",
     "output_type": "stream",
     "text": [
      "          ID   Source  Severity           Start_Time             End_Time  Start_Lat   Start_Lng  \\\n",
      "0        A-1  Source2         3  2016-02-08 05:46:00  2016-02-08 11:00:00  39.865147  -84.058723   \n",
      "1        A-2  Source2         2  2016-02-08 06:07:59  2016-02-08 06:37:59  39.928059  -82.831184   \n",
      "2        A-3  Source2         2  2016-02-08 06:49:27  2016-02-08 07:19:27  39.063148  -84.032608   \n",
      "3        A-4  Source2         3  2016-02-08 07:23:34  2016-02-08 07:53:34  39.747753  -84.205582   \n",
      "4        A-5  Source2         2  2016-02-08 07:39:07  2016-02-08 08:09:07  39.627781  -84.188354   \n",
      "...      ...      ...       ...                  ...                  ...        ...         ...   \n",
      "2831  A-2832  Source2         2  2016-07-12 15:12:42  2016-07-12 16:27:42  38.474407 -121.419067   \n",
      "2832  A-2833  Source2         2  2016-07-12 15:45:38  2016-07-12 17:00:38  38.495541 -121.511070   \n",
      "2833  A-2834  Source2         3  2016-07-12 15:26:19  2016-07-12 16:41:19  38.588917 -121.415375   \n",
      "2834  A-2835  Source2         2  2016-07-12 15:50:04  2016-07-12 17:05:04  38.742481 -120.747398   \n",
      "2835  A-2836  Source2         2  2016-07-12 16:12:21  2016-07-12 16:42:21  38.567966 -122.829018   \n",
      "\n",
      "      End_Lat  End_Lng  Distance(mi)  ... Roundabout Station   Stop Traffic_Calming  \\\n",
      "0         NaN      NaN          0.01  ...      False   False  False           False   \n",
      "1         NaN      NaN          0.01  ...      False   False  False           False   \n",
      "2         NaN      NaN          0.01  ...      False   False  False           False   \n",
      "3         NaN      NaN          0.01  ...      False   False  False           False   \n",
      "4         NaN      NaN          0.01  ...      False   False  False           False   \n",
      "...       ...      ...           ...  ...        ...     ...    ...             ...   \n",
      "2831      NaN      NaN          0.00  ...      False   False  False           False   \n",
      "2832      NaN      NaN          0.00  ...      False   False  False           False   \n",
      "2833      NaN      NaN          0.00  ...      False   False  False           False   \n",
      "2834      NaN      NaN          0.00  ...      False   False  False           False   \n",
      "2835      NaN      NaN          0.00  ...        NaN     NaN    NaN             NaN   \n",
      "\n",
      "     Traffic_Signal Turning_Loop Sunrise_Sunset Civil_Twilight Nautical_Twilight  \\\n",
      "0             False        False          Night          Night             Night   \n",
      "1             False        False          Night          Night             Night   \n",
      "2              True        False          Night          Night               Day   \n",
      "3             False        False          Night            Day               Day   \n",
      "4              True        False            Day            Day               Day   \n",
      "...             ...          ...            ...            ...               ...   \n",
      "2831          False        False            Day            Day               Day   \n",
      "2832          False        False            Day            Day               Day   \n",
      "2833           True        False            Day            Day               Day   \n",
      "2834          False        False            Day            Day               Day   \n",
      "2835            NaN          NaN            NaN            NaN               NaN   \n",
      "\n",
      "     Astronomical_Twilight  \n",
      "0                    Night  \n",
      "1                      Day  \n",
      "2                      Day  \n",
      "3                      Day  \n",
      "4                      Day  \n",
      "...                    ...  \n",
      "2831                   Day  \n",
      "2832                   Day  \n",
      "2833                   Day  \n",
      "2834                   Day  \n",
      "2835                   NaN  \n",
      "\n",
      "[2836 rows x 46 columns]\n"
     ]
    }
   ],
   "source": [
    "# prova con il dataset sugli incidenti stradali\n",
    "\n",
    "print(data)"
   ]
  },
  {
   "cell_type": "code",
   "execution_count": 8,
   "id": "2e9eefd8",
   "metadata": {},
   "outputs": [
    {
     "name": "stdout",
     "output_type": "stream",
     "text": [
      "      Severity           Start_Time             End_Time  \\\n",
      "0            3  2016-02-08 05:46:00  2016-02-08 11:00:00   \n",
      "1            2  2016-02-08 06:07:59  2016-02-08 06:37:59   \n",
      "2            2  2016-02-08 06:49:27  2016-02-08 07:19:27   \n",
      "3            3  2016-02-08 07:23:34  2016-02-08 07:53:34   \n",
      "4            2  2016-02-08 07:39:07  2016-02-08 08:09:07   \n",
      "...        ...                  ...                  ...   \n",
      "2831         2  2016-07-12 15:12:42  2016-07-12 16:27:42   \n",
      "2832         2  2016-07-12 15:45:38  2016-07-12 17:00:38   \n",
      "2833         3  2016-07-12 15:26:19  2016-07-12 16:41:19   \n",
      "2834         2  2016-07-12 15:50:04  2016-07-12 17:05:04   \n",
      "2835         2  2016-07-12 16:12:21  2016-07-12 16:42:21   \n",
      "\n",
      "                                            Description                     Street          City  \\\n",
      "0     Right lane blocked due to accident on I-70 Eas...                     I-70 E        Dayton   \n",
      "1     Accident on Brice Rd at Tussing Rd. Expect del...                   Brice Rd  Reynoldsburg   \n",
      "2     Accident on OH-32 State Route 32 Westbound at ...             State Route 32  Williamsburg   \n",
      "3     Accident on I-75 Southbound at Exits 52 52B US...                     I-75 S        Dayton   \n",
      "4     Accident on McEwen Rd at OH-725 Miamisburg Cen...  Miamisburg Centerville Rd        Dayton   \n",
      "...                                                 ...                        ...           ...   \n",
      "2831  Queueing traffic due to accident on Stockton B...              Stockton Blvd    Sacramento   \n",
      "2832  Slow traffic due to accident on Florin Rd in S...                  Florin Rd    Sacramento   \n",
      "2833  Slow traffic due to accident on Hurley Way at ...                   Howe Ave    Sacramento   \n",
      "2834           Accident on Carson Rd at Union Ridge Rd.                  Carson Rd   Placerville   \n",
      "2835              Accident on US-101 Southbound at Exit                        NaN           NaN   \n",
      "\n",
      "          County State     Zipcode Country  ... Roundabout Station   Stop  Traffic_Calming  \\\n",
      "0     Montgomery    OH       45424      US  ...      False   False  False            False   \n",
      "1       Franklin    OH  43068-3402      US  ...      False   False  False            False   \n",
      "2       Clermont    OH       45176      US  ...      False   False  False            False   \n",
      "3     Montgomery    OH       45417      US  ...      False   False  False            False   \n",
      "4     Montgomery    OH       45459      US  ...      False   False  False            False   \n",
      "...          ...   ...         ...     ...  ...        ...     ...    ...              ...   \n",
      "2831  Sacramento    CA       95823      US  ...      False   False  False            False   \n",
      "2832  Sacramento    CA  95831-3617      US  ...      False   False  False            False   \n",
      "2833  Sacramento    CA  95825-3401      US  ...      False   False  False            False   \n",
      "2834   El Dorado    CA  95667-5107      US  ...      False   False  False            False   \n",
      "2835         NaN   NaN         NaN     NaN  ...        NaN     NaN    NaN              NaN   \n",
      "\n",
      "      Traffic_Signal  Turning_Loop  Sunrise_Sunset  Civil_Twilight Nautical_Twilight  \\\n",
      "0              False         False           Night           Night             Night   \n",
      "1              False         False           Night           Night             Night   \n",
      "2               True         False           Night           Night               Day   \n",
      "3              False         False           Night             Day               Day   \n",
      "4               True         False             Day             Day               Day   \n",
      "...              ...           ...             ...             ...               ...   \n",
      "2831           False         False             Day             Day               Day   \n",
      "2832           False         False             Day             Day               Day   \n",
      "2833            True         False             Day             Day               Day   \n",
      "2834           False         False             Day             Day               Day   \n",
      "2835             NaN           NaN             NaN             NaN               NaN   \n",
      "\n",
      "      Astronomical_Twilight  \n",
      "0                     Night  \n",
      "1                       Day  \n",
      "2                       Day  \n",
      "3                       Day  \n",
      "4                       Day  \n",
      "...                     ...  \n",
      "2831                    Day  \n",
      "2832                    Day  \n",
      "2833                    Day  \n",
      "2834                    Day  \n",
      "2835                    NaN  \n",
      "\n",
      "[2836 rows x 39 columns]\n"
     ]
    }
   ],
   "source": [
    "data = data.drop(['ID', 'Source', 'Start_Lat', 'Start_Lng', 'End_Lat', 'End_Lng', 'Distance(mi)'], axis=1)\n",
    "print(data)"
   ]
  },
  {
   "cell_type": "code",
   "execution_count": 9,
   "id": "ea0fb95f",
   "metadata": {},
   "outputs": [
    {
     "name": "stdout",
     "output_type": "stream",
     "text": [
      "      Severity           Start_Time             End_Time                     Street          City  \\\n",
      "0            3  2016-02-08 05:46:00  2016-02-08 11:00:00                     I-70 E        Dayton   \n",
      "1            2  2016-02-08 06:07:59  2016-02-08 06:37:59                   Brice Rd  Reynoldsburg   \n",
      "2            2  2016-02-08 06:49:27  2016-02-08 07:19:27             State Route 32  Williamsburg   \n",
      "3            3  2016-02-08 07:23:34  2016-02-08 07:53:34                     I-75 S        Dayton   \n",
      "4            2  2016-02-08 07:39:07  2016-02-08 08:09:07  Miamisburg Centerville Rd        Dayton   \n",
      "...        ...                  ...                  ...                        ...           ...   \n",
      "2831         2  2016-07-12 15:12:42  2016-07-12 16:27:42              Stockton Blvd    Sacramento   \n",
      "2832         2  2016-07-12 15:45:38  2016-07-12 17:00:38                  Florin Rd    Sacramento   \n",
      "2833         3  2016-07-12 15:26:19  2016-07-12 16:41:19                   Howe Ave    Sacramento   \n",
      "2834         2  2016-07-12 15:50:04  2016-07-12 17:05:04                  Carson Rd   Placerville   \n",
      "2835         2  2016-07-12 16:12:21  2016-07-12 16:42:21                        NaN           NaN   \n",
      "\n",
      "          County    Timezone Airport_Code    Weather_Timestamp  Temperature(F)  ...  Roundabout  \\\n",
      "0     Montgomery  US/Eastern         KFFO  2016-02-08 05:58:00            36.9  ...       False   \n",
      "1       Franklin  US/Eastern         KCMH  2016-02-08 05:51:00            37.9  ...       False   \n",
      "2       Clermont  US/Eastern         KI69  2016-02-08 06:56:00            36.0  ...       False   \n",
      "3     Montgomery  US/Eastern         KDAY  2016-02-08 07:38:00            35.1  ...       False   \n",
      "4     Montgomery  US/Eastern         KMGY  2016-02-08 07:53:00            36.0  ...       False   \n",
      "...          ...         ...          ...                  ...             ...  ...         ...   \n",
      "2831  Sacramento  US/Pacific         KSAC  2016-07-12 14:53:00            87.1  ...       False   \n",
      "2832  Sacramento  US/Pacific         KSAC  2016-07-12 15:53:00            88.0  ...       False   \n",
      "2833  Sacramento  US/Pacific         KMCC  2016-07-12 15:35:00            89.6  ...       False   \n",
      "2834   El Dorado  US/Pacific         KPVF  2016-07-12 15:55:00            84.2  ...       False   \n",
      "2835         NaN         NaN          NaN                  NaN             NaN  ...         NaN   \n",
      "\n",
      "      Station   Stop  Traffic_Calming Traffic_Signal  Turning_Loop  Sunrise_Sunset Civil_Twilight  \\\n",
      "0       False  False            False          False         False           Night          Night   \n",
      "1       False  False            False          False         False           Night          Night   \n",
      "2       False  False            False           True         False           Night          Night   \n",
      "3       False  False            False          False         False           Night            Day   \n",
      "4       False  False            False           True         False             Day            Day   \n",
      "...       ...    ...              ...            ...           ...             ...            ...   \n",
      "2831    False  False            False          False         False             Day            Day   \n",
      "2832    False  False            False          False         False             Day            Day   \n",
      "2833    False  False            False           True         False             Day            Day   \n",
      "2834    False  False            False          False         False             Day            Day   \n",
      "2835      NaN    NaN              NaN            NaN           NaN             NaN            NaN   \n",
      "\n",
      "     Nautical_Twilight Astronomical_Twilight  \n",
      "0                Night                 Night  \n",
      "1                Night                   Day  \n",
      "2                  Day                   Day  \n",
      "3                  Day                   Day  \n",
      "4                  Day                   Day  \n",
      "...                ...                   ...  \n",
      "2831               Day                   Day  \n",
      "2832               Day                   Day  \n",
      "2833               Day                   Day  \n",
      "2834               Day                   Day  \n",
      "2835               NaN                   NaN  \n",
      "\n",
      "[2836 rows x 35 columns]\n"
     ]
    }
   ],
   "source": [
    "data = data.drop(['Description', 'State', 'Zipcode', 'Country'], axis=1)\n",
    "print(data)"
   ]
  },
  {
   "cell_type": "code",
   "execution_count": 10,
   "id": "7185d062",
   "metadata": {},
   "outputs": [
    {
     "name": "stdout",
     "output_type": "stream",
     "text": [
      "      Severity           Start_Time             End_Time  Temperature(F)  Wind_Chill(F)  \\\n",
      "0            3  2016-02-08 05:46:00  2016-02-08 11:00:00            36.9            NaN   \n",
      "1            2  2016-02-08 06:07:59  2016-02-08 06:37:59            37.9            NaN   \n",
      "2            2  2016-02-08 06:49:27  2016-02-08 07:19:27            36.0           33.3   \n",
      "3            3  2016-02-08 07:23:34  2016-02-08 07:53:34            35.1           31.0   \n",
      "4            2  2016-02-08 07:39:07  2016-02-08 08:09:07            36.0           33.3   \n",
      "...        ...                  ...                  ...             ...            ...   \n",
      "2831         2  2016-07-12 15:12:42  2016-07-12 16:27:42            87.1            NaN   \n",
      "2832         2  2016-07-12 15:45:38  2016-07-12 17:00:38            88.0            NaN   \n",
      "2833         3  2016-07-12 15:26:19  2016-07-12 16:41:19            89.6            NaN   \n",
      "2834         2  2016-07-12 15:50:04  2016-07-12 17:05:04            84.2            NaN   \n",
      "2835         2  2016-07-12 16:12:21  2016-07-12 16:42:21             NaN            NaN   \n",
      "\n",
      "      Humidity(%)  Pressure(in)  Visibility(mi) Wind_Direction  Wind_Speed(mph)  ...  Roundabout  \\\n",
      "0            91.0         29.68            10.0           Calm              NaN  ...       False   \n",
      "1           100.0         29.65            10.0           Calm              NaN  ...       False   \n",
      "2           100.0         29.67            10.0             SW              3.5  ...       False   \n",
      "3            96.0         29.64             9.0             SW              4.6  ...       False   \n",
      "4            89.0         29.65             6.0             SW              3.5  ...       False   \n",
      "...           ...           ...             ...            ...              ...  ...         ...   \n",
      "2831         29.0         29.91            10.0            SSW              6.9  ...       False   \n",
      "2832         28.0         29.89            10.0            SSW              9.2  ...       False   \n",
      "2833         22.0         29.91            10.0             SW              3.5  ...       False   \n",
      "2834         15.0         30.03            10.0            WSW              6.9  ...       False   \n",
      "2835          NaN           NaN             NaN            NaN              NaN  ...         NaN   \n",
      "\n",
      "     Station   Stop Traffic_Calming Traffic_Signal Turning_Loop Sunrise_Sunset Civil_Twilight  \\\n",
      "0      False  False           False          False        False          Night          Night   \n",
      "1      False  False           False          False        False          Night          Night   \n",
      "2      False  False           False           True        False          Night          Night   \n",
      "3      False  False           False          False        False          Night            Day   \n",
      "4      False  False           False           True        False            Day            Day   \n",
      "...      ...    ...             ...            ...          ...            ...            ...   \n",
      "2831   False  False           False          False        False            Day            Day   \n",
      "2832   False  False           False          False        False            Day            Day   \n",
      "2833   False  False           False           True        False            Day            Day   \n",
      "2834   False  False           False          False        False            Day            Day   \n",
      "2835     NaN    NaN             NaN            NaN          NaN            NaN            NaN   \n",
      "\n",
      "     Nautical_Twilight Astronomical_Twilight  \n",
      "0                Night                 Night  \n",
      "1                Night                   Day  \n",
      "2                  Day                   Day  \n",
      "3                  Day                   Day  \n",
      "4                  Day                   Day  \n",
      "...                ...                   ...  \n",
      "2831               Day                   Day  \n",
      "2832               Day                   Day  \n",
      "2833               Day                   Day  \n",
      "2834               Day                   Day  \n",
      "2835               NaN                   NaN  \n",
      "\n",
      "[2836 rows x 29 columns]\n"
     ]
    }
   ],
   "source": [
    "data = data.drop(['Street', 'City', 'County', 'Timezone', 'Airport_Code', 'Weather_Timestamp'], axis=1)\n",
    "print(data)"
   ]
  },
  {
   "cell_type": "code",
   "execution_count": 11,
   "id": "43bce198",
   "metadata": {},
   "outputs": [
    {
     "name": "stdout",
     "output_type": "stream",
     "text": [
      "      Severity           Start_Time             End_Time  Temperature(F)  Pressure(in)  \\\n",
      "0            3  2016-02-08 05:46:00  2016-02-08 11:00:00            36.9         29.68   \n",
      "1            2  2016-02-08 06:07:59  2016-02-08 06:37:59            37.9         29.65   \n",
      "2            2  2016-02-08 06:49:27  2016-02-08 07:19:27            36.0         29.67   \n",
      "3            3  2016-02-08 07:23:34  2016-02-08 07:53:34            35.1         29.64   \n",
      "4            2  2016-02-08 07:39:07  2016-02-08 08:09:07            36.0         29.65   \n",
      "...        ...                  ...                  ...             ...           ...   \n",
      "2831         2  2016-07-12 15:12:42  2016-07-12 16:27:42            87.1         29.91   \n",
      "2832         2  2016-07-12 15:45:38  2016-07-12 17:00:38            88.0         29.89   \n",
      "2833         3  2016-07-12 15:26:19  2016-07-12 16:41:19            89.6         29.91   \n",
      "2834         2  2016-07-12 15:50:04  2016-07-12 17:05:04            84.2         30.03   \n",
      "2835         2  2016-07-12 16:12:21  2016-07-12 16:42:21             NaN           NaN   \n",
      "\n",
      "      Visibility(mi) Wind_Direction  Wind_Speed(mph)  Precipitation(in) Weather_Condition  ...  \\\n",
      "0               10.0           Calm              NaN               0.02        Light Rain  ...   \n",
      "1               10.0           Calm              NaN               0.00        Light Rain  ...   \n",
      "2               10.0             SW              3.5                NaN          Overcast  ...   \n",
      "3                9.0             SW              4.6                NaN     Mostly Cloudy  ...   \n",
      "4                6.0             SW              3.5                NaN     Mostly Cloudy  ...   \n",
      "...              ...            ...              ...                ...               ...  ...   \n",
      "2831            10.0            SSW              6.9                NaN             Clear  ...   \n",
      "2832            10.0            SSW              9.2                NaN             Clear  ...   \n",
      "2833            10.0             SW              3.5                NaN             Clear  ...   \n",
      "2834            10.0            WSW              6.9                NaN             Clear  ...   \n",
      "2835             NaN            NaN              NaN                NaN               NaN  ...   \n",
      "\n",
      "     Roundabout Station   Stop Traffic_Calming Traffic_Signal Turning_Loop Sunrise_Sunset  \\\n",
      "0         False   False  False           False          False        False          Night   \n",
      "1         False   False  False           False          False        False          Night   \n",
      "2         False   False  False           False           True        False          Night   \n",
      "3         False   False  False           False          False        False          Night   \n",
      "4         False   False  False           False           True        False            Day   \n",
      "...         ...     ...    ...             ...            ...          ...            ...   \n",
      "2831      False   False  False           False          False        False            Day   \n",
      "2832      False   False  False           False          False        False            Day   \n",
      "2833      False   False  False           False           True        False            Day   \n",
      "2834      False   False  False           False          False        False            Day   \n",
      "2835        NaN     NaN    NaN             NaN            NaN          NaN            NaN   \n",
      "\n",
      "     Civil_Twilight Nautical_Twilight Astronomical_Twilight  \n",
      "0             Night             Night                 Night  \n",
      "1             Night             Night                   Day  \n",
      "2             Night               Day                   Day  \n",
      "3               Day               Day                   Day  \n",
      "4               Day               Day                   Day  \n",
      "...             ...               ...                   ...  \n",
      "2831            Day               Day                   Day  \n",
      "2832            Day               Day                   Day  \n",
      "2833            Day               Day                   Day  \n",
      "2834            Day               Day                   Day  \n",
      "2835            NaN               NaN                   NaN  \n",
      "\n",
      "[2836 rows x 27 columns]\n"
     ]
    }
   ],
   "source": [
    "data = data.drop(['Wind_Chill(F)', 'Humidity(%)'], axis=1)\n",
    "print(data)"
   ]
  },
  {
   "cell_type": "code",
   "execution_count": 12,
   "id": "1b0cc43b",
   "metadata": {},
   "outputs": [
    {
     "data": {
      "text/plain": [
       "False    2834\n",
       "True        1\n",
       "Name: Roundabout, dtype: int64"
      ]
     },
     "execution_count": 12,
     "metadata": {},
     "output_type": "execute_result"
    }
   ],
   "source": [
    "data.Roundabout.value_counts()"
   ]
  },
  {
   "cell_type": "code",
   "execution_count": 13,
   "id": "841e0699",
   "metadata": {},
   "outputs": [
    {
     "data": {
      "text/plain": [
       "False    2786\n",
       "True       49\n",
       "Name: Station, dtype: int64"
      ]
     },
     "execution_count": 13,
     "metadata": {},
     "output_type": "execute_result"
    }
   ],
   "source": [
    "data.Station.value_counts()"
   ]
  },
  {
   "cell_type": "code",
   "execution_count": 14,
   "id": "5bf8413e",
   "metadata": {},
   "outputs": [
    {
     "data": {
      "text/plain": [
       "False    2716\n",
       "True      119\n",
       "Name: Stop, dtype: int64"
      ]
     },
     "execution_count": 14,
     "metadata": {},
     "output_type": "execute_result"
    }
   ],
   "source": [
    "data.Stop.value_counts()"
   ]
  },
  {
   "cell_type": "code",
   "execution_count": 15,
   "id": "ad5e54a8",
   "metadata": {},
   "outputs": [
    {
     "data": {
      "text/plain": [
       "False    2833\n",
       "True        2\n",
       "Name: Traffic_Calming, dtype: int64"
      ]
     },
     "execution_count": 15,
     "metadata": {},
     "output_type": "execute_result"
    }
   ],
   "source": [
    "data.Traffic_Calming.value_counts()"
   ]
  },
  {
   "cell_type": "code",
   "execution_count": 16,
   "id": "b7e22ca1",
   "metadata": {},
   "outputs": [
    {
     "data": {
      "text/plain": [
       "False    2463\n",
       "True      372\n",
       "Name: Traffic_Signal, dtype: int64"
      ]
     },
     "execution_count": 16,
     "metadata": {},
     "output_type": "execute_result"
    }
   ],
   "source": [
    "data.Traffic_Signal.value_counts()"
   ]
  },
  {
   "cell_type": "code",
   "execution_count": 17,
   "id": "65e16f54",
   "metadata": {},
   "outputs": [
    {
     "data": {
      "text/plain": [
       "False    2835\n",
       "Name: Turning_Loop, dtype: int64"
      ]
     },
     "execution_count": 17,
     "metadata": {},
     "output_type": "execute_result"
    }
   ],
   "source": [
    "data.Turning_Loop.value_counts()"
   ]
  },
  {
   "cell_type": "code",
   "execution_count": 18,
   "id": "9a9b78a6",
   "metadata": {},
   "outputs": [
    {
     "name": "stdout",
     "output_type": "stream",
     "text": [
      "      Severity           Start_Time             End_Time  Temperature(F)  Pressure(in)  \\\n",
      "0            3  2016-02-08 05:46:00  2016-02-08 11:00:00            36.9         29.68   \n",
      "1            2  2016-02-08 06:07:59  2016-02-08 06:37:59            37.9         29.65   \n",
      "2            2  2016-02-08 06:49:27  2016-02-08 07:19:27            36.0         29.67   \n",
      "3            3  2016-02-08 07:23:34  2016-02-08 07:53:34            35.1         29.64   \n",
      "4            2  2016-02-08 07:39:07  2016-02-08 08:09:07            36.0         29.65   \n",
      "...        ...                  ...                  ...             ...           ...   \n",
      "2831         2  2016-07-12 15:12:42  2016-07-12 16:27:42            87.1         29.91   \n",
      "2832         2  2016-07-12 15:45:38  2016-07-12 17:00:38            88.0         29.89   \n",
      "2833         3  2016-07-12 15:26:19  2016-07-12 16:41:19            89.6         29.91   \n",
      "2834         2  2016-07-12 15:50:04  2016-07-12 17:05:04            84.2         30.03   \n",
      "2835         2  2016-07-12 16:12:21  2016-07-12 16:42:21             NaN           NaN   \n",
      "\n",
      "      Visibility(mi) Wind_Direction  Wind_Speed(mph)  Precipitation(in) Weather_Condition  ...  \\\n",
      "0               10.0           Calm              NaN               0.02        Light Rain  ...   \n",
      "1               10.0           Calm              NaN               0.00        Light Rain  ...   \n",
      "2               10.0             SW              3.5                NaN          Overcast  ...   \n",
      "3                9.0             SW              4.6                NaN     Mostly Cloudy  ...   \n",
      "4                6.0             SW              3.5                NaN     Mostly Cloudy  ...   \n",
      "...              ...            ...              ...                ...               ...  ...   \n",
      "2831            10.0            SSW              6.9                NaN             Clear  ...   \n",
      "2832            10.0            SSW              9.2                NaN             Clear  ...   \n",
      "2833            10.0             SW              3.5                NaN             Clear  ...   \n",
      "2834            10.0            WSW              6.9                NaN             Clear  ...   \n",
      "2835             NaN            NaN              NaN                NaN               NaN  ...   \n",
      "\n",
      "     Give_Way Junction No_Exit Railway   Stop Traffic_Signal Sunrise_Sunset Civil_Twilight  \\\n",
      "0       False    False   False   False  False          False          Night          Night   \n",
      "1       False    False   False   False  False          False          Night          Night   \n",
      "2       False    False   False   False  False           True          Night          Night   \n",
      "3       False    False   False   False  False          False          Night            Day   \n",
      "4       False    False   False   False  False           True            Day            Day   \n",
      "...       ...      ...     ...     ...    ...            ...            ...            ...   \n",
      "2831    False    False   False   False  False          False            Day            Day   \n",
      "2832    False    False   False   False  False          False            Day            Day   \n",
      "2833    False    False   False   False  False           True            Day            Day   \n",
      "2834    False    False   False   False  False          False            Day            Day   \n",
      "2835      NaN      NaN     NaN     NaN    NaN            NaN            NaN            NaN   \n",
      "\n",
      "     Nautical_Twilight Astronomical_Twilight  \n",
      "0                Night                 Night  \n",
      "1                Night                   Day  \n",
      "2                  Day                   Day  \n",
      "3                  Day                   Day  \n",
      "4                  Day                   Day  \n",
      "...                ...                   ...  \n",
      "2831               Day                   Day  \n",
      "2832               Day                   Day  \n",
      "2833               Day                   Day  \n",
      "2834               Day                   Day  \n",
      "2835               NaN                   NaN  \n",
      "\n",
      "[2836 rows x 23 columns]\n"
     ]
    }
   ],
   "source": [
    "data = data.drop(['Roundabout', 'Station', 'Traffic_Calming', 'Turning_Loop'], axis=1)\n",
    "print(data)"
   ]
  },
  {
   "cell_type": "code",
   "execution_count": 19,
   "id": "13af4ad6",
   "metadata": {},
   "outputs": [
    {
     "name": "stdout",
     "output_type": "stream",
     "text": [
      "Index(['Severity', 'Start_Time', 'End_Time', 'Temperature(F)', 'Pressure(in)', 'Visibility(mi)',\n",
      "       'Wind_Direction', 'Wind_Speed(mph)', 'Precipitation(in)', 'Weather_Condition', 'Amenity',\n",
      "       'Bump', 'Crossing', 'Give_Way', 'Junction', 'No_Exit', 'Railway', 'Stop', 'Traffic_Signal',\n",
      "       'Sunrise_Sunset', 'Civil_Twilight', 'Nautical_Twilight', 'Astronomical_Twilight'],\n",
      "      dtype='object')\n"
     ]
    }
   ],
   "source": [
    "print(data.columns)"
   ]
  },
  {
   "cell_type": "code",
   "execution_count": 20,
   "id": "47755528",
   "metadata": {},
   "outputs": [
    {
     "name": "stdout",
     "output_type": "stream",
     "text": [
      "      Severity           Start_Time             End_Time  Temperature(F)  Pressure(in)  \\\n",
      "0            3  2016-02-08 05:46:00  2016-02-08 11:00:00            36.9         29.68   \n",
      "1            2  2016-02-08 06:07:59  2016-02-08 06:37:59            37.9         29.65   \n",
      "2            2  2016-02-08 06:49:27  2016-02-08 07:19:27            36.0         29.67   \n",
      "3            3  2016-02-08 07:23:34  2016-02-08 07:53:34            35.1         29.64   \n",
      "4            2  2016-02-08 07:39:07  2016-02-08 08:09:07            36.0         29.65   \n",
      "...        ...                  ...                  ...             ...           ...   \n",
      "2831         2  2016-07-12 15:12:42  2016-07-12 16:27:42            87.1         29.91   \n",
      "2832         2  2016-07-12 15:45:38  2016-07-12 17:00:38            88.0         29.89   \n",
      "2833         3  2016-07-12 15:26:19  2016-07-12 16:41:19            89.6         29.91   \n",
      "2834         2  2016-07-12 15:50:04  2016-07-12 17:05:04            84.2         30.03   \n",
      "2835         2  2016-07-12 16:12:21  2016-07-12 16:42:21             NaN           NaN   \n",
      "\n",
      "      Visibility(mi) Wind_Direction  Wind_Speed(mph)  Precipitation(in) Weather_Condition  \\\n",
      "0               10.0           Calm              NaN               0.02        Light Rain   \n",
      "1               10.0           Calm              NaN               0.00        Light Rain   \n",
      "2               10.0             SW              3.5                NaN          Overcast   \n",
      "3                9.0             SW              4.6                NaN     Mostly Cloudy   \n",
      "4                6.0             SW              3.5                NaN     Mostly Cloudy   \n",
      "...              ...            ...              ...                ...               ...   \n",
      "2831            10.0            SSW              6.9                NaN             Clear   \n",
      "2832            10.0            SSW              9.2                NaN             Clear   \n",
      "2833            10.0             SW              3.5                NaN             Clear   \n",
      "2834            10.0            WSW              6.9                NaN             Clear   \n",
      "2835             NaN            NaN              NaN                NaN               NaN   \n",
      "\n",
      "     Crossing Junction   Stop Traffic_Signal Sunrise_Sunset Civil_Twilight Nautical_Twilight  \\\n",
      "0       False    False  False          False          Night          Night             Night   \n",
      "1       False    False  False          False          Night          Night             Night   \n",
      "2       False    False  False           True          Night          Night               Day   \n",
      "3       False    False  False          False          Night            Day               Day   \n",
      "4       False    False  False           True            Day            Day               Day   \n",
      "...       ...      ...    ...            ...            ...            ...               ...   \n",
      "2831    False    False  False          False            Day            Day               Day   \n",
      "2832    False    False  False          False            Day            Day               Day   \n",
      "2833     True    False  False           True            Day            Day               Day   \n",
      "2834    False    False  False          False            Day            Day               Day   \n",
      "2835      NaN      NaN    NaN            NaN            NaN            NaN               NaN   \n",
      "\n",
      "     Astronomical_Twilight  \n",
      "0                    Night  \n",
      "1                      Day  \n",
      "2                      Day  \n",
      "3                      Day  \n",
      "4                      Day  \n",
      "...                    ...  \n",
      "2831                   Day  \n",
      "2832                   Day  \n",
      "2833                   Day  \n",
      "2834                   Day  \n",
      "2835                   NaN  \n",
      "\n",
      "[2836 rows x 18 columns]\n"
     ]
    }
   ],
   "source": [
    "data = data.drop(['Amenity', 'Bump', 'Give_Way', 'No_Exit', 'Railway'], axis=1)  #abbiamo fatto lo stesso controllo di prima per il numero di true/false\n",
    "print(data)"
   ]
  },
  {
   "cell_type": "code",
   "execution_count": 21,
   "id": "b2ba5e54",
   "metadata": {},
   "outputs": [
    {
     "name": "stdout",
     "output_type": "stream",
     "text": [
      "      Severity           Start_Time             End_Time  Temperature(F)  Pressure(in)  \\\n",
      "0            3  2016-02-08 05:46:00  2016-02-08 11:00:00            36.9         29.68   \n",
      "1            2  2016-02-08 06:07:59  2016-02-08 06:37:59            37.9         29.65   \n",
      "2            2  2016-02-08 06:49:27  2016-02-08 07:19:27            36.0         29.67   \n",
      "3            3  2016-02-08 07:23:34  2016-02-08 07:53:34            35.1         29.64   \n",
      "4            2  2016-02-08 07:39:07  2016-02-08 08:09:07            36.0         29.65   \n",
      "...        ...                  ...                  ...             ...           ...   \n",
      "2831         2  2016-07-12 15:12:42  2016-07-12 16:27:42            87.1         29.91   \n",
      "2832         2  2016-07-12 15:45:38  2016-07-12 17:00:38            88.0         29.89   \n",
      "2833         3  2016-07-12 15:26:19  2016-07-12 16:41:19            89.6         29.91   \n",
      "2834         2  2016-07-12 15:50:04  2016-07-12 17:05:04            84.2         30.03   \n",
      "2835         2  2016-07-12 16:12:21  2016-07-12 16:42:21             NaN           NaN   \n",
      "\n",
      "      Visibility(mi)  Wind_Speed(mph)  Precipitation(in) Weather_Condition Crossing Junction  \\\n",
      "0               10.0              NaN               0.02        Light Rain    False    False   \n",
      "1               10.0              NaN               0.00        Light Rain    False    False   \n",
      "2               10.0              3.5                NaN          Overcast    False    False   \n",
      "3                9.0              4.6                NaN     Mostly Cloudy    False    False   \n",
      "4                6.0              3.5                NaN     Mostly Cloudy    False    False   \n",
      "...              ...              ...                ...               ...      ...      ...   \n",
      "2831            10.0              6.9                NaN             Clear    False    False   \n",
      "2832            10.0              9.2                NaN             Clear    False    False   \n",
      "2833            10.0              3.5                NaN             Clear     True    False   \n",
      "2834            10.0              6.9                NaN             Clear    False    False   \n",
      "2835             NaN              NaN                NaN               NaN      NaN      NaN   \n",
      "\n",
      "       Stop Traffic_Signal Sunrise_Sunset Civil_Twilight Nautical_Twilight Astronomical_Twilight  \n",
      "0     False          False          Night          Night             Night                 Night  \n",
      "1     False          False          Night          Night             Night                   Day  \n",
      "2     False           True          Night          Night               Day                   Day  \n",
      "3     False          False          Night            Day               Day                   Day  \n",
      "4     False           True            Day            Day               Day                   Day  \n",
      "...     ...            ...            ...            ...               ...                   ...  \n",
      "2831  False          False            Day            Day               Day                   Day  \n",
      "2832  False          False            Day            Day               Day                   Day  \n",
      "2833  False           True            Day            Day               Day                   Day  \n",
      "2834  False          False            Day            Day               Day                   Day  \n",
      "2835    NaN            NaN            NaN            NaN               NaN                   NaN  \n",
      "\n",
      "[2836 rows x 17 columns]\n"
     ]
    }
   ],
   "source": [
    "data = data.drop(['Wind_Direction'], axis=1)\n",
    "print(data)"
   ]
  },
  {
   "cell_type": "code",
   "execution_count": 22,
   "id": "00fd43a2",
   "metadata": {},
   "outputs": [
    {
     "data": {
      "text/plain": [
       "2648"
      ]
     },
     "execution_count": 22,
     "metadata": {},
     "output_type": "execute_result"
    }
   ],
   "source": [
    "data['Precipitation(in)'].isnull().sum()"
   ]
  },
  {
   "cell_type": "code",
   "execution_count": 23,
   "id": "83702935",
   "metadata": {},
   "outputs": [
    {
     "data": {
      "text/plain": [
       "0.00    107\n",
       "0.01     27\n",
       "0.02     17\n",
       "0.05      6\n",
       "0.08      5\n",
       "0.16      4\n",
       "0.10      4\n",
       "0.04      3\n",
       "0.09      3\n",
       "0.03      2\n",
       "0.07      2\n",
       "0.06      2\n",
       "0.11      2\n",
       "0.19      2\n",
       "0.18      1\n",
       "0.22      1\n",
       "Name: Precipitation(in), dtype: int64"
      ]
     },
     "execution_count": 23,
     "metadata": {},
     "output_type": "execute_result"
    }
   ],
   "source": [
    "data['Precipitation(in)'].value_counts()"
   ]
  },
  {
   "cell_type": "code",
   "execution_count": 24,
   "id": "cf9b05d1",
   "metadata": {},
   "outputs": [
    {
     "data": {
      "text/plain": [
       "0.021595744680851063"
      ]
     },
     "execution_count": 24,
     "metadata": {},
     "output_type": "execute_result"
    }
   ],
   "source": [
    "data['Precipitation(in)'].mean()"
   ]
  },
  {
   "cell_type": "code",
   "execution_count": 25,
   "id": "c159d559",
   "metadata": {},
   "outputs": [
    {
     "name": "stdout",
     "output_type": "stream",
     "text": [
      "      Severity           Start_Time             End_Time  Temperature(F)  Pressure(in)  \\\n",
      "0            3  2016-02-08 05:46:00  2016-02-08 11:00:00            36.9         29.68   \n",
      "1            2  2016-02-08 06:07:59  2016-02-08 06:37:59            37.9         29.65   \n",
      "2            2  2016-02-08 06:49:27  2016-02-08 07:19:27            36.0         29.67   \n",
      "3            3  2016-02-08 07:23:34  2016-02-08 07:53:34            35.1         29.64   \n",
      "4            2  2016-02-08 07:39:07  2016-02-08 08:09:07            36.0         29.65   \n",
      "...        ...                  ...                  ...             ...           ...   \n",
      "2831         2  2016-07-12 15:12:42  2016-07-12 16:27:42            87.1         29.91   \n",
      "2832         2  2016-07-12 15:45:38  2016-07-12 17:00:38            88.0         29.89   \n",
      "2833         3  2016-07-12 15:26:19  2016-07-12 16:41:19            89.6         29.91   \n",
      "2834         2  2016-07-12 15:50:04  2016-07-12 17:05:04            84.2         30.03   \n",
      "2835         2  2016-07-12 16:12:21  2016-07-12 16:42:21             NaN           NaN   \n",
      "\n",
      "      Visibility(mi)  Wind_Speed(mph) Weather_Condition Crossing Junction   Stop Traffic_Signal  \\\n",
      "0               10.0              NaN        Light Rain    False    False  False          False   \n",
      "1               10.0              NaN        Light Rain    False    False  False          False   \n",
      "2               10.0              3.5          Overcast    False    False  False           True   \n",
      "3                9.0              4.6     Mostly Cloudy    False    False  False          False   \n",
      "4                6.0              3.5     Mostly Cloudy    False    False  False           True   \n",
      "...              ...              ...               ...      ...      ...    ...            ...   \n",
      "2831            10.0              6.9             Clear    False    False  False          False   \n",
      "2832            10.0              9.2             Clear    False    False  False          False   \n",
      "2833            10.0              3.5             Clear     True    False  False           True   \n",
      "2834            10.0              6.9             Clear    False    False  False          False   \n",
      "2835             NaN              NaN               NaN      NaN      NaN    NaN            NaN   \n",
      "\n",
      "     Sunrise_Sunset Civil_Twilight Nautical_Twilight Astronomical_Twilight  \n",
      "0             Night          Night             Night                 Night  \n",
      "1             Night          Night             Night                   Day  \n",
      "2             Night          Night               Day                   Day  \n",
      "3             Night            Day               Day                   Day  \n",
      "4               Day            Day               Day                   Day  \n",
      "...             ...            ...               ...                   ...  \n",
      "2831            Day            Day               Day                   Day  \n",
      "2832            Day            Day               Day                   Day  \n",
      "2833            Day            Day               Day                   Day  \n",
      "2834            Day            Day               Day                   Day  \n",
      "2835            NaN            NaN               NaN                   NaN  \n",
      "\n",
      "[2836 rows x 16 columns]\n"
     ]
    }
   ],
   "source": [
    "# La colonna della precipitazione contiene quasi tutti NaN, con un valore medio dei non NaN prossimo allo 0, quindi la droppiamo\n",
    "data = data.drop(['Precipitation(in)'], axis=1)\n",
    "print(data)"
   ]
  },
  {
   "cell_type": "code",
   "execution_count": 26,
   "id": "199ce188",
   "metadata": {},
   "outputs": [
    {
     "data": {
      "text/plain": [
       "1"
      ]
     },
     "execution_count": 26,
     "metadata": {},
     "output_type": "execute_result"
    }
   ],
   "source": [
    "data['Stop'].isnull().sum()"
   ]
  },
  {
   "cell_type": "code",
   "execution_count": 27,
   "id": "359f4c65",
   "metadata": {},
   "outputs": [
    {
     "name": "stdout",
     "output_type": "stream",
     "text": [
      "      Severity           Start_Time             End_Time  Temperature(F)  Pressure(in)  \\\n",
      "0            3  2016-02-08 05:46:00  2016-02-08 11:00:00            36.9         29.68   \n",
      "1            2  2016-02-08 06:07:59  2016-02-08 06:37:59            37.9         29.65   \n",
      "2            2  2016-02-08 06:49:27  2016-02-08 07:19:27            36.0         29.67   \n",
      "3            3  2016-02-08 07:23:34  2016-02-08 07:53:34            35.1         29.64   \n",
      "4            2  2016-02-08 07:39:07  2016-02-08 08:09:07            36.0         29.65   \n",
      "...        ...                  ...                  ...             ...           ...   \n",
      "2830         3  2016-07-12 15:00:15  2016-07-12 16:15:15            89.1         29.91   \n",
      "2831         2  2016-07-12 15:12:42  2016-07-12 16:27:42            87.1         29.91   \n",
      "2832         2  2016-07-12 15:45:38  2016-07-12 17:00:38            88.0         29.89   \n",
      "2833         3  2016-07-12 15:26:19  2016-07-12 16:41:19            89.6         29.91   \n",
      "2834         2  2016-07-12 15:50:04  2016-07-12 17:05:04            84.2         30.03   \n",
      "\n",
      "      Visibility(mi)  Wind_Speed(mph) Weather_Condition Crossing Junction   Stop Traffic_Signal  \\\n",
      "0               10.0              NaN        Light Rain    False    False  False          False   \n",
      "1               10.0              NaN        Light Rain    False    False  False          False   \n",
      "2               10.0              3.5          Overcast    False    False  False           True   \n",
      "3                9.0              4.6     Mostly Cloudy    False    False  False          False   \n",
      "4                6.0              3.5     Mostly Cloudy    False    False  False           True   \n",
      "...              ...              ...               ...      ...      ...    ...            ...   \n",
      "2830            10.0              9.2               NaN    False     True  False          False   \n",
      "2831            10.0              6.9             Clear    False    False  False          False   \n",
      "2832            10.0              9.2             Clear    False    False  False          False   \n",
      "2833            10.0              3.5             Clear     True    False  False           True   \n",
      "2834            10.0              6.9             Clear    False    False  False          False   \n",
      "\n",
      "     Sunrise_Sunset Civil_Twilight Nautical_Twilight Astronomical_Twilight  \n",
      "0             Night          Night             Night                 Night  \n",
      "1             Night          Night             Night                   Day  \n",
      "2             Night          Night               Day                   Day  \n",
      "3             Night            Day               Day                   Day  \n",
      "4               Day            Day               Day                   Day  \n",
      "...             ...            ...               ...                   ...  \n",
      "2830            Day            Day               Day                   Day  \n",
      "2831            Day            Day               Day                   Day  \n",
      "2832            Day            Day               Day                   Day  \n",
      "2833            Day            Day               Day                   Day  \n",
      "2834            Day            Day               Day                   Day  \n",
      "\n",
      "[2835 rows x 16 columns]\n"
     ]
    }
   ],
   "source": [
    "# La riga 2835 contiene quasi solo NaN, quindi la togliamo\n",
    "data = data.drop(2835)\n",
    "print(data)"
   ]
  },
  {
   "cell_type": "code",
   "execution_count": 28,
   "id": "f083f401",
   "metadata": {},
   "outputs": [
    {
     "data": {
      "text/plain": [
       "0"
      ]
     },
     "execution_count": 28,
     "metadata": {},
     "output_type": "execute_result"
    }
   ],
   "source": [
    "data['Temperature(F)'].fillna(data['Temperature(F)'].mean(), inplace=True)\n",
    "data['Temperature(F)'].isnull().sum()"
   ]
  },
  {
   "cell_type": "code",
   "execution_count": 29,
   "id": "95e5bb2b",
   "metadata": {},
   "outputs": [
    {
     "data": {
      "text/plain": [
       "0"
      ]
     },
     "execution_count": 29,
     "metadata": {},
     "output_type": "execute_result"
    }
   ],
   "source": [
    "data['Pressure(in)'].fillna(data['Pressure(in)'].mean(), inplace=True)\n",
    "data['Pressure(in)'].isnull().sum()"
   ]
  },
  {
   "cell_type": "code",
   "execution_count": 30,
   "id": "91d005eb",
   "metadata": {},
   "outputs": [
    {
     "data": {
      "text/plain": [
       "0"
      ]
     },
     "execution_count": 30,
     "metadata": {},
     "output_type": "execute_result"
    }
   ],
   "source": [
    "data['Visibility(mi)'].fillna(data['Visibility(mi)'].mean(), inplace=True)\n",
    "data['Visibility(mi)'].isnull().sum()"
   ]
  },
  {
   "cell_type": "code",
   "execution_count": 31,
   "id": "77f40005",
   "metadata": {},
   "outputs": [
    {
     "data": {
      "text/plain": [
       "0"
      ]
     },
     "execution_count": 31,
     "metadata": {},
     "output_type": "execute_result"
    }
   ],
   "source": [
    "data['Wind_Speed(mph)'].fillna(data['Wind_Speed(mph)'].mean(), inplace=True)\n",
    "data['Wind_Speed(mph)'].isnull().sum()"
   ]
  },
  {
   "cell_type": "code",
   "execution_count": 32,
   "id": "4ac0e170",
   "metadata": {},
   "outputs": [
    {
     "data": {
      "text/plain": [
       "20"
      ]
     },
     "execution_count": 32,
     "metadata": {},
     "output_type": "execute_result"
    }
   ],
   "source": [
    "data['Weather_Condition'].isnull().sum()"
   ]
  },
  {
   "cell_type": "code",
   "execution_count": 33,
   "id": "4ebef1e5",
   "metadata": {},
   "outputs": [
    {
     "data": {
      "text/plain": [
       "Clear                     1776\n",
       "Overcast                   316\n",
       "Partly Cloudy              235\n",
       "Mostly Cloudy              149\n",
       "Scattered Clouds           109\n",
       "Light Snow                 104\n",
       "Light Rain                  44\n",
       "Haze                        30\n",
       "Rain                        28\n",
       "Light Freezing Drizzle      10\n",
       "Heavy Rain                   3\n",
       "Snow                         2\n",
       "Fog                          2\n",
       "Light Drizzle                1\n",
       "Shallow Fog                  1\n",
       "Light Freezing Rain          1\n",
       "Cloudy                       1\n",
       "Drizzle                      1\n",
       "Light Rain Showers           1\n",
       "Mist                         1\n",
       "Name: Weather_Condition, dtype: int64"
      ]
     },
     "execution_count": 33,
     "metadata": {},
     "output_type": "execute_result"
    }
   ],
   "source": [
    "data['Weather_Condition'].value_counts()"
   ]
  },
  {
   "cell_type": "code",
   "execution_count": 34,
   "id": "3a0a6a06",
   "metadata": {},
   "outputs": [
    {
     "name": "stdout",
     "output_type": "stream",
     "text": [
      "      Severity           Start_Time             End_Time  Temperature(F)  Pressure(in)  \\\n",
      "439          2  2016-03-01 17:23:06  2016-03-01 18:23:06       48.200000     29.510000   \n",
      "601          3  2016-03-11 07:28:40  2016-03-11 07:58:40       64.490319     29.959202   \n",
      "1478         3  2016-06-27 20:42:18  2016-06-27 22:12:18       95.000000     29.870000   \n",
      "1685         2  2016-06-29 14:44:14  2016-06-29 15:29:14       91.400000     29.940000   \n",
      "1957         2  2016-07-03 03:54:45  2016-07-03 04:40:40       64.490319     29.959202   \n",
      "1968         2  2016-07-03 08:41:05  2016-07-03 09:26:05       64.490319     29.959202   \n",
      "1973         2  2016-07-03 11:59:28  2016-07-03 12:44:28       64.490319     29.959202   \n",
      "1978         2  2016-07-03 13:12:18  2016-07-03 13:57:18       64.490319     29.959202   \n",
      "1989         2  2016-07-03 15:33:37  2016-07-03 17:03:37       64.490319     29.959202   \n",
      "2137         2  2016-07-05 09:44:44  2016-07-05 10:14:44       64.490319     29.959202   \n",
      "2145         2  2016-07-05 10:43:04  2016-07-05 11:13:04       64.490319     29.959202   \n",
      "2342         2  2016-07-07 03:01:28  2016-07-07 04:01:28       64.490319     29.959202   \n",
      "2343         2  2016-07-07 02:54:40  2016-07-07 03:54:40       64.490319     29.959202   \n",
      "2344         2  2016-07-07 02:50:57  2016-07-07 03:50:57       64.490319     29.959202   \n",
      "2360         2  2016-07-07 10:10:21  2016-07-07 10:40:21       64.490319     29.959202   \n",
      "2364         2  2016-07-07 10:31:44  2016-07-07 11:16:44       64.490319     29.959202   \n",
      "2384         2  2016-07-07 12:25:25  2016-07-07 12:55:25       64.490319     29.959202   \n",
      "2769         3  2016-07-12 10:16:39  2016-07-12 10:46:39       75.000000     29.930000   \n",
      "2770         3  2016-07-12 10:15:55  2016-07-12 10:45:55       75.000000     29.930000   \n",
      "2830         3  2016-07-12 15:00:15  2016-07-12 16:15:15       89.100000     29.910000   \n",
      "\n",
      "      Visibility(mi)  Wind_Speed(mph) Weather_Condition Crossing Junction   Stop Traffic_Signal  \\\n",
      "439        10.000000         9.200000               NaN    False    False  False          False   \n",
      "601         9.163876         9.817681               NaN    False    False  False          False   \n",
      "1478       10.000000         6.900000               NaN    False    False  False          False   \n",
      "1685       10.000000        15.000000               NaN    False    False  False          False   \n",
      "1957        9.163876         9.817681               NaN     True    False  False           True   \n",
      "1968        9.163876         9.817681               NaN    False    False  False          False   \n",
      "1973        9.163876         9.817681               NaN    False    False  False          False   \n",
      "1978        9.163876         9.817681               NaN    False    False  False          False   \n",
      "1989        9.163876         9.817681               NaN    False    False  False          False   \n",
      "2137        9.163876         9.817681               NaN    False    False  False           True   \n",
      "2145        9.163876         9.817681               NaN    False    False   True          False   \n",
      "2342        9.163876         9.817681               NaN    False     True  False          False   \n",
      "2343        9.163876         9.817681               NaN    False    False  False          False   \n",
      "2344        9.163876         9.817681               NaN     True    False  False          False   \n",
      "2360        9.163876         9.817681               NaN    False    False  False          False   \n",
      "2364        9.163876         9.817681               NaN    False    False  False          False   \n",
      "2384        9.163876         9.817681               NaN    False    False  False          False   \n",
      "2769       10.000000         9.200000               NaN    False    False  False          False   \n",
      "2770       10.000000         9.200000               NaN    False     True  False          False   \n",
      "2830       10.000000         9.200000               NaN    False     True  False          False   \n",
      "\n",
      "     Sunrise_Sunset Civil_Twilight Nautical_Twilight Astronomical_Twilight  \n",
      "439             Day            Day               Day                   Day  \n",
      "601             Day            Day               Day                   Day  \n",
      "1478          Night            Day               Day                   Day  \n",
      "1685            Day            Day               Day                   Day  \n",
      "1957          Night          Night             Night                 Night  \n",
      "1968            Day            Day               Day                   Day  \n",
      "1973            Day            Day               Day                   Day  \n",
      "1978            Day            Day               Day                   Day  \n",
      "1989            Day            Day               Day                   Day  \n",
      "2137            Day            Day               Day                   Day  \n",
      "2145            Day            Day               Day                   Day  \n",
      "2342          Night          Night             Night                 Night  \n",
      "2343          Night          Night             Night                 Night  \n",
      "2344          Night          Night             Night                 Night  \n",
      "2360            Day            Day               Day                   Day  \n",
      "2364            Day            Day               Day                   Day  \n",
      "2384            Day            Day               Day                   Day  \n",
      "2769            Day            Day               Day                   Day  \n",
      "2770            Day            Day               Day                   Day  \n",
      "2830            Day            Day               Day                   Day  \n"
     ]
    }
   ],
   "source": [
    "# Per le righe con Weather_Condition=NaN, possiamo o rimuovere le intere righe, o assumere Clear come valore, essendo nettamente il più frequente\n",
    "print(data.loc[data['Weather_Condition'].isnull()])"
   ]
  },
  {
   "cell_type": "code",
   "execution_count": 35,
   "id": "79dd2950",
   "metadata": {},
   "outputs": [
    {
     "name": "stdout",
     "output_type": "stream",
     "text": [
      "      Severity           Start_Time             End_Time  Temperature(F)  Pressure(in)  \\\n",
      "0            3  2016-02-08 05:46:00  2016-02-08 11:00:00            36.9         29.68   \n",
      "1            2  2016-02-08 06:07:59  2016-02-08 06:37:59            37.9         29.65   \n",
      "2            2  2016-02-08 06:49:27  2016-02-08 07:19:27            36.0         29.67   \n",
      "3            3  2016-02-08 07:23:34  2016-02-08 07:53:34            35.1         29.64   \n",
      "4            2  2016-02-08 07:39:07  2016-02-08 08:09:07            36.0         29.65   \n",
      "...        ...                  ...                  ...             ...           ...   \n",
      "2829         3  2016-07-12 14:43:08  2016-07-12 15:13:08            93.9         29.88   \n",
      "2831         2  2016-07-12 15:12:42  2016-07-12 16:27:42            87.1         29.91   \n",
      "2832         2  2016-07-12 15:45:38  2016-07-12 17:00:38            88.0         29.89   \n",
      "2833         3  2016-07-12 15:26:19  2016-07-12 16:41:19            89.6         29.91   \n",
      "2834         2  2016-07-12 15:50:04  2016-07-12 17:05:04            84.2         30.03   \n",
      "\n",
      "      Visibility(mi)  Wind_Speed(mph) Weather_Condition Crossing Junction   Stop Traffic_Signal  \\\n",
      "0               10.0         9.817681        Light Rain    False    False  False          False   \n",
      "1               10.0         9.817681        Light Rain    False    False  False          False   \n",
      "2               10.0         3.500000          Overcast    False    False  False           True   \n",
      "3                9.0         4.600000     Mostly Cloudy    False    False  False          False   \n",
      "4                6.0         3.500000     Mostly Cloudy    False    False  False           True   \n",
      "...              ...              ...               ...      ...      ...    ...            ...   \n",
      "2829            10.0        10.400000             Clear    False    False  False          False   \n",
      "2831            10.0         6.900000             Clear    False    False  False          False   \n",
      "2832            10.0         9.200000             Clear    False    False  False          False   \n",
      "2833            10.0         3.500000             Clear     True    False  False           True   \n",
      "2834            10.0         6.900000             Clear    False    False  False          False   \n",
      "\n",
      "     Sunrise_Sunset Civil_Twilight Nautical_Twilight Astronomical_Twilight  \n",
      "0             Night          Night             Night                 Night  \n",
      "1             Night          Night             Night                   Day  \n",
      "2             Night          Night               Day                   Day  \n",
      "3             Night            Day               Day                   Day  \n",
      "4               Day            Day               Day                   Day  \n",
      "...             ...            ...               ...                   ...  \n",
      "2829            Day            Day               Day                   Day  \n",
      "2831            Day            Day               Day                   Day  \n",
      "2832            Day            Day               Day                   Day  \n",
      "2833            Day            Day               Day                   Day  \n",
      "2834            Day            Day               Day                   Day  \n",
      "\n",
      "[2815 rows x 16 columns]\n"
     ]
    }
   ],
   "source": [
    "# Notiamo che molte righe in cui è NaN, corrispondono a righe in cui prima abbiamo sostituito alcuni NaN con valori medi,\n",
    "# ha quindi senso togliere l'intera riga\n",
    "data = data.dropna(subset=['Weather_Condition'])\n",
    "print(data)"
   ]
  },
  {
   "cell_type": "code",
   "execution_count": 38,
   "id": "e42df961",
   "metadata": {},
   "outputs": [
    {
     "name": "stdout",
     "output_type": "stream",
     "text": [
      "      Severity           Start_Time             End_Time  Temperature(F)  Pressure(in)  \\\n",
      "0            3  2016-02-08 05:46:00  2016-02-08 11:00:00            36.9         29.68   \n",
      "1            2  2016-02-08 06:07:59  2016-02-08 06:37:59            37.9         29.65   \n",
      "2            2  2016-02-08 06:49:27  2016-02-08 07:19:27            36.0         29.67   \n",
      "3            3  2016-02-08 07:23:34  2016-02-08 07:53:34            35.1         29.64   \n",
      "4            2  2016-02-08 07:39:07  2016-02-08 08:09:07            36.0         29.65   \n",
      "...        ...                  ...                  ...             ...           ...   \n",
      "2810         3  2016-07-12 14:43:08  2016-07-12 15:13:08            93.9         29.88   \n",
      "2811         2  2016-07-12 15:12:42  2016-07-12 16:27:42            87.1         29.91   \n",
      "2812         2  2016-07-12 15:45:38  2016-07-12 17:00:38            88.0         29.89   \n",
      "2813         3  2016-07-12 15:26:19  2016-07-12 16:41:19            89.6         29.91   \n",
      "2814         2  2016-07-12 15:50:04  2016-07-12 17:05:04            84.2         30.03   \n",
      "\n",
      "      Visibility(mi)  Wind_Speed(mph) Weather_Condition Crossing Junction   Stop Traffic_Signal  \\\n",
      "0               10.0         9.817681        Light Rain    False    False  False          False   \n",
      "1               10.0         9.817681        Light Rain    False    False  False          False   \n",
      "2               10.0         3.500000          Overcast    False    False  False           True   \n",
      "3                9.0         4.600000     Mostly Cloudy    False    False  False          False   \n",
      "4                6.0         3.500000     Mostly Cloudy    False    False  False           True   \n",
      "...              ...              ...               ...      ...      ...    ...            ...   \n",
      "2810            10.0        10.400000             Clear    False    False  False          False   \n",
      "2811            10.0         6.900000             Clear    False    False  False          False   \n",
      "2812            10.0         9.200000             Clear    False    False  False          False   \n",
      "2813            10.0         3.500000             Clear     True    False  False           True   \n",
      "2814            10.0         6.900000             Clear    False    False  False          False   \n",
      "\n",
      "     Sunrise_Sunset Civil_Twilight Nautical_Twilight Astronomical_Twilight  \n",
      "0             Night          Night             Night                 Night  \n",
      "1             Night          Night             Night                   Day  \n",
      "2             Night          Night               Day                   Day  \n",
      "3             Night            Day               Day                   Day  \n",
      "4               Day            Day               Day                   Day  \n",
      "...             ...            ...               ...                   ...  \n",
      "2810            Day            Day               Day                   Day  \n",
      "2811            Day            Day               Day                   Day  \n",
      "2812            Day            Day               Day                   Day  \n",
      "2813            Day            Day               Day                   Day  \n",
      "2814            Day            Day               Day                   Day  \n",
      "\n",
      "[2815 rows x 16 columns]\n"
     ]
    }
   ],
   "source": [
    "# Rinumeriamo gli indici delle righe\n",
    "data = data.reset_index(drop=True)\n",
    "print(data)"
   ]
  },
  {
   "cell_type": "code",
   "execution_count": 40,
   "id": "50e8fcfb",
   "metadata": {},
   "outputs": [
    {
     "data": {
      "text/plain": [
       "False"
      ]
     },
     "execution_count": 40,
     "metadata": {},
     "output_type": "execute_result"
    }
   ],
   "source": [
    "# Verifichiamo se ci sono ancora valori NaN da correggere\n",
    "data.isna().any().any()"
   ]
  },
  {
   "cell_type": "code",
   "execution_count": 42,
   "id": "a7d0192e",
   "metadata": {},
   "outputs": [
    {
     "name": "stdout",
     "output_type": "stream",
     "text": [
      "      Severity          Start_Time            End_Time  Temperature(F)  Pressure(in)  \\\n",
      "0            3 2016-02-08 05:46:00 2016-02-08 11:00:00            36.9         29.68   \n",
      "1            2 2016-02-08 06:07:59 2016-02-08 06:37:59            37.9         29.65   \n",
      "2            2 2016-02-08 06:49:27 2016-02-08 07:19:27            36.0         29.67   \n",
      "3            3 2016-02-08 07:23:34 2016-02-08 07:53:34            35.1         29.64   \n",
      "4            2 2016-02-08 07:39:07 2016-02-08 08:09:07            36.0         29.65   \n",
      "...        ...                 ...                 ...             ...           ...   \n",
      "2810         3 2016-07-12 14:43:08 2016-07-12 15:13:08            93.9         29.88   \n",
      "2811         2 2016-07-12 15:12:42 2016-07-12 16:27:42            87.1         29.91   \n",
      "2812         2 2016-07-12 15:45:38 2016-07-12 17:00:38            88.0         29.89   \n",
      "2813         3 2016-07-12 15:26:19 2016-07-12 16:41:19            89.6         29.91   \n",
      "2814         2 2016-07-12 15:50:04 2016-07-12 17:05:04            84.2         30.03   \n",
      "\n",
      "      Visibility(mi)  Wind_Speed(mph) Weather_Condition Crossing Junction   Stop Traffic_Signal  \\\n",
      "0               10.0         9.817681        Light Rain    False    False  False          False   \n",
      "1               10.0         9.817681        Light Rain    False    False  False          False   \n",
      "2               10.0         3.500000          Overcast    False    False  False           True   \n",
      "3                9.0         4.600000     Mostly Cloudy    False    False  False          False   \n",
      "4                6.0         3.500000     Mostly Cloudy    False    False  False           True   \n",
      "...              ...              ...               ...      ...      ...    ...            ...   \n",
      "2810            10.0        10.400000             Clear    False    False  False          False   \n",
      "2811            10.0         6.900000             Clear    False    False  False          False   \n",
      "2812            10.0         9.200000             Clear    False    False  False          False   \n",
      "2813            10.0         3.500000             Clear     True    False  False           True   \n",
      "2814            10.0         6.900000             Clear    False    False  False          False   \n",
      "\n",
      "     Sunrise_Sunset Civil_Twilight Nautical_Twilight Astronomical_Twilight  \n",
      "0             Night          Night             Night                 Night  \n",
      "1             Night          Night             Night                   Day  \n",
      "2             Night          Night               Day                   Day  \n",
      "3             Night            Day               Day                   Day  \n",
      "4               Day            Day               Day                   Day  \n",
      "...             ...            ...               ...                   ...  \n",
      "2810            Day            Day               Day                   Day  \n",
      "2811            Day            Day               Day                   Day  \n",
      "2812            Day            Day               Day                   Day  \n",
      "2813            Day            Day               Day                   Day  \n",
      "2814            Day            Day               Day                   Day  \n",
      "\n",
      "[2815 rows x 16 columns]\n"
     ]
    }
   ],
   "source": [
    "data['Start_Time'] = pandas.to_datetime(data['Start_Time'])\n",
    "data['End_Time'] = pandas.to_datetime(data['End_Time'])\n",
    "print(data)"
   ]
  },
  {
   "cell_type": "code",
   "execution_count": 43,
   "id": "a6d52e45",
   "metadata": {},
   "outputs": [
    {
     "name": "stdout",
     "output_type": "stream",
     "text": [
      "      Severity          Start_Time            End_Time  Temperature(F)  Pressure(in)  \\\n",
      "0            3 2016-02-08 05:46:00 2016-02-08 11:00:00            36.9         29.68   \n",
      "1            2 2016-02-08 06:07:59 2016-02-08 06:37:59            37.9         29.65   \n",
      "2            2 2016-02-08 06:49:27 2016-02-08 07:19:27            36.0         29.67   \n",
      "3            3 2016-02-08 07:23:34 2016-02-08 07:53:34            35.1         29.64   \n",
      "4            2 2016-02-08 07:39:07 2016-02-08 08:09:07            36.0         29.65   \n",
      "...        ...                 ...                 ...             ...           ...   \n",
      "2810         3 2016-07-12 14:43:08 2016-07-12 15:13:08            93.9         29.88   \n",
      "2811         2 2016-07-12 15:12:42 2016-07-12 16:27:42            87.1         29.91   \n",
      "2812         2 2016-07-12 15:45:38 2016-07-12 17:00:38            88.0         29.89   \n",
      "2813         3 2016-07-12 15:26:19 2016-07-12 16:41:19            89.6         29.91   \n",
      "2814         2 2016-07-12 15:50:04 2016-07-12 17:05:04            84.2         30.03   \n",
      "\n",
      "      Visibility(mi)  Wind_Speed(mph) Weather_Condition Crossing Junction   Stop Traffic_Signal  \\\n",
      "0               10.0         9.817681        Light Rain    False    False  False          False   \n",
      "1               10.0         9.817681        Light Rain    False    False  False          False   \n",
      "2               10.0         3.500000          Overcast    False    False  False           True   \n",
      "3                9.0         4.600000     Mostly Cloudy    False    False  False          False   \n",
      "4                6.0         3.500000     Mostly Cloudy    False    False  False           True   \n",
      "...              ...              ...               ...      ...      ...    ...            ...   \n",
      "2810            10.0        10.400000             Clear    False    False  False          False   \n",
      "2811            10.0         6.900000             Clear    False    False  False          False   \n",
      "2812            10.0         9.200000             Clear    False    False  False          False   \n",
      "2813            10.0         3.500000             Clear     True    False  False           True   \n",
      "2814            10.0         6.900000             Clear    False    False  False          False   \n",
      "\n",
      "     Sunrise_Sunset Civil_Twilight Nautical_Twilight Astronomical_Twilight  Duration  \n",
      "0             Night          Night             Night                 Night       314  \n",
      "1             Night          Night             Night                   Day        30  \n",
      "2             Night          Night               Day                   Day        30  \n",
      "3             Night            Day               Day                   Day        30  \n",
      "4               Day            Day               Day                   Day        30  \n",
      "...             ...            ...               ...                   ...       ...  \n",
      "2810            Day            Day               Day                   Day        30  \n",
      "2811            Day            Day               Day                   Day        75  \n",
      "2812            Day            Day               Day                   Day        75  \n",
      "2813            Day            Day               Day                   Day        75  \n",
      "2814            Day            Day               Day                   Day        75  \n",
      "\n",
      "[2815 rows x 17 columns]\n"
     ]
    }
   ],
   "source": [
    "data['Duration'] = data.End_Time - data.Start_Time \n",
    "data['Duration'] = data['Duration'].apply(lambda x:round(x.total_seconds() / 60) ) \n",
    "print(data)"
   ]
  },
  {
   "cell_type": "code",
   "execution_count": 44,
   "id": "ce234ed2",
   "metadata": {},
   "outputs": [
    {
     "name": "stdout",
     "output_type": "stream",
     "text": [
      "      Severity          Start_Time  Temperature(F)  Pressure(in)  Visibility(mi)  Wind_Speed(mph)  \\\n",
      "0            3 2016-02-08 05:46:00            36.9         29.68            10.0         9.817681   \n",
      "1            2 2016-02-08 06:07:59            37.9         29.65            10.0         9.817681   \n",
      "2            2 2016-02-08 06:49:27            36.0         29.67            10.0         3.500000   \n",
      "3            3 2016-02-08 07:23:34            35.1         29.64             9.0         4.600000   \n",
      "4            2 2016-02-08 07:39:07            36.0         29.65             6.0         3.500000   \n",
      "...        ...                 ...             ...           ...             ...              ...   \n",
      "2810         3 2016-07-12 14:43:08            93.9         29.88            10.0        10.400000   \n",
      "2811         2 2016-07-12 15:12:42            87.1         29.91            10.0         6.900000   \n",
      "2812         2 2016-07-12 15:45:38            88.0         29.89            10.0         9.200000   \n",
      "2813         3 2016-07-12 15:26:19            89.6         29.91            10.0         3.500000   \n",
      "2814         2 2016-07-12 15:50:04            84.2         30.03            10.0         6.900000   \n",
      "\n",
      "     Weather_Condition Crossing Junction   Stop Traffic_Signal Sunrise_Sunset Civil_Twilight  \\\n",
      "0           Light Rain    False    False  False          False          Night          Night   \n",
      "1           Light Rain    False    False  False          False          Night          Night   \n",
      "2             Overcast    False    False  False           True          Night          Night   \n",
      "3        Mostly Cloudy    False    False  False          False          Night            Day   \n",
      "4        Mostly Cloudy    False    False  False           True            Day            Day   \n",
      "...                ...      ...      ...    ...            ...            ...            ...   \n",
      "2810             Clear    False    False  False          False            Day            Day   \n",
      "2811             Clear    False    False  False          False            Day            Day   \n",
      "2812             Clear    False    False  False          False            Day            Day   \n",
      "2813             Clear     True    False  False           True            Day            Day   \n",
      "2814             Clear    False    False  False          False            Day            Day   \n",
      "\n",
      "     Nautical_Twilight Astronomical_Twilight  Duration  \n",
      "0                Night                 Night       314  \n",
      "1                Night                   Day        30  \n",
      "2                  Day                   Day        30  \n",
      "3                  Day                   Day        30  \n",
      "4                  Day                   Day        30  \n",
      "...                ...                   ...       ...  \n",
      "2810               Day                   Day        30  \n",
      "2811               Day                   Day        75  \n",
      "2812               Day                   Day        75  \n",
      "2813               Day                   Day        75  \n",
      "2814               Day                   Day        75  \n",
      "\n",
      "[2815 rows x 16 columns]\n"
     ]
    }
   ],
   "source": [
    "# A questo punto la colonna End_Time è superflua\n",
    "data = data.drop(['End_Time'], axis=1)\n",
    "print(data)"
   ]
  },
  {
   "cell_type": "code",
   "execution_count": 36,
   "id": "0c1debe6-eb6e-4706-827c-2e6c15fbf774",
   "metadata": {},
   "outputs": [
    {
     "data": {
      "text/plain": [
       "\"\\ncategorical_columns = data.select_dtypes(exclude='number').columns.tolist()\\ndata = data.drop(columns = categorical_columns)\\narray = data.values\\n\\nX = array[:,1:12]\\nY = array[:,0]\\n\\nprint(data)\\n# estrazione features\\ntest = SelectKBest(score_func=chi2, k=4)\\nfit = test.fit(X,Y)\\n\\n# riassunto punteggi\\nprint(fit.scores_)\\nfeatures = fit.transform(X)\\n\\n# riassunto features selezionate\\nprint(features[0:5,:])\\n\\n\""
      ]
     },
     "execution_count": 36,
     "metadata": {},
     "output_type": "execute_result"
    }
   ],
   "source": [
    "\"\"\"\n",
    "categorical_columns = data.select_dtypes(exclude='number').columns.tolist()\n",
    "data = data.drop(columns = categorical_columns)\n",
    "array = data.values\n",
    "\n",
    "X = array[:,1:12]\n",
    "Y = array[:,0]\n",
    "\n",
    "print(data)\n",
    "# estrazione features\n",
    "test = SelectKBest(score_func=chi2, k=4)\n",
    "fit = test.fit(X,Y)\n",
    "\n",
    "# riassunto punteggi\n",
    "print(fit.scores_)\n",
    "features = fit.transform(X)\n",
    "\n",
    "# riassunto features selezionate\n",
    "print(features[0:5,:])\n",
    "\n",
    "\"\"\""
   ]
  },
  {
   "cell_type": "code",
   "execution_count": null,
   "id": "ab75d832",
   "metadata": {},
   "outputs": [],
   "source": []
  },
  {
   "cell_type": "code",
   "execution_count": 37,
   "id": "0e95c013-64eb-47a0-8570-cbf01230b890",
   "metadata": {},
   "outputs": [],
   "source": [
    "#import sklearn.linear_model\n",
    "#from sklearn.feature_selection import RFE\n",
    "#from sklearn.linear_model import LogisticRegression\n",
    "# load data\n",
    "\n",
    "\n",
    "#array = data2.values\n",
    "#X = array[:,0:20]\n",
    "#Y = array[:,20]\n",
    "# feature extraction\n",
    "#model = LogisticRegression()\n",
    "#rfe = RFE(model, 3)\n",
    "#fit = rfe.fit(X, Y)\n",
    "#print(\"Num Features: %d\") % fit.n_features_\n",
    "#print(\"Selected Features: %s\") % fit.support_\n",
    "#print(\"Feature Ranking: %s\") % fit.ranking_"
   ]
  },
  {
   "cell_type": "code",
   "execution_count": null,
   "id": "0f85b81d-01e2-424b-ad21-f12c72d95e35",
   "metadata": {},
   "outputs": [],
   "source": []
  }
 ],
 "metadata": {
  "kernelspec": {
   "display_name": "Python 3 (ipykernel)",
   "language": "python",
   "name": "python3"
  },
  "language_info": {
   "codemirror_mode": {
    "name": "ipython",
    "version": 3
   },
   "file_extension": ".py",
   "mimetype": "text/x-python",
   "name": "python",
   "nbconvert_exporter": "python",
   "pygments_lexer": "ipython3",
   "version": "3.10.9"
  }
 },
 "nbformat": 4,
 "nbformat_minor": 5
}
