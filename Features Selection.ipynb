{
 "cells": [
  {
   "cell_type": "code",
   "execution_count": 1,
   "id": "60106392",
   "metadata": {},
   "outputs": [],
   "source": [
    "import pandas\n",
    "import numpy\n",
    "import sklearn.feature_selection \n",
    "from pandas import read_csv\n",
    "from pandas import set_option\n",
    "from numpy import set_printoptions\n",
    "from sklearn.feature_selection import SelectKBest\n",
    "from sklearn.feature_selection import chi2\n",
    "\n",
    "\n",
    "data = pandas.read_csv('./US_Accidents_March23.csv')\n",
    "data2 = pandas.read_csv('./train_mobile.csv')"
   ]
  },
  {
   "cell_type": "code",
   "execution_count": 2,
   "id": "c4be1156-e510-401b-aa41-950ee77e3ed9",
   "metadata": {},
   "outputs": [
    {
     "name": "stdout",
     "output_type": "stream",
     "text": [
      "                   Severity  Start_Lat  Start_Lng  End_Lat  End_Lng  Distance(mi)  Temperature(F)  \\\n",
      "Severity           1.000000  -0.076981  -0.103261      NaN      NaN      0.034340        0.046538   \n",
      "Start_Lat         -0.076981   1.000000   0.861073      NaN      NaN      0.103625       -0.567659   \n",
      "Start_Lng         -0.103261   0.861073   1.000000      NaN      NaN      0.120892       -0.748900   \n",
      "End_Lat                 NaN        NaN        NaN      NaN      NaN           NaN             NaN   \n",
      "End_Lng                 NaN        NaN        NaN      NaN      NaN           NaN             NaN   \n",
      "Distance(mi)       0.034340   0.103625   0.120892      NaN      NaN      1.000000       -0.109664   \n",
      "Temperature(F)     0.046538  -0.567659  -0.748900      NaN      NaN     -0.109664        1.000000   \n",
      "Wind_Chill(F)     -0.227485  -0.193373  -0.181182      NaN      NaN     -0.017924        0.977217   \n",
      "Humidity(%)       -0.051149   0.265370   0.468385      NaN      NaN      0.080519       -0.804728   \n",
      "Pressure(in)       0.002198   0.004355   0.061179      NaN      NaN     -0.042234       -0.224227   \n",
      "Visibility(mi)     0.048129  -0.437290  -0.500385      NaN      NaN     -0.103921        0.489510   \n",
      "Wind_Speed(mph)    0.066140  -0.010574   0.016506      NaN      NaN      0.024571        0.021474   \n",
      "Precipitation(in)  0.060461   0.190027   0.083097      NaN      NaN      0.083497        0.247758   \n",
      "\n",
      "                   Wind_Chill(F)  Humidity(%)  Pressure(in)  Visibility(mi)  Wind_Speed(mph)  \\\n",
      "Severity               -0.227485    -0.051149      0.002198        0.048129         0.066140   \n",
      "Start_Lat              -0.193373     0.265370      0.004355       -0.437290        -0.010574   \n",
      "Start_Lng              -0.181182     0.468385      0.061179       -0.500385         0.016506   \n",
      "End_Lat                      NaN          NaN           NaN             NaN              NaN   \n",
      "End_Lng                      NaN          NaN           NaN             NaN              NaN   \n",
      "Distance(mi)           -0.017924     0.080519     -0.042234       -0.103921         0.024571   \n",
      "Temperature(F)          0.977217    -0.804728     -0.224227        0.489510         0.021474   \n",
      "Wind_Chill(F)           1.000000     0.092478     -0.276611        0.196162        -0.136024   \n",
      "Humidity(%)             0.092478     1.000000      0.020229       -0.482956        -0.080342   \n",
      "Pressure(in)           -0.276611     0.020229      1.000000        0.193466        -0.073640   \n",
      "Visibility(mi)          0.196162    -0.482956      0.193466        1.000000         0.079107   \n",
      "Wind_Speed(mph)        -0.136024    -0.080342     -0.073640        0.079107         1.000000   \n",
      "Precipitation(in)       0.404798     0.285182     -0.383209       -0.047328         0.194012   \n",
      "\n",
      "                   Precipitation(in)  \n",
      "Severity                    0.060461  \n",
      "Start_Lat                   0.190027  \n",
      "Start_Lng                   0.083097  \n",
      "End_Lat                          NaN  \n",
      "End_Lng                          NaN  \n",
      "Distance(mi)                0.083497  \n",
      "Temperature(F)              0.247758  \n",
      "Wind_Chill(F)               0.404798  \n",
      "Humidity(%)                 0.285182  \n",
      "Pressure(in)               -0.383209  \n",
      "Visibility(mi)             -0.047328  \n",
      "Wind_Speed(mph)             0.194012  \n",
      "Precipitation(in)           1.000000  \n"
     ]
    }
   ],
   "source": [
    "set_option('display.width', 100)\n",
    "correlations = data.corr(method='pearson', numeric_only=True)\n",
    "print(correlations)"
   ]
  },
  {
   "cell_type": "code",
   "execution_count": 3,
   "id": "7bd6d145-a7fb-4a6a-9253-0817d8a6cdbb",
   "metadata": {},
   "outputs": [],
   "source": [
    "# dalla matrice di correlazione vediamo che sono correlate:\n",
    "#        Start_Lat e Start_Lng (0.86 ca)\n",
    "#        Start_Lng e Temperature (-0.74 ca)\n",
    "#        Wind_Chill e Temperature (0.97 ca)\n",
    "#        Humidity e Temperature (-0.87 ca)"
   ]
  },
  {
   "cell_type": "code",
   "execution_count": 4,
   "id": "c5d4d2b9-7bf1-4893-9526-0d5cfc8da1e6",
   "metadata": {},
   "outputs": [],
   "source": [
    "# metodi di scelta delle feature del dataset train_mobile con price range scelta come variabile da predirre (output)"
   ]
  },
  {
   "cell_type": "code",
   "execution_count": 5,
   "id": "897643ac-d953-4abc-9345-96b308ddbc59",
   "metadata": {},
   "outputs": [
    {
     "name": "stdout",
     "output_type": "stream",
     "text": [
      "[1.41298666e+04 7.23232323e-01 6.48365906e-01 6.31010795e-01\n",
      " 1.01351665e+01 1.52157239e+00 8.98391244e+01 7.45819631e-01\n",
      " 9.59728626e+01 9.09755558e+00 9.18605355e+00 1.73635695e+04\n",
      " 9.81058675e+03 9.31267519e+05 9.61487832e+00 1.64803191e+01\n",
      " 1.32364000e+01 3.27642810e-01 1.92842942e+00 4.22090730e-01]\n",
      "[[ 842.   20.  756. 2549.]\n",
      " [1021.  905. 1988. 2631.]\n",
      " [ 563. 1263. 1716. 2603.]\n",
      " [ 615. 1216. 1786. 2769.]\n",
      " [1821. 1208. 1212. 1411.]]\n"
     ]
    }
   ],
   "source": [
    "# uso Univariate Selection, un test statistico per selezionare le feature che incidono \n",
    "# maggiormente sulla variabile in output\n",
    "\n",
    "array2 = data2.values\n",
    "X2 = array2[:,0:20]\n",
    "Y2 = array2[:,20]\n",
    "\n",
    "# estrazione features\n",
    "test2 = SelectKBest(score_func=chi2, k=4)\n",
    "fit2 = test2.fit(X2,Y2)\n",
    "\n",
    "# riassunto punteggi\n",
    "print(fit2.scores_)\n",
    "features2 = fit2.transform(X2)\n",
    "\n",
    "# riassunto features selezionate\n",
    "print(features2[0:5,:])"
   ]
  },
  {
   "cell_type": "code",
   "execution_count": 6,
   "id": "0e69cdc4-d68f-487a-9e40-28b431124fae",
   "metadata": {},
   "outputs": [],
   "source": [
    "# le features che incidono maggiormente sul price range sono in ordine: \n",
    "#        ram (9.31267519e+05)\n",
    "#        px_height (1.73635695e+04)\n",
    "#        px_width (9.81058675e+03)\n",
    "#        battery_power (1.41298666e+04)\n",
    "# la matrice sotto indica i valori in input delle features selezionate (abbiamo preso le prime 5 righe \n",
    "# per avere un output più leggibile)"
   ]
  },
  {
   "cell_type": "code",
   "execution_count": 7,
   "id": "f562c08f-dc12-4a41-9d3c-837bf5ca956f",
   "metadata": {},
   "outputs": [
    {
     "name": "stdout",
     "output_type": "stream",
     "text": [
      "          ID   Source  Severity           Start_Time             End_Time  Start_Lat   Start_Lng  \\\n",
      "0        A-1  Source2         3  2016-02-08 05:46:00  2016-02-08 11:00:00  39.865147  -84.058723   \n",
      "1        A-2  Source2         2  2016-02-08 06:07:59  2016-02-08 06:37:59  39.928059  -82.831184   \n",
      "2        A-3  Source2         2  2016-02-08 06:49:27  2016-02-08 07:19:27  39.063148  -84.032608   \n",
      "3        A-4  Source2         3  2016-02-08 07:23:34  2016-02-08 07:53:34  39.747753  -84.205582   \n",
      "4        A-5  Source2         2  2016-02-08 07:39:07  2016-02-08 08:09:07  39.627781  -84.188354   \n",
      "...      ...      ...       ...                  ...                  ...        ...         ...   \n",
      "2831  A-2832  Source2         2  2016-07-12 15:12:42  2016-07-12 16:27:42  38.474407 -121.419067   \n",
      "2832  A-2833  Source2         2  2016-07-12 15:45:38  2016-07-12 17:00:38  38.495541 -121.511070   \n",
      "2833  A-2834  Source2         3  2016-07-12 15:26:19  2016-07-12 16:41:19  38.588917 -121.415375   \n",
      "2834  A-2835  Source2         2  2016-07-12 15:50:04  2016-07-12 17:05:04  38.742481 -120.747398   \n",
      "2835  A-2836  Source2         2  2016-07-12 16:12:21  2016-07-12 16:42:21  38.567966 -122.829018   \n",
      "\n",
      "      End_Lat  End_Lng  Distance(mi)  ... Roundabout Station   Stop Traffic_Calming  \\\n",
      "0         NaN      NaN          0.01  ...      False   False  False           False   \n",
      "1         NaN      NaN          0.01  ...      False   False  False           False   \n",
      "2         NaN      NaN          0.01  ...      False   False  False           False   \n",
      "3         NaN      NaN          0.01  ...      False   False  False           False   \n",
      "4         NaN      NaN          0.01  ...      False   False  False           False   \n",
      "...       ...      ...           ...  ...        ...     ...    ...             ...   \n",
      "2831      NaN      NaN          0.00  ...      False   False  False           False   \n",
      "2832      NaN      NaN          0.00  ...      False   False  False           False   \n",
      "2833      NaN      NaN          0.00  ...      False   False  False           False   \n",
      "2834      NaN      NaN          0.00  ...      False   False  False           False   \n",
      "2835      NaN      NaN          0.00  ...        NaN     NaN    NaN             NaN   \n",
      "\n",
      "     Traffic_Signal Turning_Loop Sunrise_Sunset Civil_Twilight Nautical_Twilight  \\\n",
      "0             False        False          Night          Night             Night   \n",
      "1             False        False          Night          Night             Night   \n",
      "2              True        False          Night          Night               Day   \n",
      "3             False        False          Night            Day               Day   \n",
      "4              True        False            Day            Day               Day   \n",
      "...             ...          ...            ...            ...               ...   \n",
      "2831          False        False            Day            Day               Day   \n",
      "2832          False        False            Day            Day               Day   \n",
      "2833           True        False            Day            Day               Day   \n",
      "2834          False        False            Day            Day               Day   \n",
      "2835            NaN          NaN            NaN            NaN               NaN   \n",
      "\n",
      "     Astronomical_Twilight  \n",
      "0                    Night  \n",
      "1                      Day  \n",
      "2                      Day  \n",
      "3                      Day  \n",
      "4                      Day  \n",
      "...                    ...  \n",
      "2831                   Day  \n",
      "2832                   Day  \n",
      "2833                   Day  \n",
      "2834                   Day  \n",
      "2835                   NaN  \n",
      "\n",
      "[2836 rows x 46 columns]\n"
     ]
    }
   ],
   "source": [
    "# prova con il dataset sugli incidenti stradali\n",
    "\n",
    "print(data)"
   ]
  },
  {
   "cell_type": "code",
   "execution_count": 8,
   "id": "0c1debe6-eb6e-4706-827c-2e6c15fbf774",
   "metadata": {},
   "outputs": [
    {
     "name": "stdout",
     "output_type": "stream",
     "text": [
      "      Severity  Start_Lat   Start_Lng  End_Lat  End_Lng  Distance(mi)  Temperature(F)  \\\n",
      "0            3  39.865147  -84.058723      NaN      NaN          0.01            36.9   \n",
      "1            2  39.928059  -82.831184      NaN      NaN          0.01            37.9   \n",
      "2            2  39.063148  -84.032608      NaN      NaN          0.01            36.0   \n",
      "3            3  39.747753  -84.205582      NaN      NaN          0.01            35.1   \n",
      "4            2  39.627781  -84.188354      NaN      NaN          0.01            36.0   \n",
      "...        ...        ...         ...      ...      ...           ...             ...   \n",
      "2831         2  38.474407 -121.419067      NaN      NaN          0.00            87.1   \n",
      "2832         2  38.495541 -121.511070      NaN      NaN          0.00            88.0   \n",
      "2833         3  38.588917 -121.415375      NaN      NaN          0.00            89.6   \n",
      "2834         2  38.742481 -120.747398      NaN      NaN          0.00            84.2   \n",
      "2835         2  38.567966 -122.829018      NaN      NaN          0.00             NaN   \n",
      "\n",
      "      Wind_Chill(F)  Humidity(%)  Pressure(in)  Visibility(mi)  Wind_Speed(mph)  Precipitation(in)  \n",
      "0               NaN         91.0         29.68            10.0              NaN               0.02  \n",
      "1               NaN        100.0         29.65            10.0              NaN               0.00  \n",
      "2              33.3        100.0         29.67            10.0              3.5                NaN  \n",
      "3              31.0         96.0         29.64             9.0              4.6                NaN  \n",
      "4              33.3         89.0         29.65             6.0              3.5                NaN  \n",
      "...             ...          ...           ...             ...              ...                ...  \n",
      "2831            NaN         29.0         29.91            10.0              6.9                NaN  \n",
      "2832            NaN         28.0         29.89            10.0              9.2                NaN  \n",
      "2833            NaN         22.0         29.91            10.0              3.5                NaN  \n",
      "2834            NaN         15.0         30.03            10.0              6.9                NaN  \n",
      "2835            NaN          NaN           NaN             NaN              NaN                NaN  \n",
      "\n",
      "[2836 rows x 13 columns]\n"
     ]
    },
    {
     "ename": "ValueError",
     "evalue": "Input X contains NaN.\nSelectKBest does not accept missing values encoded as NaN natively. For supervised learning, you might want to consider sklearn.ensemble.HistGradientBoostingClassifier and Regressor which accept missing values encoded as NaNs natively. Alternatively, it is possible to preprocess the data, for instance by using an imputer transformer in a pipeline or drop samples with missing values. See https://scikit-learn.org/stable/modules/impute.html You can find a list of all estimators that handle NaN values at the following page: https://scikit-learn.org/stable/modules/impute.html#estimators-that-handle-nan-values",
     "output_type": "error",
     "traceback": [
      "\u001b[1;31m---------------------------------------------------------------------------\u001b[0m",
      "\u001b[1;31mValueError\u001b[0m                                Traceback (most recent call last)",
      "Cell \u001b[1;32mIn[8], line 11\u001b[0m\n\u001b[0;32m      9\u001b[0m \u001b[38;5;66;03m# estrazione features\u001b[39;00m\n\u001b[0;32m     10\u001b[0m test \u001b[38;5;241m=\u001b[39m SelectKBest(score_func\u001b[38;5;241m=\u001b[39mchi2, k\u001b[38;5;241m=\u001b[39m\u001b[38;5;241m4\u001b[39m)\n\u001b[1;32m---> 11\u001b[0m fit \u001b[38;5;241m=\u001b[39m \u001b[43mtest\u001b[49m\u001b[38;5;241;43m.\u001b[39;49m\u001b[43mfit\u001b[49m\u001b[43m(\u001b[49m\u001b[43mX\u001b[49m\u001b[43m,\u001b[49m\u001b[43mY\u001b[49m\u001b[43m)\u001b[49m\n\u001b[0;32m     13\u001b[0m \u001b[38;5;66;03m# riassunto punteggi\u001b[39;00m\n\u001b[0;32m     14\u001b[0m \u001b[38;5;28mprint\u001b[39m(fit\u001b[38;5;241m.\u001b[39mscores_)\n",
      "File \u001b[1;32m~\\anaconda3\\lib\\site-packages\\sklearn\\feature_selection\\_univariate_selection.py:467\u001b[0m, in \u001b[0;36m_BaseFilter.fit\u001b[1;34m(self, X, y)\u001b[0m\n\u001b[0;32m    449\u001b[0m \u001b[38;5;124;03m\"\"\"Run score function on (X, y) and get the appropriate features.\u001b[39;00m\n\u001b[0;32m    450\u001b[0m \n\u001b[0;32m    451\u001b[0m \u001b[38;5;124;03mParameters\u001b[39;00m\n\u001b[1;32m   (...)\u001b[0m\n\u001b[0;32m    463\u001b[0m \u001b[38;5;124;03m    Returns the instance itself.\u001b[39;00m\n\u001b[0;32m    464\u001b[0m \u001b[38;5;124;03m\"\"\"\u001b[39;00m\n\u001b[0;32m    465\u001b[0m \u001b[38;5;28mself\u001b[39m\u001b[38;5;241m.\u001b[39m_validate_params()\n\u001b[1;32m--> 467\u001b[0m X, y \u001b[38;5;241m=\u001b[39m \u001b[38;5;28;43mself\u001b[39;49m\u001b[38;5;241;43m.\u001b[39;49m\u001b[43m_validate_data\u001b[49m\u001b[43m(\u001b[49m\n\u001b[0;32m    468\u001b[0m \u001b[43m    \u001b[49m\u001b[43mX\u001b[49m\u001b[43m,\u001b[49m\u001b[43m \u001b[49m\u001b[43my\u001b[49m\u001b[43m,\u001b[49m\u001b[43m \u001b[49m\u001b[43maccept_sparse\u001b[49m\u001b[38;5;241;43m=\u001b[39;49m\u001b[43m[\u001b[49m\u001b[38;5;124;43m\"\u001b[39;49m\u001b[38;5;124;43mcsr\u001b[39;49m\u001b[38;5;124;43m\"\u001b[39;49m\u001b[43m,\u001b[49m\u001b[43m \u001b[49m\u001b[38;5;124;43m\"\u001b[39;49m\u001b[38;5;124;43mcsc\u001b[39;49m\u001b[38;5;124;43m\"\u001b[39;49m\u001b[43m]\u001b[49m\u001b[43m,\u001b[49m\u001b[43m \u001b[49m\u001b[43mmulti_output\u001b[49m\u001b[38;5;241;43m=\u001b[39;49m\u001b[38;5;28;43;01mTrue\u001b[39;49;00m\n\u001b[0;32m    469\u001b[0m \u001b[43m\u001b[49m\u001b[43m)\u001b[49m\n\u001b[0;32m    471\u001b[0m \u001b[38;5;28mself\u001b[39m\u001b[38;5;241m.\u001b[39m_check_params(X, y)\n\u001b[0;32m    472\u001b[0m score_func_ret \u001b[38;5;241m=\u001b[39m \u001b[38;5;28mself\u001b[39m\u001b[38;5;241m.\u001b[39mscore_func(X, y)\n",
      "File \u001b[1;32m~\\anaconda3\\lib\\site-packages\\sklearn\\base.py:565\u001b[0m, in \u001b[0;36mBaseEstimator._validate_data\u001b[1;34m(self, X, y, reset, validate_separately, **check_params)\u001b[0m\n\u001b[0;32m    563\u001b[0m         y \u001b[38;5;241m=\u001b[39m check_array(y, input_name\u001b[38;5;241m=\u001b[39m\u001b[38;5;124m\"\u001b[39m\u001b[38;5;124my\u001b[39m\u001b[38;5;124m\"\u001b[39m, \u001b[38;5;241m*\u001b[39m\u001b[38;5;241m*\u001b[39mcheck_y_params)\n\u001b[0;32m    564\u001b[0m     \u001b[38;5;28;01melse\u001b[39;00m:\n\u001b[1;32m--> 565\u001b[0m         X, y \u001b[38;5;241m=\u001b[39m check_X_y(X, y, \u001b[38;5;241m*\u001b[39m\u001b[38;5;241m*\u001b[39mcheck_params)\n\u001b[0;32m    566\u001b[0m     out \u001b[38;5;241m=\u001b[39m X, y\n\u001b[0;32m    568\u001b[0m \u001b[38;5;28;01mif\u001b[39;00m \u001b[38;5;129;01mnot\u001b[39;00m no_val_X \u001b[38;5;129;01mand\u001b[39;00m check_params\u001b[38;5;241m.\u001b[39mget(\u001b[38;5;124m\"\u001b[39m\u001b[38;5;124mensure_2d\u001b[39m\u001b[38;5;124m\"\u001b[39m, \u001b[38;5;28;01mTrue\u001b[39;00m):\n",
      "File \u001b[1;32m~\\anaconda3\\lib\\site-packages\\sklearn\\utils\\validation.py:1106\u001b[0m, in \u001b[0;36mcheck_X_y\u001b[1;34m(X, y, accept_sparse, accept_large_sparse, dtype, order, copy, force_all_finite, ensure_2d, allow_nd, multi_output, ensure_min_samples, ensure_min_features, y_numeric, estimator)\u001b[0m\n\u001b[0;32m   1101\u001b[0m         estimator_name \u001b[38;5;241m=\u001b[39m _check_estimator_name(estimator)\n\u001b[0;32m   1102\u001b[0m     \u001b[38;5;28;01mraise\u001b[39;00m \u001b[38;5;167;01mValueError\u001b[39;00m(\n\u001b[0;32m   1103\u001b[0m         \u001b[38;5;124mf\u001b[39m\u001b[38;5;124m\"\u001b[39m\u001b[38;5;132;01m{\u001b[39;00mestimator_name\u001b[38;5;132;01m}\u001b[39;00m\u001b[38;5;124m requires y to be passed, but the target y is None\u001b[39m\u001b[38;5;124m\"\u001b[39m\n\u001b[0;32m   1104\u001b[0m     )\n\u001b[1;32m-> 1106\u001b[0m X \u001b[38;5;241m=\u001b[39m \u001b[43mcheck_array\u001b[49m\u001b[43m(\u001b[49m\n\u001b[0;32m   1107\u001b[0m \u001b[43m    \u001b[49m\u001b[43mX\u001b[49m\u001b[43m,\u001b[49m\n\u001b[0;32m   1108\u001b[0m \u001b[43m    \u001b[49m\u001b[43maccept_sparse\u001b[49m\u001b[38;5;241;43m=\u001b[39;49m\u001b[43maccept_sparse\u001b[49m\u001b[43m,\u001b[49m\n\u001b[0;32m   1109\u001b[0m \u001b[43m    \u001b[49m\u001b[43maccept_large_sparse\u001b[49m\u001b[38;5;241;43m=\u001b[39;49m\u001b[43maccept_large_sparse\u001b[49m\u001b[43m,\u001b[49m\n\u001b[0;32m   1110\u001b[0m \u001b[43m    \u001b[49m\u001b[43mdtype\u001b[49m\u001b[38;5;241;43m=\u001b[39;49m\u001b[43mdtype\u001b[49m\u001b[43m,\u001b[49m\n\u001b[0;32m   1111\u001b[0m \u001b[43m    \u001b[49m\u001b[43morder\u001b[49m\u001b[38;5;241;43m=\u001b[39;49m\u001b[43morder\u001b[49m\u001b[43m,\u001b[49m\n\u001b[0;32m   1112\u001b[0m \u001b[43m    \u001b[49m\u001b[43mcopy\u001b[49m\u001b[38;5;241;43m=\u001b[39;49m\u001b[43mcopy\u001b[49m\u001b[43m,\u001b[49m\n\u001b[0;32m   1113\u001b[0m \u001b[43m    \u001b[49m\u001b[43mforce_all_finite\u001b[49m\u001b[38;5;241;43m=\u001b[39;49m\u001b[43mforce_all_finite\u001b[49m\u001b[43m,\u001b[49m\n\u001b[0;32m   1114\u001b[0m \u001b[43m    \u001b[49m\u001b[43mensure_2d\u001b[49m\u001b[38;5;241;43m=\u001b[39;49m\u001b[43mensure_2d\u001b[49m\u001b[43m,\u001b[49m\n\u001b[0;32m   1115\u001b[0m \u001b[43m    \u001b[49m\u001b[43mallow_nd\u001b[49m\u001b[38;5;241;43m=\u001b[39;49m\u001b[43mallow_nd\u001b[49m\u001b[43m,\u001b[49m\n\u001b[0;32m   1116\u001b[0m \u001b[43m    \u001b[49m\u001b[43mensure_min_samples\u001b[49m\u001b[38;5;241;43m=\u001b[39;49m\u001b[43mensure_min_samples\u001b[49m\u001b[43m,\u001b[49m\n\u001b[0;32m   1117\u001b[0m \u001b[43m    \u001b[49m\u001b[43mensure_min_features\u001b[49m\u001b[38;5;241;43m=\u001b[39;49m\u001b[43mensure_min_features\u001b[49m\u001b[43m,\u001b[49m\n\u001b[0;32m   1118\u001b[0m \u001b[43m    \u001b[49m\u001b[43mestimator\u001b[49m\u001b[38;5;241;43m=\u001b[39;49m\u001b[43mestimator\u001b[49m\u001b[43m,\u001b[49m\n\u001b[0;32m   1119\u001b[0m \u001b[43m    \u001b[49m\u001b[43minput_name\u001b[49m\u001b[38;5;241;43m=\u001b[39;49m\u001b[38;5;124;43m\"\u001b[39;49m\u001b[38;5;124;43mX\u001b[39;49m\u001b[38;5;124;43m\"\u001b[39;49m\u001b[43m,\u001b[49m\n\u001b[0;32m   1120\u001b[0m \u001b[43m\u001b[49m\u001b[43m)\u001b[49m\n\u001b[0;32m   1122\u001b[0m y \u001b[38;5;241m=\u001b[39m _check_y(y, multi_output\u001b[38;5;241m=\u001b[39mmulti_output, y_numeric\u001b[38;5;241m=\u001b[39my_numeric, estimator\u001b[38;5;241m=\u001b[39mestimator)\n\u001b[0;32m   1124\u001b[0m check_consistent_length(X, y)\n",
      "File \u001b[1;32m~\\anaconda3\\lib\\site-packages\\sklearn\\utils\\validation.py:921\u001b[0m, in \u001b[0;36mcheck_array\u001b[1;34m(array, accept_sparse, accept_large_sparse, dtype, order, copy, force_all_finite, ensure_2d, allow_nd, ensure_min_samples, ensure_min_features, estimator, input_name)\u001b[0m\n\u001b[0;32m    915\u001b[0m         \u001b[38;5;28;01mraise\u001b[39;00m \u001b[38;5;167;01mValueError\u001b[39;00m(\n\u001b[0;32m    916\u001b[0m             \u001b[38;5;124m\"\u001b[39m\u001b[38;5;124mFound array with dim \u001b[39m\u001b[38;5;132;01m%d\u001b[39;00m\u001b[38;5;124m. \u001b[39m\u001b[38;5;132;01m%s\u001b[39;00m\u001b[38;5;124m expected <= 2.\u001b[39m\u001b[38;5;124m\"\u001b[39m\n\u001b[0;32m    917\u001b[0m             \u001b[38;5;241m%\u001b[39m (array\u001b[38;5;241m.\u001b[39mndim, estimator_name)\n\u001b[0;32m    918\u001b[0m         )\n\u001b[0;32m    920\u001b[0m     \u001b[38;5;28;01mif\u001b[39;00m force_all_finite:\n\u001b[1;32m--> 921\u001b[0m         \u001b[43m_assert_all_finite\u001b[49m\u001b[43m(\u001b[49m\n\u001b[0;32m    922\u001b[0m \u001b[43m            \u001b[49m\u001b[43marray\u001b[49m\u001b[43m,\u001b[49m\n\u001b[0;32m    923\u001b[0m \u001b[43m            \u001b[49m\u001b[43minput_name\u001b[49m\u001b[38;5;241;43m=\u001b[39;49m\u001b[43minput_name\u001b[49m\u001b[43m,\u001b[49m\n\u001b[0;32m    924\u001b[0m \u001b[43m            \u001b[49m\u001b[43mestimator_name\u001b[49m\u001b[38;5;241;43m=\u001b[39;49m\u001b[43mestimator_name\u001b[49m\u001b[43m,\u001b[49m\n\u001b[0;32m    925\u001b[0m \u001b[43m            \u001b[49m\u001b[43mallow_nan\u001b[49m\u001b[38;5;241;43m=\u001b[39;49m\u001b[43mforce_all_finite\u001b[49m\u001b[43m \u001b[49m\u001b[38;5;241;43m==\u001b[39;49m\u001b[43m \u001b[49m\u001b[38;5;124;43m\"\u001b[39;49m\u001b[38;5;124;43mallow-nan\u001b[39;49m\u001b[38;5;124;43m\"\u001b[39;49m\u001b[43m,\u001b[49m\n\u001b[0;32m    926\u001b[0m \u001b[43m        \u001b[49m\u001b[43m)\u001b[49m\n\u001b[0;32m    928\u001b[0m \u001b[38;5;28;01mif\u001b[39;00m ensure_min_samples \u001b[38;5;241m>\u001b[39m \u001b[38;5;241m0\u001b[39m:\n\u001b[0;32m    929\u001b[0m     n_samples \u001b[38;5;241m=\u001b[39m _num_samples(array)\n",
      "File \u001b[1;32m~\\anaconda3\\lib\\site-packages\\sklearn\\utils\\validation.py:161\u001b[0m, in \u001b[0;36m_assert_all_finite\u001b[1;34m(X, allow_nan, msg_dtype, estimator_name, input_name)\u001b[0m\n\u001b[0;32m    144\u001b[0m \u001b[38;5;28;01mif\u001b[39;00m estimator_name \u001b[38;5;129;01mand\u001b[39;00m input_name \u001b[38;5;241m==\u001b[39m \u001b[38;5;124m\"\u001b[39m\u001b[38;5;124mX\u001b[39m\u001b[38;5;124m\"\u001b[39m \u001b[38;5;129;01mand\u001b[39;00m has_nan_error:\n\u001b[0;32m    145\u001b[0m     \u001b[38;5;66;03m# Improve the error message on how to handle missing values in\u001b[39;00m\n\u001b[0;32m    146\u001b[0m     \u001b[38;5;66;03m# scikit-learn.\u001b[39;00m\n\u001b[0;32m    147\u001b[0m     msg_err \u001b[38;5;241m+\u001b[39m\u001b[38;5;241m=\u001b[39m (\n\u001b[0;32m    148\u001b[0m         \u001b[38;5;124mf\u001b[39m\u001b[38;5;124m\"\u001b[39m\u001b[38;5;130;01m\\n\u001b[39;00m\u001b[38;5;132;01m{\u001b[39;00mestimator_name\u001b[38;5;132;01m}\u001b[39;00m\u001b[38;5;124m does not accept missing values\u001b[39m\u001b[38;5;124m\"\u001b[39m\n\u001b[0;32m    149\u001b[0m         \u001b[38;5;124m\"\u001b[39m\u001b[38;5;124m encoded as NaN natively. For supervised learning, you might want\u001b[39m\u001b[38;5;124m\"\u001b[39m\n\u001b[1;32m   (...)\u001b[0m\n\u001b[0;32m    159\u001b[0m         \u001b[38;5;124m\"\u001b[39m\u001b[38;5;124m#estimators-that-handle-nan-values\u001b[39m\u001b[38;5;124m\"\u001b[39m\n\u001b[0;32m    160\u001b[0m     )\n\u001b[1;32m--> 161\u001b[0m \u001b[38;5;28;01mraise\u001b[39;00m \u001b[38;5;167;01mValueError\u001b[39;00m(msg_err)\n",
      "\u001b[1;31mValueError\u001b[0m: Input X contains NaN.\nSelectKBest does not accept missing values encoded as NaN natively. For supervised learning, you might want to consider sklearn.ensemble.HistGradientBoostingClassifier and Regressor which accept missing values encoded as NaNs natively. Alternatively, it is possible to preprocess the data, for instance by using an imputer transformer in a pipeline or drop samples with missing values. See https://scikit-learn.org/stable/modules/impute.html You can find a list of all estimators that handle NaN values at the following page: https://scikit-learn.org/stable/modules/impute.html#estimators-that-handle-nan-values"
     ]
    }
   ],
   "source": [
    "\n",
    "\n",
    "categorical_columns = data.select_dtypes(exclude='number').columns.tolist()\n",
    "data = data.drop(columns = categorical_columns)\n",
    "array = data.values\n",
    "\n",
    "X = array[:,1:12]\n",
    "Y = array[:,0]\n",
    "\n",
    "print(data)\n",
    "# estrazione features\n",
    "test = SelectKBest(score_func=chi2, k=4)\n",
    "fit = test.fit(X,Y)\n",
    "\n",
    "# riassunto punteggi\n",
    "print(fit.scores_)\n",
    "features = fit.transform(X)\n",
    "\n",
    "# riassunto features selezionate\n",
    "print(features[0:5,:])"
   ]
  },
  {
   "cell_type": "code",
   "execution_count": null,
   "id": "0e95c013-64eb-47a0-8570-cbf01230b890",
   "metadata": {},
   "outputs": [],
   "source": [
    "#import sklearn.linear_model\n",
    "#from sklearn.feature_selection import RFE\n",
    "#from sklearn.linear_model import LogisticRegression\n",
    "# load data\n",
    "\n",
    "\n",
    "#array = data2.values\n",
    "#X = array[:,0:20]\n",
    "#Y = array[:,20]\n",
    "# feature extraction\n",
    "#model = LogisticRegression()\n",
    "#rfe = RFE(model, 3)\n",
    "#fit = rfe.fit(X, Y)\n",
    "#print(\"Num Features: %d\") % fit.n_features_\n",
    "#print(\"Selected Features: %s\") % fit.support_\n",
    "#print(\"Feature Ranking: %s\") % fit.ranking_"
   ]
  },
  {
   "cell_type": "code",
   "execution_count": null,
   "id": "0f85b81d-01e2-424b-ad21-f12c72d95e35",
   "metadata": {},
   "outputs": [],
   "source": []
  }
 ],
 "metadata": {
  "kernelspec": {
   "display_name": "Python 3 (ipykernel)",
   "language": "python",
   "name": "python3"
  },
  "language_info": {
   "codemirror_mode": {
    "name": "ipython",
    "version": 3
   },
   "file_extension": ".py",
   "mimetype": "text/x-python",
   "name": "python",
   "nbconvert_exporter": "python",
   "pygments_lexer": "ipython3",
   "version": "3.10.9"
  }
 },
 "nbformat": 4,
 "nbformat_minor": 5
}
