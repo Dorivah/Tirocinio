{
 "cells": [
  {
   "cell_type": "code",
   "execution_count": 1,
   "id": "60106392",
   "metadata": {},
   "outputs": [],
   "source": [
    "import pandas\n",
    "import numpy\n",
    "import sklearn.feature_selection \n",
    "from pandas import read_csv\n",
    "from pandas import set_option\n",
    "from numpy import set_printoptions\n",
    "from sklearn.feature_selection import SelectKBest\n",
    "from sklearn.feature_selection import chi2\n",
    "from matplotlib import pyplot\n",
    "\n",
    "\n",
    "data = pandas.read_csv('./US_Accidents_March23.csv')\n",
    "data2 = pandas.read_csv('./train_mobile.csv')\n",
    "df = pandas.read_csv('./US_Accidents_March23.csv')"
   ]
  },
  {
   "cell_type": "code",
   "execution_count": 2,
   "id": "c4be1156-e510-401b-aa41-950ee77e3ed9",
   "metadata": {},
   "outputs": [
    {
     "name": "stdout",
     "output_type": "stream",
     "text": [
      "                   Severity  Start_Lat  Start_Lng  End_Lat  End_Lng  Distance(mi)  Temperature(F)  \\\n",
      "Severity           1.000000  -0.076981  -0.103261      NaN      NaN      0.034340        0.046538   \n",
      "Start_Lat         -0.076981   1.000000   0.861073      NaN      NaN      0.103625       -0.567659   \n",
      "Start_Lng         -0.103261   0.861073   1.000000      NaN      NaN      0.120892       -0.748900   \n",
      "End_Lat                 NaN        NaN        NaN      NaN      NaN           NaN             NaN   \n",
      "End_Lng                 NaN        NaN        NaN      NaN      NaN           NaN             NaN   \n",
      "Distance(mi)       0.034340   0.103625   0.120892      NaN      NaN      1.000000       -0.109664   \n",
      "Temperature(F)     0.046538  -0.567659  -0.748900      NaN      NaN     -0.109664        1.000000   \n",
      "Wind_Chill(F)     -0.227485  -0.193373  -0.181182      NaN      NaN     -0.017924        0.977217   \n",
      "Humidity(%)       -0.051149   0.265370   0.468385      NaN      NaN      0.080519       -0.804728   \n",
      "Pressure(in)       0.002198   0.004355   0.061179      NaN      NaN     -0.042234       -0.224227   \n",
      "Visibility(mi)     0.048129  -0.437290  -0.500385      NaN      NaN     -0.103921        0.489510   \n",
      "Wind_Speed(mph)    0.066140  -0.010574   0.016506      NaN      NaN      0.024571        0.021474   \n",
      "Precipitation(in)  0.060461   0.190027   0.083097      NaN      NaN      0.083497        0.247758   \n",
      "\n",
      "                   Wind_Chill(F)  Humidity(%)  Pressure(in)  Visibility(mi)  Wind_Speed(mph)  \\\n",
      "Severity               -0.227485    -0.051149      0.002198        0.048129         0.066140   \n",
      "Start_Lat              -0.193373     0.265370      0.004355       -0.437290        -0.010574   \n",
      "Start_Lng              -0.181182     0.468385      0.061179       -0.500385         0.016506   \n",
      "End_Lat                      NaN          NaN           NaN             NaN              NaN   \n",
      "End_Lng                      NaN          NaN           NaN             NaN              NaN   \n",
      "Distance(mi)           -0.017924     0.080519     -0.042234       -0.103921         0.024571   \n",
      "Temperature(F)          0.977217    -0.804728     -0.224227        0.489510         0.021474   \n",
      "Wind_Chill(F)           1.000000     0.092478     -0.276611        0.196162        -0.136024   \n",
      "Humidity(%)             0.092478     1.000000      0.020229       -0.482956        -0.080342   \n",
      "Pressure(in)           -0.276611     0.020229      1.000000        0.193466        -0.073640   \n",
      "Visibility(mi)          0.196162    -0.482956      0.193466        1.000000         0.079107   \n",
      "Wind_Speed(mph)        -0.136024    -0.080342     -0.073640        0.079107         1.000000   \n",
      "Precipitation(in)       0.404798     0.285182     -0.383209       -0.047328         0.194012   \n",
      "\n",
      "                   Precipitation(in)  \n",
      "Severity                    0.060461  \n",
      "Start_Lat                   0.190027  \n",
      "Start_Lng                   0.083097  \n",
      "End_Lat                          NaN  \n",
      "End_Lng                          NaN  \n",
      "Distance(mi)                0.083497  \n",
      "Temperature(F)              0.247758  \n",
      "Wind_Chill(F)               0.404798  \n",
      "Humidity(%)                 0.285182  \n",
      "Pressure(in)               -0.383209  \n",
      "Visibility(mi)             -0.047328  \n",
      "Wind_Speed(mph)             0.194012  \n",
      "Precipitation(in)           1.000000  \n"
     ]
    }
   ],
   "source": [
    "set_option('display.width', 100)\n",
    "correlations = data.corr(method='pearson', numeric_only=True)\n",
    "print(correlations)"
   ]
  },
  {
   "cell_type": "code",
   "execution_count": 3,
   "id": "7bd6d145-a7fb-4a6a-9253-0817d8a6cdbb",
   "metadata": {},
   "outputs": [],
   "source": [
    "# dalla matrice di correlazione vediamo che sono correlate:\n",
    "#        Start_Lat e Start_Lng (0.86 ca)\n",
    "#        Start_Lng e Temperature (-0.74 ca)\n",
    "#        Wind_Chill e Temperature (0.97 ca)\n",
    "#        Humidity e Temperature (-0.87 ca)"
   ]
  },
  {
   "cell_type": "code",
   "execution_count": 4,
   "id": "c5d4d2b9-7bf1-4893-9526-0d5cfc8da1e6",
   "metadata": {},
   "outputs": [],
   "source": [
    "# metodi di scelta delle feature del dataset train_mobile con price range scelta come variabile da predirre (output)"
   ]
  },
  {
   "cell_type": "code",
   "execution_count": 5,
   "id": "897643ac-d953-4abc-9345-96b308ddbc59",
   "metadata": {},
   "outputs": [
    {
     "name": "stdout",
     "output_type": "stream",
     "text": [
      "      battery_power  blue  clock_speed  dual_sim  fc  four_g  int_memory  m_dep  mobile_wt  \\\n",
      "0               842     0          2.2         0   1       0           7    0.6        188   \n",
      "1              1021     1          0.5         1   0       1          53    0.7        136   \n",
      "2               563     1          0.5         1   2       1          41    0.9        145   \n",
      "3               615     1          2.5         0   0       0          10    0.8        131   \n",
      "4              1821     1          1.2         0  13       1          44    0.6        141   \n",
      "...             ...   ...          ...       ...  ..     ...         ...    ...        ...   \n",
      "1995            794     1          0.5         1   0       1           2    0.8        106   \n",
      "1996           1965     1          2.6         1   0       0          39    0.2        187   \n",
      "1997           1911     0          0.9         1   1       1          36    0.7        108   \n",
      "1998           1512     0          0.9         0   4       1          46    0.1        145   \n",
      "1999            510     1          2.0         1   5       1          45    0.9        168   \n",
      "\n",
      "      n_cores  ...  px_height  px_width   ram  sc_h  sc_w  talk_time  three_g  touch_screen  wifi  \\\n",
      "0           2  ...         20       756  2549     9     7         19        0             0     1   \n",
      "1           3  ...        905      1988  2631    17     3          7        1             1     0   \n",
      "2           5  ...       1263      1716  2603    11     2          9        1             1     0   \n",
      "3           6  ...       1216      1786  2769    16     8         11        1             0     0   \n",
      "4           2  ...       1208      1212  1411     8     2         15        1             1     0   \n",
      "...       ...  ...        ...       ...   ...   ...   ...        ...      ...           ...   ...   \n",
      "1995        6  ...       1222      1890   668    13     4         19        1             1     0   \n",
      "1996        4  ...        915      1965  2032    11    10         16        1             1     1   \n",
      "1997        8  ...        868      1632  3057     9     1          5        1             1     0   \n",
      "1998        5  ...        336       670   869    18    10         19        1             1     1   \n",
      "1999        6  ...        483       754  3919    19     4          2        1             1     1   \n",
      "\n",
      "      price_range  \n",
      "0               1  \n",
      "1               2  \n",
      "2               2  \n",
      "3               2  \n",
      "4               1  \n",
      "...           ...  \n",
      "1995            0  \n",
      "1996            2  \n",
      "1997            3  \n",
      "1998            0  \n",
      "1999            3  \n",
      "\n",
      "[2000 rows x 21 columns]\n",
      "[1.41298666e+04 7.23232323e-01 6.48365906e-01 6.31010795e-01\n",
      " 1.01351665e+01 1.52157239e+00 8.98391244e+01 7.45819631e-01\n",
      " 9.59728626e+01 9.09755558e+00 9.18605355e+00 1.73635695e+04\n",
      " 9.81058675e+03 9.31267519e+05 9.61487832e+00 1.64803191e+01\n",
      " 1.32364000e+01 3.27642810e-01 1.92842942e+00 4.22090730e-01]\n",
      "[[ 842.   20.  756. 2549.]\n",
      " [1021.  905. 1988. 2631.]\n",
      " [ 563. 1263. 1716. 2603.]\n",
      " [ 615. 1216. 1786. 2769.]\n",
      " [1821. 1208. 1212. 1411.]]\n"
     ]
    }
   ],
   "source": [
    "# uso Univariate Selection, un test statistico per selezionare le feature che incidono \n",
    "# maggiormente sulla variabile in output\n",
    "\n",
    "array2 = data2.values\n",
    "X2 = array2[:,0:20]\n",
    "Y2 = array2[:,20]\n",
    "\n",
    "print(data2)\n",
    "\n",
    "# estrazione features\n",
    "test2 = SelectKBest(score_func=chi2, k=4)\n",
    "fit2 = test2.fit(X2,Y2)\n",
    "\n",
    "# riassunto punteggi\n",
    "print(fit2.scores_)\n",
    "features2 = fit2.transform(X2)\n",
    "\n",
    "# riassunto features selezionate\n",
    "print(features2[0:5,:])"
   ]
  },
  {
   "cell_type": "code",
   "execution_count": 6,
   "id": "0e69cdc4-d68f-487a-9e40-28b431124fae",
   "metadata": {},
   "outputs": [],
   "source": [
    "# le features che incidono maggiormente sul price range sono in ordine: \n",
    "#        ram (9.31267519e+05)\n",
    "#        px_height (1.73635695e+04)\n",
    "#        px_width (9.81058675e+03)\n",
    "#        battery_power (1.41298666e+04)\n",
    "# la matrice sotto indica i valori in input delle features selezionate (abbiamo preso le prime 5 righe \n",
    "# per avere un output più leggibile)"
   ]
  },
  {
   "cell_type": "code",
   "execution_count": 7,
   "id": "f562c08f-dc12-4a41-9d3c-837bf5ca956f",
   "metadata": {
    "scrolled": true
   },
   "outputs": [
    {
     "name": "stdout",
     "output_type": "stream",
     "text": [
      "          ID   Source  Severity           Start_Time             End_Time  Start_Lat   Start_Lng  \\\n",
      "0        A-1  Source2         3  2016-02-08 05:46:00  2016-02-08 11:00:00  39.865147  -84.058723   \n",
      "1        A-2  Source2         2  2016-02-08 06:07:59  2016-02-08 06:37:59  39.928059  -82.831184   \n",
      "2        A-3  Source2         2  2016-02-08 06:49:27  2016-02-08 07:19:27  39.063148  -84.032608   \n",
      "3        A-4  Source2         3  2016-02-08 07:23:34  2016-02-08 07:53:34  39.747753  -84.205582   \n",
      "4        A-5  Source2         2  2016-02-08 07:39:07  2016-02-08 08:09:07  39.627781  -84.188354   \n",
      "...      ...      ...       ...                  ...                  ...        ...         ...   \n",
      "2831  A-2832  Source2         2  2016-07-12 15:12:42  2016-07-12 16:27:42  38.474407 -121.419067   \n",
      "2832  A-2833  Source2         2  2016-07-12 15:45:38  2016-07-12 17:00:38  38.495541 -121.511070   \n",
      "2833  A-2834  Source2         3  2016-07-12 15:26:19  2016-07-12 16:41:19  38.588917 -121.415375   \n",
      "2834  A-2835  Source2         2  2016-07-12 15:50:04  2016-07-12 17:05:04  38.742481 -120.747398   \n",
      "2835  A-2836  Source2         2  2016-07-12 16:12:21  2016-07-12 16:42:21  38.567966 -122.829018   \n",
      "\n",
      "      End_Lat  End_Lng  Distance(mi)  ... Roundabout Station   Stop Traffic_Calming  \\\n",
      "0         NaN      NaN          0.01  ...      False   False  False           False   \n",
      "1         NaN      NaN          0.01  ...      False   False  False           False   \n",
      "2         NaN      NaN          0.01  ...      False   False  False           False   \n",
      "3         NaN      NaN          0.01  ...      False   False  False           False   \n",
      "4         NaN      NaN          0.01  ...      False   False  False           False   \n",
      "...       ...      ...           ...  ...        ...     ...    ...             ...   \n",
      "2831      NaN      NaN          0.00  ...      False   False  False           False   \n",
      "2832      NaN      NaN          0.00  ...      False   False  False           False   \n",
      "2833      NaN      NaN          0.00  ...      False   False  False           False   \n",
      "2834      NaN      NaN          0.00  ...      False   False  False           False   \n",
      "2835      NaN      NaN          0.00  ...        NaN     NaN    NaN             NaN   \n",
      "\n",
      "     Traffic_Signal Turning_Loop Sunrise_Sunset Civil_Twilight Nautical_Twilight  \\\n",
      "0             False        False          Night          Night             Night   \n",
      "1             False        False          Night          Night             Night   \n",
      "2              True        False          Night          Night               Day   \n",
      "3             False        False          Night            Day               Day   \n",
      "4              True        False            Day            Day               Day   \n",
      "...             ...          ...            ...            ...               ...   \n",
      "2831          False        False            Day            Day               Day   \n",
      "2832          False        False            Day            Day               Day   \n",
      "2833           True        False            Day            Day               Day   \n",
      "2834          False        False            Day            Day               Day   \n",
      "2835            NaN          NaN            NaN            NaN               NaN   \n",
      "\n",
      "     Astronomical_Twilight  \n",
      "0                    Night  \n",
      "1                      Day  \n",
      "2                      Day  \n",
      "3                      Day  \n",
      "4                      Day  \n",
      "...                    ...  \n",
      "2831                   Day  \n",
      "2832                   Day  \n",
      "2833                   Day  \n",
      "2834                   Day  \n",
      "2835                   NaN  \n",
      "\n",
      "[2836 rows x 46 columns]\n"
     ]
    }
   ],
   "source": [
    "# prova con il dataset sugli incidenti stradali\n",
    "\n",
    "print(data)"
   ]
  },
  {
   "cell_type": "code",
   "execution_count": 8,
   "id": "2e9eefd8",
   "metadata": {},
   "outputs": [
    {
     "name": "stdout",
     "output_type": "stream",
     "text": [
      "      Severity           Start_Time             End_Time  Temperature(F)  Pressure(in)  \\\n",
      "0            3  2016-02-08 05:46:00  2016-02-08 11:00:00            36.9         29.68   \n",
      "1            2  2016-02-08 06:07:59  2016-02-08 06:37:59            37.9         29.65   \n",
      "2            2  2016-02-08 06:49:27  2016-02-08 07:19:27            36.0         29.67   \n",
      "3            3  2016-02-08 07:23:34  2016-02-08 07:53:34            35.1         29.64   \n",
      "4            2  2016-02-08 07:39:07  2016-02-08 08:09:07            36.0         29.65   \n",
      "...        ...                  ...                  ...             ...           ...   \n",
      "2831         2  2016-07-12 15:12:42  2016-07-12 16:27:42            87.1         29.91   \n",
      "2832         2  2016-07-12 15:45:38  2016-07-12 17:00:38            88.0         29.89   \n",
      "2833         3  2016-07-12 15:26:19  2016-07-12 16:41:19            89.6         29.91   \n",
      "2834         2  2016-07-12 15:50:04  2016-07-12 17:05:04            84.2         30.03   \n",
      "2835         2  2016-07-12 16:12:21  2016-07-12 16:42:21             NaN           NaN   \n",
      "\n",
      "      Visibility(mi)  Wind_Speed(mph)  Precipitation(in) Weather_Condition Amenity  ...  \\\n",
      "0               10.0              NaN               0.02        Light Rain   False  ...   \n",
      "1               10.0              NaN               0.00        Light Rain   False  ...   \n",
      "2               10.0              3.5                NaN          Overcast   False  ...   \n",
      "3                9.0              4.6                NaN     Mostly Cloudy   False  ...   \n",
      "4                6.0              3.5                NaN     Mostly Cloudy   False  ...   \n",
      "...              ...              ...                ...               ...     ...  ...   \n",
      "2831            10.0              6.9                NaN             Clear   False  ...   \n",
      "2832            10.0              9.2                NaN             Clear   False  ...   \n",
      "2833            10.0              3.5                NaN             Clear   False  ...   \n",
      "2834            10.0              6.9                NaN             Clear   False  ...   \n",
      "2835             NaN              NaN                NaN               NaN     NaN  ...   \n",
      "\n",
      "     Roundabout Station   Stop Traffic_Calming Traffic_Signal Turning_Loop Sunrise_Sunset  \\\n",
      "0         False   False  False           False          False        False          Night   \n",
      "1         False   False  False           False          False        False          Night   \n",
      "2         False   False  False           False           True        False          Night   \n",
      "3         False   False  False           False          False        False          Night   \n",
      "4         False   False  False           False           True        False            Day   \n",
      "...         ...     ...    ...             ...            ...          ...            ...   \n",
      "2831      False   False  False           False          False        False            Day   \n",
      "2832      False   False  False           False          False        False            Day   \n",
      "2833      False   False  False           False           True        False            Day   \n",
      "2834      False   False  False           False          False        False            Day   \n",
      "2835        NaN     NaN    NaN             NaN            NaN          NaN            NaN   \n",
      "\n",
      "     Civil_Twilight Nautical_Twilight Astronomical_Twilight  \n",
      "0             Night             Night                 Night  \n",
      "1             Night             Night                   Day  \n",
      "2             Night               Day                   Day  \n",
      "3               Day               Day                   Day  \n",
      "4               Day               Day                   Day  \n",
      "...             ...               ...                   ...  \n",
      "2831            Day               Day                   Day  \n",
      "2832            Day               Day                   Day  \n",
      "2833            Day               Day                   Day  \n",
      "2834            Day               Day                   Day  \n",
      "2835            NaN               NaN                   NaN  \n",
      "\n",
      "[2836 rows x 26 columns]\n"
     ]
    }
   ],
   "source": [
    "# Rimozione feature ritenute poco utili\n",
    "data = data.drop(['ID', 'Source', 'Start_Lat', 'Start_Lng', 'End_Lat', 'End_Lng', 'Distance(mi)', 'Description', 'State', 'Zipcode', 'Country', 'Street', 'City', 'County', 'Timezone', 'Airport_Code', 'Weather_Timestamp', 'Wind_Chill(F)', 'Humidity(%)', 'Wind_Direction'], axis=1)\n",
    "print(data)"
   ]
  },
  {
   "cell_type": "code",
   "execution_count": 9,
   "id": "1b0cc43b",
   "metadata": {},
   "outputs": [
    {
     "data": {
      "text/plain": [
       "False    2834\n",
       "True        1\n",
       "Name: Roundabout, dtype: int64"
      ]
     },
     "execution_count": 9,
     "metadata": {},
     "output_type": "execute_result"
    }
   ],
   "source": [
    "data.Roundabout.value_counts()"
   ]
  },
  {
   "cell_type": "code",
   "execution_count": 10,
   "id": "841e0699",
   "metadata": {},
   "outputs": [
    {
     "data": {
      "text/plain": [
       "False    2786\n",
       "True       49\n",
       "Name: Station, dtype: int64"
      ]
     },
     "execution_count": 10,
     "metadata": {},
     "output_type": "execute_result"
    }
   ],
   "source": [
    "data.Station.value_counts()"
   ]
  },
  {
   "cell_type": "code",
   "execution_count": 11,
   "id": "5bf8413e",
   "metadata": {},
   "outputs": [
    {
     "data": {
      "text/plain": [
       "False    2716\n",
       "True      119\n",
       "Name: Stop, dtype: int64"
      ]
     },
     "execution_count": 11,
     "metadata": {},
     "output_type": "execute_result"
    }
   ],
   "source": [
    "data.Stop.value_counts()"
   ]
  },
  {
   "cell_type": "code",
   "execution_count": 12,
   "id": "ad5e54a8",
   "metadata": {},
   "outputs": [
    {
     "data": {
      "text/plain": [
       "False    2833\n",
       "True        2\n",
       "Name: Traffic_Calming, dtype: int64"
      ]
     },
     "execution_count": 12,
     "metadata": {},
     "output_type": "execute_result"
    }
   ],
   "source": [
    "data.Traffic_Calming.value_counts()"
   ]
  },
  {
   "cell_type": "code",
   "execution_count": 13,
   "id": "b7e22ca1",
   "metadata": {},
   "outputs": [
    {
     "data": {
      "text/plain": [
       "False    2463\n",
       "True      372\n",
       "Name: Traffic_Signal, dtype: int64"
      ]
     },
     "execution_count": 13,
     "metadata": {},
     "output_type": "execute_result"
    }
   ],
   "source": [
    "data.Traffic_Signal.value_counts()"
   ]
  },
  {
   "cell_type": "code",
   "execution_count": 14,
   "id": "65e16f54",
   "metadata": {},
   "outputs": [
    {
     "data": {
      "text/plain": [
       "False    2835\n",
       "Name: Turning_Loop, dtype: int64"
      ]
     },
     "execution_count": 14,
     "metadata": {},
     "output_type": "execute_result"
    }
   ],
   "source": [
    "data.Turning_Loop.value_counts()"
   ]
  },
  {
   "cell_type": "code",
   "execution_count": 15,
   "id": "9a9b78a6",
   "metadata": {},
   "outputs": [
    {
     "name": "stdout",
     "output_type": "stream",
     "text": [
      "      Severity           Start_Time             End_Time  Temperature(F)  Pressure(in)  \\\n",
      "0            3  2016-02-08 05:46:00  2016-02-08 11:00:00            36.9         29.68   \n",
      "1            2  2016-02-08 06:07:59  2016-02-08 06:37:59            37.9         29.65   \n",
      "2            2  2016-02-08 06:49:27  2016-02-08 07:19:27            36.0         29.67   \n",
      "3            3  2016-02-08 07:23:34  2016-02-08 07:53:34            35.1         29.64   \n",
      "4            2  2016-02-08 07:39:07  2016-02-08 08:09:07            36.0         29.65   \n",
      "...        ...                  ...                  ...             ...           ...   \n",
      "2831         2  2016-07-12 15:12:42  2016-07-12 16:27:42            87.1         29.91   \n",
      "2832         2  2016-07-12 15:45:38  2016-07-12 17:00:38            88.0         29.89   \n",
      "2833         3  2016-07-12 15:26:19  2016-07-12 16:41:19            89.6         29.91   \n",
      "2834         2  2016-07-12 15:50:04  2016-07-12 17:05:04            84.2         30.03   \n",
      "2835         2  2016-07-12 16:12:21  2016-07-12 16:42:21             NaN           NaN   \n",
      "\n",
      "      Visibility(mi)  Wind_Speed(mph)  Precipitation(in) Weather_Condition Amenity  ... Give_Way  \\\n",
      "0               10.0              NaN               0.02        Light Rain   False  ...    False   \n",
      "1               10.0              NaN               0.00        Light Rain   False  ...    False   \n",
      "2               10.0              3.5                NaN          Overcast   False  ...    False   \n",
      "3                9.0              4.6                NaN     Mostly Cloudy   False  ...    False   \n",
      "4                6.0              3.5                NaN     Mostly Cloudy   False  ...    False   \n",
      "...              ...              ...                ...               ...     ...  ...      ...   \n",
      "2831            10.0              6.9                NaN             Clear   False  ...    False   \n",
      "2832            10.0              9.2                NaN             Clear   False  ...    False   \n",
      "2833            10.0              3.5                NaN             Clear   False  ...    False   \n",
      "2834            10.0              6.9                NaN             Clear   False  ...    False   \n",
      "2835             NaN              NaN                NaN               NaN     NaN  ...      NaN   \n",
      "\n",
      "     Junction No_Exit Railway   Stop Traffic_Signal Sunrise_Sunset Civil_Twilight  \\\n",
      "0       False   False   False  False          False          Night          Night   \n",
      "1       False   False   False  False          False          Night          Night   \n",
      "2       False   False   False  False           True          Night          Night   \n",
      "3       False   False   False  False          False          Night            Day   \n",
      "4       False   False   False  False           True            Day            Day   \n",
      "...       ...     ...     ...    ...            ...            ...            ...   \n",
      "2831    False   False   False  False          False            Day            Day   \n",
      "2832    False   False   False  False          False            Day            Day   \n",
      "2833    False   False   False  False           True            Day            Day   \n",
      "2834    False   False   False  False          False            Day            Day   \n",
      "2835      NaN     NaN     NaN    NaN            NaN            NaN            NaN   \n",
      "\n",
      "     Nautical_Twilight Astronomical_Twilight  \n",
      "0                Night                 Night  \n",
      "1                Night                   Day  \n",
      "2                  Day                   Day  \n",
      "3                  Day                   Day  \n",
      "4                  Day                   Day  \n",
      "...                ...                   ...  \n",
      "2831               Day                   Day  \n",
      "2832               Day                   Day  \n",
      "2833               Day                   Day  \n",
      "2834               Day                   Day  \n",
      "2835               NaN                   NaN  \n",
      "\n",
      "[2836 rows x 22 columns]\n"
     ]
    }
   ],
   "source": [
    "data = data.drop(['Roundabout', 'Station', 'Traffic_Calming', 'Turning_Loop'], axis=1)\n",
    "print(data)"
   ]
  },
  {
   "cell_type": "code",
   "execution_count": 16,
   "id": "13af4ad6",
   "metadata": {},
   "outputs": [
    {
     "name": "stdout",
     "output_type": "stream",
     "text": [
      "Index(['Severity', 'Start_Time', 'End_Time', 'Temperature(F)', 'Pressure(in)', 'Visibility(mi)',\n",
      "       'Wind_Speed(mph)', 'Precipitation(in)', 'Weather_Condition', 'Amenity', 'Bump', 'Crossing',\n",
      "       'Give_Way', 'Junction', 'No_Exit', 'Railway', 'Stop', 'Traffic_Signal', 'Sunrise_Sunset',\n",
      "       'Civil_Twilight', 'Nautical_Twilight', 'Astronomical_Twilight'],\n",
      "      dtype='object')\n"
     ]
    }
   ],
   "source": [
    "print(data.columns)"
   ]
  },
  {
   "cell_type": "code",
   "execution_count": 17,
   "id": "47755528",
   "metadata": {},
   "outputs": [
    {
     "name": "stdout",
     "output_type": "stream",
     "text": [
      "      Severity           Start_Time             End_Time  Temperature(F)  Pressure(in)  \\\n",
      "0            3  2016-02-08 05:46:00  2016-02-08 11:00:00            36.9         29.68   \n",
      "1            2  2016-02-08 06:07:59  2016-02-08 06:37:59            37.9         29.65   \n",
      "2            2  2016-02-08 06:49:27  2016-02-08 07:19:27            36.0         29.67   \n",
      "3            3  2016-02-08 07:23:34  2016-02-08 07:53:34            35.1         29.64   \n",
      "4            2  2016-02-08 07:39:07  2016-02-08 08:09:07            36.0         29.65   \n",
      "...        ...                  ...                  ...             ...           ...   \n",
      "2831         2  2016-07-12 15:12:42  2016-07-12 16:27:42            87.1         29.91   \n",
      "2832         2  2016-07-12 15:45:38  2016-07-12 17:00:38            88.0         29.89   \n",
      "2833         3  2016-07-12 15:26:19  2016-07-12 16:41:19            89.6         29.91   \n",
      "2834         2  2016-07-12 15:50:04  2016-07-12 17:05:04            84.2         30.03   \n",
      "2835         2  2016-07-12 16:12:21  2016-07-12 16:42:21             NaN           NaN   \n",
      "\n",
      "      Visibility(mi)  Wind_Speed(mph)  Precipitation(in) Weather_Condition Crossing Junction  \\\n",
      "0               10.0              NaN               0.02        Light Rain    False    False   \n",
      "1               10.0              NaN               0.00        Light Rain    False    False   \n",
      "2               10.0              3.5                NaN          Overcast    False    False   \n",
      "3                9.0              4.6                NaN     Mostly Cloudy    False    False   \n",
      "4                6.0              3.5                NaN     Mostly Cloudy    False    False   \n",
      "...              ...              ...                ...               ...      ...      ...   \n",
      "2831            10.0              6.9                NaN             Clear    False    False   \n",
      "2832            10.0              9.2                NaN             Clear    False    False   \n",
      "2833            10.0              3.5                NaN             Clear     True    False   \n",
      "2834            10.0              6.9                NaN             Clear    False    False   \n",
      "2835             NaN              NaN                NaN               NaN      NaN      NaN   \n",
      "\n",
      "       Stop Traffic_Signal Sunrise_Sunset Civil_Twilight Nautical_Twilight Astronomical_Twilight  \n",
      "0     False          False          Night          Night             Night                 Night  \n",
      "1     False          False          Night          Night             Night                   Day  \n",
      "2     False           True          Night          Night               Day                   Day  \n",
      "3     False          False          Night            Day               Day                   Day  \n",
      "4     False           True            Day            Day               Day                   Day  \n",
      "...     ...            ...            ...            ...               ...                   ...  \n",
      "2831  False          False            Day            Day               Day                   Day  \n",
      "2832  False          False            Day            Day               Day                   Day  \n",
      "2833  False           True            Day            Day               Day                   Day  \n",
      "2834  False          False            Day            Day               Day                   Day  \n",
      "2835    NaN            NaN            NaN            NaN               NaN                   NaN  \n",
      "\n",
      "[2836 rows x 17 columns]\n"
     ]
    }
   ],
   "source": [
    "data = data.drop(['Amenity', 'Bump', 'Give_Way', 'No_Exit', 'Railway'], axis=1)  #abbiamo fatto lo stesso controllo di prima per il numero di true/false\n",
    "print(data)"
   ]
  },
  {
   "cell_type": "code",
   "execution_count": 18,
   "id": "00fd43a2",
   "metadata": {},
   "outputs": [
    {
     "data": {
      "text/plain": [
       "2648"
      ]
     },
     "execution_count": 18,
     "metadata": {},
     "output_type": "execute_result"
    }
   ],
   "source": [
    "data['Precipitation(in)'].isnull().sum()"
   ]
  },
  {
   "cell_type": "code",
   "execution_count": 19,
   "id": "83702935",
   "metadata": {},
   "outputs": [
    {
     "data": {
      "text/plain": [
       "0.00    107\n",
       "0.01     27\n",
       "0.02     17\n",
       "0.05      6\n",
       "0.08      5\n",
       "0.16      4\n",
       "0.10      4\n",
       "0.04      3\n",
       "0.09      3\n",
       "0.03      2\n",
       "0.07      2\n",
       "0.06      2\n",
       "0.11      2\n",
       "0.19      2\n",
       "0.18      1\n",
       "0.22      1\n",
       "Name: Precipitation(in), dtype: int64"
      ]
     },
     "execution_count": 19,
     "metadata": {},
     "output_type": "execute_result"
    }
   ],
   "source": [
    "data['Precipitation(in)'].value_counts()"
   ]
  },
  {
   "cell_type": "code",
   "execution_count": 20,
   "id": "cf9b05d1",
   "metadata": {},
   "outputs": [
    {
     "data": {
      "text/plain": [
       "0.021595744680851063"
      ]
     },
     "execution_count": 20,
     "metadata": {},
     "output_type": "execute_result"
    }
   ],
   "source": [
    "data['Precipitation(in)'].mean()"
   ]
  },
  {
   "cell_type": "code",
   "execution_count": 21,
   "id": "c159d559",
   "metadata": {},
   "outputs": [
    {
     "name": "stdout",
     "output_type": "stream",
     "text": [
      "      Severity           Start_Time             End_Time  Temperature(F)  Pressure(in)  \\\n",
      "0            3  2016-02-08 05:46:00  2016-02-08 11:00:00            36.9         29.68   \n",
      "1            2  2016-02-08 06:07:59  2016-02-08 06:37:59            37.9         29.65   \n",
      "2            2  2016-02-08 06:49:27  2016-02-08 07:19:27            36.0         29.67   \n",
      "3            3  2016-02-08 07:23:34  2016-02-08 07:53:34            35.1         29.64   \n",
      "4            2  2016-02-08 07:39:07  2016-02-08 08:09:07            36.0         29.65   \n",
      "...        ...                  ...                  ...             ...           ...   \n",
      "2831         2  2016-07-12 15:12:42  2016-07-12 16:27:42            87.1         29.91   \n",
      "2832         2  2016-07-12 15:45:38  2016-07-12 17:00:38            88.0         29.89   \n",
      "2833         3  2016-07-12 15:26:19  2016-07-12 16:41:19            89.6         29.91   \n",
      "2834         2  2016-07-12 15:50:04  2016-07-12 17:05:04            84.2         30.03   \n",
      "2835         2  2016-07-12 16:12:21  2016-07-12 16:42:21             NaN           NaN   \n",
      "\n",
      "      Visibility(mi)  Wind_Speed(mph) Weather_Condition Crossing Junction   Stop Traffic_Signal  \\\n",
      "0               10.0              NaN        Light Rain    False    False  False          False   \n",
      "1               10.0              NaN        Light Rain    False    False  False          False   \n",
      "2               10.0              3.5          Overcast    False    False  False           True   \n",
      "3                9.0              4.6     Mostly Cloudy    False    False  False          False   \n",
      "4                6.0              3.5     Mostly Cloudy    False    False  False           True   \n",
      "...              ...              ...               ...      ...      ...    ...            ...   \n",
      "2831            10.0              6.9             Clear    False    False  False          False   \n",
      "2832            10.0              9.2             Clear    False    False  False          False   \n",
      "2833            10.0              3.5             Clear     True    False  False           True   \n",
      "2834            10.0              6.9             Clear    False    False  False          False   \n",
      "2835             NaN              NaN               NaN      NaN      NaN    NaN            NaN   \n",
      "\n",
      "     Sunrise_Sunset Civil_Twilight Nautical_Twilight Astronomical_Twilight  \n",
      "0             Night          Night             Night                 Night  \n",
      "1             Night          Night             Night                   Day  \n",
      "2             Night          Night               Day                   Day  \n",
      "3             Night            Day               Day                   Day  \n",
      "4               Day            Day               Day                   Day  \n",
      "...             ...            ...               ...                   ...  \n",
      "2831            Day            Day               Day                   Day  \n",
      "2832            Day            Day               Day                   Day  \n",
      "2833            Day            Day               Day                   Day  \n",
      "2834            Day            Day               Day                   Day  \n",
      "2835            NaN            NaN               NaN                   NaN  \n",
      "\n",
      "[2836 rows x 16 columns]\n"
     ]
    }
   ],
   "source": [
    "# La colonna della precipitazione contiene quasi tutti NaN, con un valore medio dei non NaN prossimo allo 0, quindi la droppiamo\n",
    "data = data.drop(['Precipitation(in)'], axis=1)\n",
    "print(data)"
   ]
  },
  {
   "cell_type": "code",
   "execution_count": 22,
   "id": "199ce188",
   "metadata": {},
   "outputs": [
    {
     "data": {
      "text/plain": [
       "1"
      ]
     },
     "execution_count": 22,
     "metadata": {},
     "output_type": "execute_result"
    }
   ],
   "source": [
    "data['Stop'].isnull().sum()"
   ]
  },
  {
   "cell_type": "code",
   "execution_count": 23,
   "id": "359f4c65",
   "metadata": {},
   "outputs": [
    {
     "name": "stdout",
     "output_type": "stream",
     "text": [
      "      Severity           Start_Time             End_Time  Temperature(F)  Pressure(in)  \\\n",
      "0            3  2016-02-08 05:46:00  2016-02-08 11:00:00            36.9         29.68   \n",
      "1            2  2016-02-08 06:07:59  2016-02-08 06:37:59            37.9         29.65   \n",
      "2            2  2016-02-08 06:49:27  2016-02-08 07:19:27            36.0         29.67   \n",
      "3            3  2016-02-08 07:23:34  2016-02-08 07:53:34            35.1         29.64   \n",
      "4            2  2016-02-08 07:39:07  2016-02-08 08:09:07            36.0         29.65   \n",
      "...        ...                  ...                  ...             ...           ...   \n",
      "2830         3  2016-07-12 15:00:15  2016-07-12 16:15:15            89.1         29.91   \n",
      "2831         2  2016-07-12 15:12:42  2016-07-12 16:27:42            87.1         29.91   \n",
      "2832         2  2016-07-12 15:45:38  2016-07-12 17:00:38            88.0         29.89   \n",
      "2833         3  2016-07-12 15:26:19  2016-07-12 16:41:19            89.6         29.91   \n",
      "2834         2  2016-07-12 15:50:04  2016-07-12 17:05:04            84.2         30.03   \n",
      "\n",
      "      Visibility(mi)  Wind_Speed(mph) Weather_Condition Crossing Junction   Stop Traffic_Signal  \\\n",
      "0               10.0              NaN        Light Rain    False    False  False          False   \n",
      "1               10.0              NaN        Light Rain    False    False  False          False   \n",
      "2               10.0              3.5          Overcast    False    False  False           True   \n",
      "3                9.0              4.6     Mostly Cloudy    False    False  False          False   \n",
      "4                6.0              3.5     Mostly Cloudy    False    False  False           True   \n",
      "...              ...              ...               ...      ...      ...    ...            ...   \n",
      "2830            10.0              9.2               NaN    False     True  False          False   \n",
      "2831            10.0              6.9             Clear    False    False  False          False   \n",
      "2832            10.0              9.2             Clear    False    False  False          False   \n",
      "2833            10.0              3.5             Clear     True    False  False           True   \n",
      "2834            10.0              6.9             Clear    False    False  False          False   \n",
      "\n",
      "     Sunrise_Sunset Civil_Twilight Nautical_Twilight Astronomical_Twilight  \n",
      "0             Night          Night             Night                 Night  \n",
      "1             Night          Night             Night                   Day  \n",
      "2             Night          Night               Day                   Day  \n",
      "3             Night            Day               Day                   Day  \n",
      "4               Day            Day               Day                   Day  \n",
      "...             ...            ...               ...                   ...  \n",
      "2830            Day            Day               Day                   Day  \n",
      "2831            Day            Day               Day                   Day  \n",
      "2832            Day            Day               Day                   Day  \n",
      "2833            Day            Day               Day                   Day  \n",
      "2834            Day            Day               Day                   Day  \n",
      "\n",
      "[2835 rows x 16 columns]\n"
     ]
    }
   ],
   "source": [
    "# La riga 2835 contiene quasi solo NaN, quindi la togliamo\n",
    "data = data.drop(2835)\n",
    "print(data)"
   ]
  },
  {
   "cell_type": "code",
   "execution_count": 24,
   "id": "f083f401",
   "metadata": {},
   "outputs": [
    {
     "data": {
      "text/plain": [
       "0"
      ]
     },
     "execution_count": 24,
     "metadata": {},
     "output_type": "execute_result"
    }
   ],
   "source": [
    "data['Temperature(F)'].fillna(data['Temperature(F)'].mean(), inplace=True)\n",
    "data['Temperature(F)'].isnull().sum()"
   ]
  },
  {
   "cell_type": "code",
   "execution_count": 25,
   "id": "95e5bb2b",
   "metadata": {},
   "outputs": [
    {
     "data": {
      "text/plain": [
       "0"
      ]
     },
     "execution_count": 25,
     "metadata": {},
     "output_type": "execute_result"
    }
   ],
   "source": [
    "data['Pressure(in)'].fillna(data['Pressure(in)'].mean(), inplace=True)\n",
    "data['Pressure(in)'].isnull().sum()"
   ]
  },
  {
   "cell_type": "code",
   "execution_count": 26,
   "id": "91d005eb",
   "metadata": {},
   "outputs": [
    {
     "data": {
      "text/plain": [
       "0"
      ]
     },
     "execution_count": 26,
     "metadata": {},
     "output_type": "execute_result"
    }
   ],
   "source": [
    "data['Visibility(mi)'].fillna(data['Visibility(mi)'].mean(), inplace=True)\n",
    "data['Visibility(mi)'].isnull().sum()"
   ]
  },
  {
   "cell_type": "code",
   "execution_count": 27,
   "id": "77f40005",
   "metadata": {},
   "outputs": [
    {
     "data": {
      "text/plain": [
       "0"
      ]
     },
     "execution_count": 27,
     "metadata": {},
     "output_type": "execute_result"
    }
   ],
   "source": [
    "data['Wind_Speed(mph)'].fillna(data['Wind_Speed(mph)'].mean(), inplace=True)\n",
    "data['Wind_Speed(mph)'].isnull().sum()"
   ]
  },
  {
   "cell_type": "code",
   "execution_count": 28,
   "id": "4ac0e170",
   "metadata": {},
   "outputs": [
    {
     "data": {
      "text/plain": [
       "20"
      ]
     },
     "execution_count": 28,
     "metadata": {},
     "output_type": "execute_result"
    }
   ],
   "source": [
    "data['Weather_Condition'].isnull().sum()"
   ]
  },
  {
   "cell_type": "code",
   "execution_count": 29,
   "id": "4ebef1e5",
   "metadata": {},
   "outputs": [
    {
     "data": {
      "text/plain": [
       "Clear                     1776\n",
       "Overcast                   316\n",
       "Partly Cloudy              235\n",
       "Mostly Cloudy              149\n",
       "Scattered Clouds           109\n",
       "Light Snow                 104\n",
       "Light Rain                  44\n",
       "Haze                        30\n",
       "Rain                        28\n",
       "Light Freezing Drizzle      10\n",
       "Heavy Rain                   3\n",
       "Snow                         2\n",
       "Fog                          2\n",
       "Light Drizzle                1\n",
       "Shallow Fog                  1\n",
       "Light Freezing Rain          1\n",
       "Cloudy                       1\n",
       "Drizzle                      1\n",
       "Light Rain Showers           1\n",
       "Mist                         1\n",
       "Name: Weather_Condition, dtype: int64"
      ]
     },
     "execution_count": 29,
     "metadata": {},
     "output_type": "execute_result"
    }
   ],
   "source": [
    "data['Weather_Condition'].value_counts()"
   ]
  },
  {
   "cell_type": "code",
   "execution_count": 30,
   "id": "3a0a6a06",
   "metadata": {},
   "outputs": [
    {
     "name": "stdout",
     "output_type": "stream",
     "text": [
      "      Severity           Start_Time             End_Time  Temperature(F)  Pressure(in)  \\\n",
      "439          2  2016-03-01 17:23:06  2016-03-01 18:23:06       48.200000     29.510000   \n",
      "601          3  2016-03-11 07:28:40  2016-03-11 07:58:40       64.490319     29.959202   \n",
      "1478         3  2016-06-27 20:42:18  2016-06-27 22:12:18       95.000000     29.870000   \n",
      "1685         2  2016-06-29 14:44:14  2016-06-29 15:29:14       91.400000     29.940000   \n",
      "1957         2  2016-07-03 03:54:45  2016-07-03 04:40:40       64.490319     29.959202   \n",
      "1968         2  2016-07-03 08:41:05  2016-07-03 09:26:05       64.490319     29.959202   \n",
      "1973         2  2016-07-03 11:59:28  2016-07-03 12:44:28       64.490319     29.959202   \n",
      "1978         2  2016-07-03 13:12:18  2016-07-03 13:57:18       64.490319     29.959202   \n",
      "1989         2  2016-07-03 15:33:37  2016-07-03 17:03:37       64.490319     29.959202   \n",
      "2137         2  2016-07-05 09:44:44  2016-07-05 10:14:44       64.490319     29.959202   \n",
      "2145         2  2016-07-05 10:43:04  2016-07-05 11:13:04       64.490319     29.959202   \n",
      "2342         2  2016-07-07 03:01:28  2016-07-07 04:01:28       64.490319     29.959202   \n",
      "2343         2  2016-07-07 02:54:40  2016-07-07 03:54:40       64.490319     29.959202   \n",
      "2344         2  2016-07-07 02:50:57  2016-07-07 03:50:57       64.490319     29.959202   \n",
      "2360         2  2016-07-07 10:10:21  2016-07-07 10:40:21       64.490319     29.959202   \n",
      "2364         2  2016-07-07 10:31:44  2016-07-07 11:16:44       64.490319     29.959202   \n",
      "2384         2  2016-07-07 12:25:25  2016-07-07 12:55:25       64.490319     29.959202   \n",
      "2769         3  2016-07-12 10:16:39  2016-07-12 10:46:39       75.000000     29.930000   \n",
      "2770         3  2016-07-12 10:15:55  2016-07-12 10:45:55       75.000000     29.930000   \n",
      "2830         3  2016-07-12 15:00:15  2016-07-12 16:15:15       89.100000     29.910000   \n",
      "\n",
      "      Visibility(mi)  Wind_Speed(mph) Weather_Condition Crossing Junction   Stop Traffic_Signal  \\\n",
      "439        10.000000         9.200000               NaN    False    False  False          False   \n",
      "601         9.163876         9.817681               NaN    False    False  False          False   \n",
      "1478       10.000000         6.900000               NaN    False    False  False          False   \n",
      "1685       10.000000        15.000000               NaN    False    False  False          False   \n",
      "1957        9.163876         9.817681               NaN     True    False  False           True   \n",
      "1968        9.163876         9.817681               NaN    False    False  False          False   \n",
      "1973        9.163876         9.817681               NaN    False    False  False          False   \n",
      "1978        9.163876         9.817681               NaN    False    False  False          False   \n",
      "1989        9.163876         9.817681               NaN    False    False  False          False   \n",
      "2137        9.163876         9.817681               NaN    False    False  False           True   \n",
      "2145        9.163876         9.817681               NaN    False    False   True          False   \n",
      "2342        9.163876         9.817681               NaN    False     True  False          False   \n",
      "2343        9.163876         9.817681               NaN    False    False  False          False   \n",
      "2344        9.163876         9.817681               NaN     True    False  False          False   \n",
      "2360        9.163876         9.817681               NaN    False    False  False          False   \n",
      "2364        9.163876         9.817681               NaN    False    False  False          False   \n",
      "2384        9.163876         9.817681               NaN    False    False  False          False   \n",
      "2769       10.000000         9.200000               NaN    False    False  False          False   \n",
      "2770       10.000000         9.200000               NaN    False     True  False          False   \n",
      "2830       10.000000         9.200000               NaN    False     True  False          False   \n",
      "\n",
      "     Sunrise_Sunset Civil_Twilight Nautical_Twilight Astronomical_Twilight  \n",
      "439             Day            Day               Day                   Day  \n",
      "601             Day            Day               Day                   Day  \n",
      "1478          Night            Day               Day                   Day  \n",
      "1685            Day            Day               Day                   Day  \n",
      "1957          Night          Night             Night                 Night  \n",
      "1968            Day            Day               Day                   Day  \n",
      "1973            Day            Day               Day                   Day  \n",
      "1978            Day            Day               Day                   Day  \n",
      "1989            Day            Day               Day                   Day  \n",
      "2137            Day            Day               Day                   Day  \n",
      "2145            Day            Day               Day                   Day  \n",
      "2342          Night          Night             Night                 Night  \n",
      "2343          Night          Night             Night                 Night  \n",
      "2344          Night          Night             Night                 Night  \n",
      "2360            Day            Day               Day                   Day  \n",
      "2364            Day            Day               Day                   Day  \n",
      "2384            Day            Day               Day                   Day  \n",
      "2769            Day            Day               Day                   Day  \n",
      "2770            Day            Day               Day                   Day  \n",
      "2830            Day            Day               Day                   Day  \n"
     ]
    }
   ],
   "source": [
    "# Per le righe con Weather_Condition=NaN, possiamo o rimuovere le intere righe, o assumere Clear come valore, essendo nettamente il più frequente\n",
    "print(data.loc[data['Weather_Condition'].isnull()])"
   ]
  },
  {
   "cell_type": "code",
   "execution_count": 31,
   "id": "79dd2950",
   "metadata": {},
   "outputs": [
    {
     "name": "stdout",
     "output_type": "stream",
     "text": [
      "      Severity           Start_Time             End_Time  Temperature(F)  Pressure(in)  \\\n",
      "0            3  2016-02-08 05:46:00  2016-02-08 11:00:00            36.9         29.68   \n",
      "1            2  2016-02-08 06:07:59  2016-02-08 06:37:59            37.9         29.65   \n",
      "2            2  2016-02-08 06:49:27  2016-02-08 07:19:27            36.0         29.67   \n",
      "3            3  2016-02-08 07:23:34  2016-02-08 07:53:34            35.1         29.64   \n",
      "4            2  2016-02-08 07:39:07  2016-02-08 08:09:07            36.0         29.65   \n",
      "...        ...                  ...                  ...             ...           ...   \n",
      "2829         3  2016-07-12 14:43:08  2016-07-12 15:13:08            93.9         29.88   \n",
      "2831         2  2016-07-12 15:12:42  2016-07-12 16:27:42            87.1         29.91   \n",
      "2832         2  2016-07-12 15:45:38  2016-07-12 17:00:38            88.0         29.89   \n",
      "2833         3  2016-07-12 15:26:19  2016-07-12 16:41:19            89.6         29.91   \n",
      "2834         2  2016-07-12 15:50:04  2016-07-12 17:05:04            84.2         30.03   \n",
      "\n",
      "      Visibility(mi)  Wind_Speed(mph) Weather_Condition Crossing Junction   Stop Traffic_Signal  \\\n",
      "0               10.0         9.817681        Light Rain    False    False  False          False   \n",
      "1               10.0         9.817681        Light Rain    False    False  False          False   \n",
      "2               10.0         3.500000          Overcast    False    False  False           True   \n",
      "3                9.0         4.600000     Mostly Cloudy    False    False  False          False   \n",
      "4                6.0         3.500000     Mostly Cloudy    False    False  False           True   \n",
      "...              ...              ...               ...      ...      ...    ...            ...   \n",
      "2829            10.0        10.400000             Clear    False    False  False          False   \n",
      "2831            10.0         6.900000             Clear    False    False  False          False   \n",
      "2832            10.0         9.200000             Clear    False    False  False          False   \n",
      "2833            10.0         3.500000             Clear     True    False  False           True   \n",
      "2834            10.0         6.900000             Clear    False    False  False          False   \n",
      "\n",
      "     Sunrise_Sunset Civil_Twilight Nautical_Twilight Astronomical_Twilight  \n",
      "0             Night          Night             Night                 Night  \n",
      "1             Night          Night             Night                   Day  \n",
      "2             Night          Night               Day                   Day  \n",
      "3             Night            Day               Day                   Day  \n",
      "4               Day            Day               Day                   Day  \n",
      "...             ...            ...               ...                   ...  \n",
      "2829            Day            Day               Day                   Day  \n",
      "2831            Day            Day               Day                   Day  \n",
      "2832            Day            Day               Day                   Day  \n",
      "2833            Day            Day               Day                   Day  \n",
      "2834            Day            Day               Day                   Day  \n",
      "\n",
      "[2815 rows x 16 columns]\n"
     ]
    }
   ],
   "source": [
    "# Notiamo che molte righe in cui è NaN, corrispondono a righe in cui prima abbiamo sostituito alcuni NaN con valori medi,\n",
    "# ha quindi senso togliere l'intera riga\n",
    "data = data.dropna(subset=['Weather_Condition'])\n",
    "print(data)"
   ]
  },
  {
   "cell_type": "code",
   "execution_count": 32,
   "id": "e42df961",
   "metadata": {},
   "outputs": [
    {
     "name": "stdout",
     "output_type": "stream",
     "text": [
      "      Severity           Start_Time             End_Time  Temperature(F)  Pressure(in)  \\\n",
      "0            3  2016-02-08 05:46:00  2016-02-08 11:00:00            36.9         29.68   \n",
      "1            2  2016-02-08 06:07:59  2016-02-08 06:37:59            37.9         29.65   \n",
      "2            2  2016-02-08 06:49:27  2016-02-08 07:19:27            36.0         29.67   \n",
      "3            3  2016-02-08 07:23:34  2016-02-08 07:53:34            35.1         29.64   \n",
      "4            2  2016-02-08 07:39:07  2016-02-08 08:09:07            36.0         29.65   \n",
      "...        ...                  ...                  ...             ...           ...   \n",
      "2810         3  2016-07-12 14:43:08  2016-07-12 15:13:08            93.9         29.88   \n",
      "2811         2  2016-07-12 15:12:42  2016-07-12 16:27:42            87.1         29.91   \n",
      "2812         2  2016-07-12 15:45:38  2016-07-12 17:00:38            88.0         29.89   \n",
      "2813         3  2016-07-12 15:26:19  2016-07-12 16:41:19            89.6         29.91   \n",
      "2814         2  2016-07-12 15:50:04  2016-07-12 17:05:04            84.2         30.03   \n",
      "\n",
      "      Visibility(mi)  Wind_Speed(mph) Weather_Condition Crossing Junction   Stop Traffic_Signal  \\\n",
      "0               10.0         9.817681        Light Rain    False    False  False          False   \n",
      "1               10.0         9.817681        Light Rain    False    False  False          False   \n",
      "2               10.0         3.500000          Overcast    False    False  False           True   \n",
      "3                9.0         4.600000     Mostly Cloudy    False    False  False          False   \n",
      "4                6.0         3.500000     Mostly Cloudy    False    False  False           True   \n",
      "...              ...              ...               ...      ...      ...    ...            ...   \n",
      "2810            10.0        10.400000             Clear    False    False  False          False   \n",
      "2811            10.0         6.900000             Clear    False    False  False          False   \n",
      "2812            10.0         9.200000             Clear    False    False  False          False   \n",
      "2813            10.0         3.500000             Clear     True    False  False           True   \n",
      "2814            10.0         6.900000             Clear    False    False  False          False   \n",
      "\n",
      "     Sunrise_Sunset Civil_Twilight Nautical_Twilight Astronomical_Twilight  \n",
      "0             Night          Night             Night                 Night  \n",
      "1             Night          Night             Night                   Day  \n",
      "2             Night          Night               Day                   Day  \n",
      "3             Night            Day               Day                   Day  \n",
      "4               Day            Day               Day                   Day  \n",
      "...             ...            ...               ...                   ...  \n",
      "2810            Day            Day               Day                   Day  \n",
      "2811            Day            Day               Day                   Day  \n",
      "2812            Day            Day               Day                   Day  \n",
      "2813            Day            Day               Day                   Day  \n",
      "2814            Day            Day               Day                   Day  \n",
      "\n",
      "[2815 rows x 16 columns]\n"
     ]
    }
   ],
   "source": [
    "# Rinumeriamo gli indici delle righe\n",
    "data = data.reset_index(drop=True)\n",
    "print(data)"
   ]
  },
  {
   "cell_type": "code",
   "execution_count": 33,
   "id": "50e8fcfb",
   "metadata": {},
   "outputs": [
    {
     "data": {
      "text/plain": [
       "False"
      ]
     },
     "execution_count": 33,
     "metadata": {},
     "output_type": "execute_result"
    }
   ],
   "source": [
    "# Verifichiamo se ci sono ancora valori NaN da correggere\n",
    "data.isna().any().any()"
   ]
  },
  {
   "cell_type": "code",
   "execution_count": 34,
   "id": "a7d0192e",
   "metadata": {},
   "outputs": [
    {
     "name": "stdout",
     "output_type": "stream",
     "text": [
      "      Severity          Start_Time            End_Time  Temperature(F)  Pressure(in)  \\\n",
      "0            3 2016-02-08 05:46:00 2016-02-08 11:00:00            36.9         29.68   \n",
      "1            2 2016-02-08 06:07:59 2016-02-08 06:37:59            37.9         29.65   \n",
      "2            2 2016-02-08 06:49:27 2016-02-08 07:19:27            36.0         29.67   \n",
      "3            3 2016-02-08 07:23:34 2016-02-08 07:53:34            35.1         29.64   \n",
      "4            2 2016-02-08 07:39:07 2016-02-08 08:09:07            36.0         29.65   \n",
      "...        ...                 ...                 ...             ...           ...   \n",
      "2810         3 2016-07-12 14:43:08 2016-07-12 15:13:08            93.9         29.88   \n",
      "2811         2 2016-07-12 15:12:42 2016-07-12 16:27:42            87.1         29.91   \n",
      "2812         2 2016-07-12 15:45:38 2016-07-12 17:00:38            88.0         29.89   \n",
      "2813         3 2016-07-12 15:26:19 2016-07-12 16:41:19            89.6         29.91   \n",
      "2814         2 2016-07-12 15:50:04 2016-07-12 17:05:04            84.2         30.03   \n",
      "\n",
      "      Visibility(mi)  Wind_Speed(mph) Weather_Condition Crossing Junction   Stop Traffic_Signal  \\\n",
      "0               10.0         9.817681        Light Rain    False    False  False          False   \n",
      "1               10.0         9.817681        Light Rain    False    False  False          False   \n",
      "2               10.0         3.500000          Overcast    False    False  False           True   \n",
      "3                9.0         4.600000     Mostly Cloudy    False    False  False          False   \n",
      "4                6.0         3.500000     Mostly Cloudy    False    False  False           True   \n",
      "...              ...              ...               ...      ...      ...    ...            ...   \n",
      "2810            10.0        10.400000             Clear    False    False  False          False   \n",
      "2811            10.0         6.900000             Clear    False    False  False          False   \n",
      "2812            10.0         9.200000             Clear    False    False  False          False   \n",
      "2813            10.0         3.500000             Clear     True    False  False           True   \n",
      "2814            10.0         6.900000             Clear    False    False  False          False   \n",
      "\n",
      "     Sunrise_Sunset Civil_Twilight Nautical_Twilight Astronomical_Twilight  \n",
      "0             Night          Night             Night                 Night  \n",
      "1             Night          Night             Night                   Day  \n",
      "2             Night          Night               Day                   Day  \n",
      "3             Night            Day               Day                   Day  \n",
      "4               Day            Day               Day                   Day  \n",
      "...             ...            ...               ...                   ...  \n",
      "2810            Day            Day               Day                   Day  \n",
      "2811            Day            Day               Day                   Day  \n",
      "2812            Day            Day               Day                   Day  \n",
      "2813            Day            Day               Day                   Day  \n",
      "2814            Day            Day               Day                   Day  \n",
      "\n",
      "[2815 rows x 16 columns]\n"
     ]
    }
   ],
   "source": [
    "data['Start_Time'] = pandas.to_datetime(data['Start_Time'])\n",
    "data['End_Time'] = pandas.to_datetime(data['End_Time'])\n",
    "print(data)"
   ]
  },
  {
   "cell_type": "code",
   "execution_count": 35,
   "id": "a6d52e45",
   "metadata": {},
   "outputs": [
    {
     "name": "stdout",
     "output_type": "stream",
     "text": [
      "      Severity          Start_Time            End_Time  Temperature(F)  Pressure(in)  \\\n",
      "0            3 2016-02-08 05:46:00 2016-02-08 11:00:00            36.9         29.68   \n",
      "1            2 2016-02-08 06:07:59 2016-02-08 06:37:59            37.9         29.65   \n",
      "2            2 2016-02-08 06:49:27 2016-02-08 07:19:27            36.0         29.67   \n",
      "3            3 2016-02-08 07:23:34 2016-02-08 07:53:34            35.1         29.64   \n",
      "4            2 2016-02-08 07:39:07 2016-02-08 08:09:07            36.0         29.65   \n",
      "...        ...                 ...                 ...             ...           ...   \n",
      "2810         3 2016-07-12 14:43:08 2016-07-12 15:13:08            93.9         29.88   \n",
      "2811         2 2016-07-12 15:12:42 2016-07-12 16:27:42            87.1         29.91   \n",
      "2812         2 2016-07-12 15:45:38 2016-07-12 17:00:38            88.0         29.89   \n",
      "2813         3 2016-07-12 15:26:19 2016-07-12 16:41:19            89.6         29.91   \n",
      "2814         2 2016-07-12 15:50:04 2016-07-12 17:05:04            84.2         30.03   \n",
      "\n",
      "      Visibility(mi)  Wind_Speed(mph) Weather_Condition Crossing Junction   Stop Traffic_Signal  \\\n",
      "0               10.0         9.817681        Light Rain    False    False  False          False   \n",
      "1               10.0         9.817681        Light Rain    False    False  False          False   \n",
      "2               10.0         3.500000          Overcast    False    False  False           True   \n",
      "3                9.0         4.600000     Mostly Cloudy    False    False  False          False   \n",
      "4                6.0         3.500000     Mostly Cloudy    False    False  False           True   \n",
      "...              ...              ...               ...      ...      ...    ...            ...   \n",
      "2810            10.0        10.400000             Clear    False    False  False          False   \n",
      "2811            10.0         6.900000             Clear    False    False  False          False   \n",
      "2812            10.0         9.200000             Clear    False    False  False          False   \n",
      "2813            10.0         3.500000             Clear     True    False  False           True   \n",
      "2814            10.0         6.900000             Clear    False    False  False          False   \n",
      "\n",
      "     Sunrise_Sunset Civil_Twilight Nautical_Twilight Astronomical_Twilight  Duration  \n",
      "0             Night          Night             Night                 Night       314  \n",
      "1             Night          Night             Night                   Day        30  \n",
      "2             Night          Night               Day                   Day        30  \n",
      "3             Night            Day               Day                   Day        30  \n",
      "4               Day            Day               Day                   Day        30  \n",
      "...             ...            ...               ...                   ...       ...  \n",
      "2810            Day            Day               Day                   Day        30  \n",
      "2811            Day            Day               Day                   Day        75  \n",
      "2812            Day            Day               Day                   Day        75  \n",
      "2813            Day            Day               Day                   Day        75  \n",
      "2814            Day            Day               Day                   Day        75  \n",
      "\n",
      "[2815 rows x 17 columns]\n"
     ]
    }
   ],
   "source": [
    "data['Duration'] = data.End_Time - data.Start_Time \n",
    "data['Duration'] = data['Duration'].apply(lambda x:round(x.total_seconds() / 60) ) \n",
    "print(data)"
   ]
  },
  {
   "cell_type": "code",
   "execution_count": 36,
   "id": "ce234ed2",
   "metadata": {},
   "outputs": [
    {
     "name": "stdout",
     "output_type": "stream",
     "text": [
      "      Severity          Start_Time  Temperature(F)  Pressure(in)  Visibility(mi)  Wind_Speed(mph)  \\\n",
      "0            3 2016-02-08 05:46:00            36.9         29.68            10.0         9.817681   \n",
      "1            2 2016-02-08 06:07:59            37.9         29.65            10.0         9.817681   \n",
      "2            2 2016-02-08 06:49:27            36.0         29.67            10.0         3.500000   \n",
      "3            3 2016-02-08 07:23:34            35.1         29.64             9.0         4.600000   \n",
      "4            2 2016-02-08 07:39:07            36.0         29.65             6.0         3.500000   \n",
      "...        ...                 ...             ...           ...             ...              ...   \n",
      "2810         3 2016-07-12 14:43:08            93.9         29.88            10.0        10.400000   \n",
      "2811         2 2016-07-12 15:12:42            87.1         29.91            10.0         6.900000   \n",
      "2812         2 2016-07-12 15:45:38            88.0         29.89            10.0         9.200000   \n",
      "2813         3 2016-07-12 15:26:19            89.6         29.91            10.0         3.500000   \n",
      "2814         2 2016-07-12 15:50:04            84.2         30.03            10.0         6.900000   \n",
      "\n",
      "     Weather_Condition Crossing Junction   Stop Traffic_Signal Sunrise_Sunset Civil_Twilight  \\\n",
      "0           Light Rain    False    False  False          False          Night          Night   \n",
      "1           Light Rain    False    False  False          False          Night          Night   \n",
      "2             Overcast    False    False  False           True          Night          Night   \n",
      "3        Mostly Cloudy    False    False  False          False          Night            Day   \n",
      "4        Mostly Cloudy    False    False  False           True            Day            Day   \n",
      "...                ...      ...      ...    ...            ...            ...            ...   \n",
      "2810             Clear    False    False  False          False            Day            Day   \n",
      "2811             Clear    False    False  False          False            Day            Day   \n",
      "2812             Clear    False    False  False          False            Day            Day   \n",
      "2813             Clear     True    False  False           True            Day            Day   \n",
      "2814             Clear    False    False  False          False            Day            Day   \n",
      "\n",
      "     Nautical_Twilight Astronomical_Twilight  Duration  \n",
      "0                Night                 Night       314  \n",
      "1                Night                   Day        30  \n",
      "2                  Day                   Day        30  \n",
      "3                  Day                   Day        30  \n",
      "4                  Day                   Day        30  \n",
      "...                ...                   ...       ...  \n",
      "2810               Day                   Day        30  \n",
      "2811               Day                   Day        75  \n",
      "2812               Day                   Day        75  \n",
      "2813               Day                   Day        75  \n",
      "2814               Day                   Day        75  \n",
      "\n",
      "[2815 rows x 16 columns]\n"
     ]
    }
   ],
   "source": [
    "# A questo punto la colonna End_Time è superflua\n",
    "data = data.drop(['End_Time'], axis=1)\n",
    "print(data)"
   ]
  },
  {
   "cell_type": "code",
   "execution_count": 37,
   "id": "d0598744",
   "metadata": {},
   "outputs": [],
   "source": [
    "data = data.replace([True, False], [1, 0])\n",
    "data['Sunrise_Sunset'] = data['Sunrise_Sunset'].replace({'Day': 1, 'Night': 0})\n",
    "data['Civil_Twilight'] = data['Civil_Twilight'].replace({'Day': 1, 'Night': 0})\n",
    "data['Nautical_Twilight'] = data['Nautical_Twilight'].replace({'Day': 1, 'Night': 0})\n",
    "data['Astronomical_Twilight'] = data['Astronomical_Twilight'].replace({'Day': 1, 'Night': 0})"
   ]
  },
  {
   "cell_type": "code",
   "execution_count": 38,
   "id": "e1525ae8",
   "metadata": {},
   "outputs": [],
   "source": [
    "data.loc[data['Weather_Condition']=='Clear', 'Weather_Condition'] = '0'\n",
    "data.loc[(data['Weather_Condition']=='Overcast')|(data['Weather_Condition']=='Mostly Cloudy'), 'Weather_Condition'] = '1'\n",
    "data.loc[(data['Weather_Condition']=='Partly Cloudy')|(data['Weather_Condition']=='Scattered Clouds')|(data['Weather_Condition']=='Cloudy'), 'Weather_Condition'] = '2'\n",
    "data.loc[(data['Weather_Condition']=='Light Snow')|(data['Weather_Condition']=='Snow'), 'Weather_Condition'] = '3'\n",
    "data.loc[(data['Weather_Condition']=='Light Freezing Rain')|(data['Weather_Condition']=='Light Rain')|(data['Weather_Condition']=='Rain')|(data['Weather_Condition']=='Light Drizzle')|(data['Weather_Condition']=='Light Rain Showers')|(data['Weather_Condition']=='Drizzle'), 'Weather_Condition'] = '4'\n",
    "data.loc[data['Weather_Condition']=='Heavy Rain', 'Weather_Condition'] = '5'\n",
    "data.loc[(data['Weather_Condition']=='Light Freezing Rain')|(data['Weather_Condition']=='Light Freezing Drizzle'), 'Weather_Condition'] = '6'\n",
    "data.loc[(data['Weather_Condition']=='Haze')|(data['Weather_Condition']=='Fog')|(data['Weather_Condition']=='Shallow Fog'), 'Weather_Condition'] = '7'\n",
    "data.loc[data['Weather_Condition']=='Mist', 'Weather_Condition'] = '1234567'"
   ]
  },
  {
   "cell_type": "code",
   "execution_count": 39,
   "id": "dc392086",
   "metadata": {},
   "outputs": [
    {
     "name": "stdout",
     "output_type": "stream",
     "text": [
      "      Severity          Start_Time  Temperature(F)  Pressure(in)  Visibility(mi)  Wind_Speed(mph)  \\\n",
      "0            3 2016-02-08 05:46:00            36.9         29.68            10.0         9.817681   \n",
      "1            2 2016-02-08 06:07:59            37.9         29.65            10.0         9.817681   \n",
      "2            2 2016-02-08 06:49:27            36.0         29.67            10.0         3.500000   \n",
      "3            3 2016-02-08 07:23:34            35.1         29.64             9.0         4.600000   \n",
      "4            2 2016-02-08 07:39:07            36.0         29.65             6.0         3.500000   \n",
      "...        ...                 ...             ...           ...             ...              ...   \n",
      "2810         3 2016-07-12 14:43:08            93.9         29.88            10.0        10.400000   \n",
      "2811         2 2016-07-12 15:12:42            87.1         29.91            10.0         6.900000   \n",
      "2812         2 2016-07-12 15:45:38            88.0         29.89            10.0         9.200000   \n",
      "2813         3 2016-07-12 15:26:19            89.6         29.91            10.0         3.500000   \n",
      "2814         2 2016-07-12 15:50:04            84.2         30.03            10.0         6.900000   \n",
      "\n",
      "     Weather_Condition  Crossing  Junction  Stop  Traffic_Signal  Sunrise_Sunset  Civil_Twilight  \\\n",
      "0                    4         0         0     0               0               0               0   \n",
      "1                    4         0         0     0               0               0               0   \n",
      "2                    1         0         0     0               1               0               0   \n",
      "3                    1         0         0     0               0               0               1   \n",
      "4                    1         0         0     0               1               1               1   \n",
      "...                ...       ...       ...   ...             ...             ...             ...   \n",
      "2810                 0         0         0     0               0               1               1   \n",
      "2811                 0         0         0     0               0               1               1   \n",
      "2812                 0         0         0     0               0               1               1   \n",
      "2813                 0         1         0     0               1               1               1   \n",
      "2814                 0         0         0     0               0               1               1   \n",
      "\n",
      "      Nautical_Twilight  Astronomical_Twilight  Duration  \n",
      "0                     0                      0       314  \n",
      "1                     0                      1        30  \n",
      "2                     1                      1        30  \n",
      "3                     1                      1        30  \n",
      "4                     1                      1        30  \n",
      "...                 ...                    ...       ...  \n",
      "2810                  1                      1        30  \n",
      "2811                  1                      1        75  \n",
      "2812                  1                      1        75  \n",
      "2813                  1                      1        75  \n",
      "2814                  1                      1        75  \n",
      "\n",
      "[2815 rows x 16 columns]\n"
     ]
    }
   ],
   "source": [
    "print(data)"
   ]
  },
  {
   "cell_type": "code",
   "execution_count": 40,
   "id": "e24e58ec",
   "metadata": {},
   "outputs": [],
   "source": [
    "data = data.drop(['Start_Time'], axis=1)"
   ]
  },
  {
   "cell_type": "code",
   "execution_count": 41,
   "id": "dfeca844",
   "metadata": {},
   "outputs": [
    {
     "name": "stdout",
     "output_type": "stream",
     "text": [
      "      Severity  Temperature(F)  Pressure(in)  Visibility(mi)  Wind_Speed(mph) Weather_Condition  \\\n",
      "0            3            36.9         29.68            10.0         9.817681                 4   \n",
      "1            2            37.9         29.65            10.0         9.817681                 4   \n",
      "2            2            36.0         29.67            10.0         3.500000                 1   \n",
      "3            3            35.1         29.64             9.0         4.600000                 1   \n",
      "4            2            36.0         29.65             6.0         3.500000                 1   \n",
      "...        ...             ...           ...             ...              ...               ...   \n",
      "2810         3            93.9         29.88            10.0        10.400000                 0   \n",
      "2811         2            87.1         29.91            10.0         6.900000                 0   \n",
      "2812         2            88.0         29.89            10.0         9.200000                 0   \n",
      "2813         3            89.6         29.91            10.0         3.500000                 0   \n",
      "2814         2            84.2         30.03            10.0         6.900000                 0   \n",
      "\n",
      "      Crossing  Junction  Stop  Traffic_Signal  Sunrise_Sunset  Civil_Twilight  Nautical_Twilight  \\\n",
      "0            0         0     0               0               0               0                  0   \n",
      "1            0         0     0               0               0               0                  0   \n",
      "2            0         0     0               1               0               0                  1   \n",
      "3            0         0     0               0               0               1                  1   \n",
      "4            0         0     0               1               1               1                  1   \n",
      "...        ...       ...   ...             ...             ...             ...                ...   \n",
      "2810         0         0     0               0               1               1                  1   \n",
      "2811         0         0     0               0               1               1                  1   \n",
      "2812         0         0     0               0               1               1                  1   \n",
      "2813         1         0     0               1               1               1                  1   \n",
      "2814         0         0     0               0               1               1                  1   \n",
      "\n",
      "      Astronomical_Twilight  Duration  \n",
      "0                         0       314  \n",
      "1                         1        30  \n",
      "2                         1        30  \n",
      "3                         1        30  \n",
      "4                         1        30  \n",
      "...                     ...       ...  \n",
      "2810                      1        30  \n",
      "2811                      1        75  \n",
      "2812                      1        75  \n",
      "2813                      1        75  \n",
      "2814                      1        75  \n",
      "\n",
      "[2815 rows x 15 columns]\n"
     ]
    }
   ],
   "source": [
    "print(data)"
   ]
  },
  {
   "cell_type": "code",
   "execution_count": 42,
   "id": "cbd3f2fd",
   "metadata": {},
   "outputs": [
    {
     "data": {
      "text/plain": [
       "0    2812\n",
       "1       3\n",
       "Name: Severity4, dtype: int64"
      ]
     },
     "execution_count": 42,
     "metadata": {},
     "output_type": "execute_result"
    }
   ],
   "source": [
    "data['Severity4'] = 0\n",
    "data.loc[data['Severity'] == 4, 'Severity4'] = 1\n",
    "data = data.drop(['Severity'], axis = 1)\n",
    "data.Severity4.value_counts()"
   ]
  },
  {
   "cell_type": "code",
   "execution_count": 50,
   "id": "3fa4572e",
   "metadata": {},
   "outputs": [],
   "source": [
    "data['Weather_Condition'] = data['Weather_Condition'].astype(int)"
   ]
  },
  {
   "cell_type": "code",
   "execution_count": 51,
   "id": "cad86312",
   "metadata": {},
   "outputs": [
    {
     "name": "stdout",
     "output_type": "stream",
     "text": [
      "int32\n"
     ]
    }
   ],
   "source": [
    "print(data['Weather_Condition'].dtype)"
   ]
  },
  {
   "cell_type": "code",
   "execution_count": 52,
   "id": "d782d9fb",
   "metadata": {},
   "outputs": [
    {
     "name": "stdout",
     "output_type": "stream",
     "text": [
      "                       Temperature(F)  Pressure(in)  Visibility(mi)  Wind_Speed(mph)  \\\n",
      "Temperature(F)               1.000000     -0.225094        0.489206         0.020707   \n",
      "Pressure(in)                -0.225094      1.000000        0.194281        -0.070998   \n",
      "Visibility(mi)               0.489206      0.194281        1.000000         0.076972   \n",
      "Wind_Speed(mph)              0.020707     -0.070998        0.076972         1.000000   \n",
      "Weather_Condition           -0.012705      0.004890       -0.068999         0.000004   \n",
      "Crossing                    -0.007102      0.014084        0.030681         0.021516   \n",
      "Junction                     0.094129     -0.021612        0.079467         0.048950   \n",
      "Stop                         0.063249     -0.001291        0.027717        -0.023588   \n",
      "Traffic_Signal              -0.098383      0.016809       -0.051233         0.015766   \n",
      "Sunrise_Sunset               0.254557      0.100508        0.070750         0.103384   \n",
      "Civil_Twilight               0.206640      0.094789        0.034743         0.082494   \n",
      "Nautical_Twilight            0.168069      0.050625        0.001700         0.088700   \n",
      "Astronomical_Twilight        0.146148      0.024731       -0.012202         0.080612   \n",
      "Duration                    -0.005619      0.033279        0.024213         0.007357   \n",
      "Severity4                   -0.004154      0.023812        0.011974        -0.007134   \n",
      "\n",
      "                       Weather_Condition  Crossing  Junction      Stop  Traffic_Signal  \\\n",
      "Temperature(F)                 -0.012705 -0.007102  0.094129  0.063249       -0.098383   \n",
      "Pressure(in)                    0.004890  0.014084 -0.021612 -0.001291        0.016809   \n",
      "Visibility(mi)                 -0.068999  0.030681  0.079467  0.027717       -0.051233   \n",
      "Wind_Speed(mph)                 0.000004  0.021516  0.048950 -0.023588        0.015766   \n",
      "Weather_Condition               1.000000 -0.006078 -0.006942 -0.003946       -0.007330   \n",
      "Crossing                       -0.006078  1.000000 -0.111178  0.126817        0.490256   \n",
      "Junction                       -0.006942 -0.111178  1.000000 -0.066072       -0.136731   \n",
      "Stop                           -0.003946  0.126817 -0.066072  1.000000       -0.065631   \n",
      "Traffic_Signal                 -0.007330  0.490256 -0.136731 -0.065631        1.000000   \n",
      "Sunrise_Sunset                  0.011029 -0.012303  0.004275 -0.003671        0.010548   \n",
      "Civil_Twilight                  0.009489 -0.016464  0.002500 -0.005069        0.007301   \n",
      "Nautical_Twilight               0.008180 -0.003379  0.000705 -0.016041        0.021945   \n",
      "Astronomical_Twilight           0.006976 -0.011539 -0.008540 -0.009748        0.011493   \n",
      "Duration                       -0.007578 -0.019249  0.001202  0.018201       -0.034339   \n",
      "Severity4                      -0.000616 -0.010529  0.021557 -0.006832       -0.012706   \n",
      "\n",
      "                       Sunrise_Sunset  Civil_Twilight  Nautical_Twilight  Astronomical_Twilight  \\\n",
      "Temperature(F)               0.254557        0.206640           0.168069               0.146148   \n",
      "Pressure(in)                 0.100508        0.094789           0.050625               0.024731   \n",
      "Visibility(mi)               0.070750        0.034743           0.001700              -0.012202   \n",
      "Wind_Speed(mph)              0.103384        0.082494           0.088700               0.080612   \n",
      "Weather_Condition            0.011029        0.009489           0.008180               0.006976   \n",
      "Crossing                    -0.012303       -0.016464          -0.003379              -0.011539   \n",
      "Junction                     0.004275        0.002500           0.000705              -0.008540   \n",
      "Stop                        -0.003671       -0.005069          -0.016041              -0.009748   \n",
      "Traffic_Signal               0.010548        0.007301           0.021945               0.011493   \n",
      "Sunrise_Sunset               1.000000        0.860178           0.741518               0.632356   \n",
      "Civil_Twilight               0.860178        1.000000           0.862052               0.735145   \n",
      "Nautical_Twilight            0.741518        0.862052           1.000000               0.852785   \n",
      "Astronomical_Twilight        0.632356        0.735145           0.852785               1.000000   \n",
      "Duration                     0.013798        0.024637           0.018611               0.021206   \n",
      "Severity4                   -0.005865       -0.010671          -0.015645              -0.021367   \n",
      "\n",
      "                       Duration  Severity4  \n",
      "Temperature(F)        -0.005619  -0.004154  \n",
      "Pressure(in)           0.033279   0.023812  \n",
      "Visibility(mi)         0.024213   0.011974  \n",
      "Wind_Speed(mph)        0.007357  -0.007134  \n",
      "Weather_Condition     -0.007578  -0.000616  \n",
      "Crossing              -0.019249  -0.010529  \n",
      "Junction               0.001202   0.021557  \n",
      "Stop                   0.018201  -0.006832  \n",
      "Traffic_Signal        -0.034339  -0.012706  \n",
      "Sunrise_Sunset         0.013798  -0.005865  \n",
      "Civil_Twilight         0.024637  -0.010671  \n",
      "Nautical_Twilight      0.018611  -0.015645  \n",
      "Astronomical_Twilight  0.021206  -0.021367  \n",
      "Duration               1.000000  -0.013133  \n",
      "Severity4             -0.013133   1.000000  \n"
     ]
    }
   ],
   "source": [
    "set_option('display.width', 100)\n",
    "correlations = data.corr(method='pearson', numeric_only=True)\n",
    "print(correlations)"
   ]
  },
  {
   "cell_type": "code",
   "execution_count": 72,
   "id": "22f62fdd",
   "metadata": {},
   "outputs": [
    {
     "data": {
      "image/png": "[encoded data removed]",
      "text/plain": [
       "<Figure size 640x480 with 2 Axes>"
      ]
     },
     "metadata": {},
     "output_type": "display_data"
    }
   ],
   "source": [
    "# plot matrice di correlazione\n",
    "fig = pyplot.figure()\n",
    "ax = fig.add_subplot(111)\n",
    "cax = ax.matshow(correlations, vmin=-1, vmax=1, cmap='bwr')\n",
    "fig.colorbar(cax)\n",
    "ticks = numpy.arange(0,15,1)\n",
    "ax.set_xticks(ticks)\n",
    "ax.set_yticks(ticks)\n",
    "\n",
    "ax.set_yticklabels(data.columns)\n",
    "pyplot.show()"
   ]
  },
  {
   "cell_type": "markdown",
   "id": "20d1084b",
   "metadata": {},
   "source": [
    "#### RANDOM FOREST"
   ]
  },
  {
   "cell_type": "code",
   "execution_count": 44,
   "id": "9661d912",
   "metadata": {},
   "outputs": [
    {
     "ename": "ValueError",
     "evalue": "\nAll the 10 fits failed.\nIt is very likely that your model is misconfigured.\nYou can try to debug the error by setting error_score='raise'.\n\nBelow are more details about the failures:\n--------------------------------------------------------------------------------\n10 fits failed with the following error:\nTraceback (most recent call last):\n  File \"C:\\Users\\lucal\\anaconda3\\lib\\site-packages\\sklearn\\model_selection\\_validation.py\", line 686, in _fit_and_score\n    estimator.fit(X_train, y_train, **fit_params)\n  File \"C:\\Users\\lucal\\anaconda3\\lib\\site-packages\\sklearn\\ensemble\\_forest.py\", line 385, in fit\n    y, expanded_class_weight = self._validate_y_class_weight(y)\n  File \"C:\\Users\\lucal\\anaconda3\\lib\\site-packages\\sklearn\\ensemble\\_forest.py\", line 746, in _validate_y_class_weight\n    check_classification_targets(y)\n  File \"C:\\Users\\lucal\\anaconda3\\lib\\site-packages\\sklearn\\utils\\multiclass.py\", line 207, in check_classification_targets\n    raise ValueError(\"Unknown label type: %r\" % y_type)\nValueError: Unknown label type: 'unknown'\n",
     "output_type": "error",
     "traceback": [
      "\u001b[1;31m---------------------------------------------------------------------------\u001b[0m",
      "\u001b[1;31mValueError\u001b[0m                                Traceback (most recent call last)",
      "Cell \u001b[1;32mIn[44], line 11\u001b[0m\n\u001b[0;32m      9\u001b[0m kfold \u001b[38;5;241m=\u001b[39m KFold(n_splits\u001b[38;5;241m=\u001b[39m\u001b[38;5;241m10\u001b[39m, shuffle\u001b[38;5;241m=\u001b[39m\u001b[38;5;28;01mTrue\u001b[39;00m, random_state\u001b[38;5;241m=\u001b[39m\u001b[38;5;241m7\u001b[39m)\n\u001b[0;32m     10\u001b[0m model \u001b[38;5;241m=\u001b[39m RandomForestClassifier(n_estimators\u001b[38;5;241m=\u001b[39mnum_trees, max_features\u001b[38;5;241m=\u001b[39mmax_features)\n\u001b[1;32m---> 11\u001b[0m results \u001b[38;5;241m=\u001b[39m \u001b[43mcross_val_score\u001b[49m\u001b[43m(\u001b[49m\u001b[43mmodel\u001b[49m\u001b[43m,\u001b[49m\u001b[43m \u001b[49m\u001b[43mX\u001b[49m\u001b[43m,\u001b[49m\u001b[43m \u001b[49m\u001b[43mY\u001b[49m\u001b[43m,\u001b[49m\u001b[43m \u001b[49m\u001b[43mcv\u001b[49m\u001b[38;5;241;43m=\u001b[39;49m\u001b[43mkfold\u001b[49m\u001b[43m)\u001b[49m\n\u001b[0;32m     12\u001b[0m \u001b[38;5;28mprint\u001b[39m(results\u001b[38;5;241m.\u001b[39mmean())\n",
      "File \u001b[1;32m~\\anaconda3\\lib\\site-packages\\sklearn\\model_selection\\_validation.py:515\u001b[0m, in \u001b[0;36mcross_val_score\u001b[1;34m(estimator, X, y, groups, scoring, cv, n_jobs, verbose, fit_params, pre_dispatch, error_score)\u001b[0m\n\u001b[0;32m    512\u001b[0m \u001b[38;5;66;03m# To ensure multimetric format is not supported\u001b[39;00m\n\u001b[0;32m    513\u001b[0m scorer \u001b[38;5;241m=\u001b[39m check_scoring(estimator, scoring\u001b[38;5;241m=\u001b[39mscoring)\n\u001b[1;32m--> 515\u001b[0m cv_results \u001b[38;5;241m=\u001b[39m \u001b[43mcross_validate\u001b[49m\u001b[43m(\u001b[49m\n\u001b[0;32m    516\u001b[0m \u001b[43m    \u001b[49m\u001b[43mestimator\u001b[49m\u001b[38;5;241;43m=\u001b[39;49m\u001b[43mestimator\u001b[49m\u001b[43m,\u001b[49m\n\u001b[0;32m    517\u001b[0m \u001b[43m    \u001b[49m\u001b[43mX\u001b[49m\u001b[38;5;241;43m=\u001b[39;49m\u001b[43mX\u001b[49m\u001b[43m,\u001b[49m\n\u001b[0;32m    518\u001b[0m \u001b[43m    \u001b[49m\u001b[43my\u001b[49m\u001b[38;5;241;43m=\u001b[39;49m\u001b[43my\u001b[49m\u001b[43m,\u001b[49m\n\u001b[0;32m    519\u001b[0m \u001b[43m    \u001b[49m\u001b[43mgroups\u001b[49m\u001b[38;5;241;43m=\u001b[39;49m\u001b[43mgroups\u001b[49m\u001b[43m,\u001b[49m\n\u001b[0;32m    520\u001b[0m \u001b[43m    \u001b[49m\u001b[43mscoring\u001b[49m\u001b[38;5;241;43m=\u001b[39;49m\u001b[43m{\u001b[49m\u001b[38;5;124;43m\"\u001b[39;49m\u001b[38;5;124;43mscore\u001b[39;49m\u001b[38;5;124;43m\"\u001b[39;49m\u001b[43m:\u001b[49m\u001b[43m \u001b[49m\u001b[43mscorer\u001b[49m\u001b[43m}\u001b[49m\u001b[43m,\u001b[49m\n\u001b[0;32m    521\u001b[0m \u001b[43m    \u001b[49m\u001b[43mcv\u001b[49m\u001b[38;5;241;43m=\u001b[39;49m\u001b[43mcv\u001b[49m\u001b[43m,\u001b[49m\n\u001b[0;32m    522\u001b[0m \u001b[43m    \u001b[49m\u001b[43mn_jobs\u001b[49m\u001b[38;5;241;43m=\u001b[39;49m\u001b[43mn_jobs\u001b[49m\u001b[43m,\u001b[49m\n\u001b[0;32m    523\u001b[0m \u001b[43m    \u001b[49m\u001b[43mverbose\u001b[49m\u001b[38;5;241;43m=\u001b[39;49m\u001b[43mverbose\u001b[49m\u001b[43m,\u001b[49m\n\u001b[0;32m    524\u001b[0m \u001b[43m    \u001b[49m\u001b[43mfit_params\u001b[49m\u001b[38;5;241;43m=\u001b[39;49m\u001b[43mfit_params\u001b[49m\u001b[43m,\u001b[49m\n\u001b[0;32m    525\u001b[0m \u001b[43m    \u001b[49m\u001b[43mpre_dispatch\u001b[49m\u001b[38;5;241;43m=\u001b[39;49m\u001b[43mpre_dispatch\u001b[49m\u001b[43m,\u001b[49m\n\u001b[0;32m    526\u001b[0m \u001b[43m    \u001b[49m\u001b[43merror_score\u001b[49m\u001b[38;5;241;43m=\u001b[39;49m\u001b[43merror_score\u001b[49m\u001b[43m,\u001b[49m\n\u001b[0;32m    527\u001b[0m \u001b[43m\u001b[49m\u001b[43m)\u001b[49m\n\u001b[0;32m    528\u001b[0m \u001b[38;5;28;01mreturn\u001b[39;00m cv_results[\u001b[38;5;124m\"\u001b[39m\u001b[38;5;124mtest_score\u001b[39m\u001b[38;5;124m\"\u001b[39m]\n",
      "File \u001b[1;32m~\\anaconda3\\lib\\site-packages\\sklearn\\model_selection\\_validation.py:285\u001b[0m, in \u001b[0;36mcross_validate\u001b[1;34m(estimator, X, y, groups, scoring, cv, n_jobs, verbose, fit_params, pre_dispatch, return_train_score, return_estimator, error_score)\u001b[0m\n\u001b[0;32m    265\u001b[0m parallel \u001b[38;5;241m=\u001b[39m Parallel(n_jobs\u001b[38;5;241m=\u001b[39mn_jobs, verbose\u001b[38;5;241m=\u001b[39mverbose, pre_dispatch\u001b[38;5;241m=\u001b[39mpre_dispatch)\n\u001b[0;32m    266\u001b[0m results \u001b[38;5;241m=\u001b[39m parallel(\n\u001b[0;32m    267\u001b[0m     delayed(_fit_and_score)(\n\u001b[0;32m    268\u001b[0m         clone(estimator),\n\u001b[1;32m   (...)\u001b[0m\n\u001b[0;32m    282\u001b[0m     \u001b[38;5;28;01mfor\u001b[39;00m train, test \u001b[38;5;129;01min\u001b[39;00m cv\u001b[38;5;241m.\u001b[39msplit(X, y, groups)\n\u001b[0;32m    283\u001b[0m )\n\u001b[1;32m--> 285\u001b[0m \u001b[43m_warn_or_raise_about_fit_failures\u001b[49m\u001b[43m(\u001b[49m\u001b[43mresults\u001b[49m\u001b[43m,\u001b[49m\u001b[43m \u001b[49m\u001b[43merror_score\u001b[49m\u001b[43m)\u001b[49m\n\u001b[0;32m    287\u001b[0m \u001b[38;5;66;03m# For callabe scoring, the return type is only know after calling. If the\u001b[39;00m\n\u001b[0;32m    288\u001b[0m \u001b[38;5;66;03m# return type is a dictionary, the error scores can now be inserted with\u001b[39;00m\n\u001b[0;32m    289\u001b[0m \u001b[38;5;66;03m# the correct key.\u001b[39;00m\n\u001b[0;32m    290\u001b[0m \u001b[38;5;28;01mif\u001b[39;00m callable(scoring):\n",
      "File \u001b[1;32m~\\anaconda3\\lib\\site-packages\\sklearn\\model_selection\\_validation.py:367\u001b[0m, in \u001b[0;36m_warn_or_raise_about_fit_failures\u001b[1;34m(results, error_score)\u001b[0m\n\u001b[0;32m    360\u001b[0m \u001b[38;5;28;01mif\u001b[39;00m num_failed_fits \u001b[38;5;241m==\u001b[39m num_fits:\n\u001b[0;32m    361\u001b[0m     all_fits_failed_message \u001b[38;5;241m=\u001b[39m (\n\u001b[0;32m    362\u001b[0m         \u001b[38;5;124mf\u001b[39m\u001b[38;5;124m\"\u001b[39m\u001b[38;5;130;01m\\n\u001b[39;00m\u001b[38;5;124mAll the \u001b[39m\u001b[38;5;132;01m{\u001b[39;00mnum_fits\u001b[38;5;132;01m}\u001b[39;00m\u001b[38;5;124m fits failed.\u001b[39m\u001b[38;5;130;01m\\n\u001b[39;00m\u001b[38;5;124m\"\u001b[39m\n\u001b[0;32m    363\u001b[0m         \u001b[38;5;124m\"\u001b[39m\u001b[38;5;124mIt is very likely that your model is misconfigured.\u001b[39m\u001b[38;5;130;01m\\n\u001b[39;00m\u001b[38;5;124m\"\u001b[39m\n\u001b[0;32m    364\u001b[0m         \u001b[38;5;124m\"\u001b[39m\u001b[38;5;124mYou can try to debug the error by setting error_score=\u001b[39m\u001b[38;5;124m'\u001b[39m\u001b[38;5;124mraise\u001b[39m\u001b[38;5;124m'\u001b[39m\u001b[38;5;124m.\u001b[39m\u001b[38;5;130;01m\\n\u001b[39;00m\u001b[38;5;130;01m\\n\u001b[39;00m\u001b[38;5;124m\"\u001b[39m\n\u001b[0;32m    365\u001b[0m         \u001b[38;5;124mf\u001b[39m\u001b[38;5;124m\"\u001b[39m\u001b[38;5;124mBelow are more details about the failures:\u001b[39m\u001b[38;5;130;01m\\n\u001b[39;00m\u001b[38;5;132;01m{\u001b[39;00mfit_errors_summary\u001b[38;5;132;01m}\u001b[39;00m\u001b[38;5;124m\"\u001b[39m\n\u001b[0;32m    366\u001b[0m     )\n\u001b[1;32m--> 367\u001b[0m     \u001b[38;5;28;01mraise\u001b[39;00m \u001b[38;5;167;01mValueError\u001b[39;00m(all_fits_failed_message)\n\u001b[0;32m    369\u001b[0m \u001b[38;5;28;01melse\u001b[39;00m:\n\u001b[0;32m    370\u001b[0m     some_fits_failed_message \u001b[38;5;241m=\u001b[39m (\n\u001b[0;32m    371\u001b[0m         \u001b[38;5;124mf\u001b[39m\u001b[38;5;124m\"\u001b[39m\u001b[38;5;130;01m\\n\u001b[39;00m\u001b[38;5;132;01m{\u001b[39;00mnum_failed_fits\u001b[38;5;132;01m}\u001b[39;00m\u001b[38;5;124m fits failed out of a total of \u001b[39m\u001b[38;5;132;01m{\u001b[39;00mnum_fits\u001b[38;5;132;01m}\u001b[39;00m\u001b[38;5;124m.\u001b[39m\u001b[38;5;130;01m\\n\u001b[39;00m\u001b[38;5;124m\"\u001b[39m\n\u001b[0;32m    372\u001b[0m         \u001b[38;5;124m\"\u001b[39m\u001b[38;5;124mThe score on these train-test partitions for these parameters\u001b[39m\u001b[38;5;124m\"\u001b[39m\n\u001b[1;32m   (...)\u001b[0m\n\u001b[0;32m    376\u001b[0m         \u001b[38;5;124mf\u001b[39m\u001b[38;5;124m\"\u001b[39m\u001b[38;5;124mBelow are more details about the failures:\u001b[39m\u001b[38;5;130;01m\\n\u001b[39;00m\u001b[38;5;132;01m{\u001b[39;00mfit_errors_summary\u001b[38;5;132;01m}\u001b[39;00m\u001b[38;5;124m\"\u001b[39m\n\u001b[0;32m    377\u001b[0m     )\n",
      "\u001b[1;31mValueError\u001b[0m: \nAll the 10 fits failed.\nIt is very likely that your model is misconfigured.\nYou can try to debug the error by setting error_score='raise'.\n\nBelow are more details about the failures:\n--------------------------------------------------------------------------------\n10 fits failed with the following error:\nTraceback (most recent call last):\n  File \"C:\\Users\\lucal\\anaconda3\\lib\\site-packages\\sklearn\\model_selection\\_validation.py\", line 686, in _fit_and_score\n    estimator.fit(X_train, y_train, **fit_params)\n  File \"C:\\Users\\lucal\\anaconda3\\lib\\site-packages\\sklearn\\ensemble\\_forest.py\", line 385, in fit\n    y, expanded_class_weight = self._validate_y_class_weight(y)\n  File \"C:\\Users\\lucal\\anaconda3\\lib\\site-packages\\sklearn\\ensemble\\_forest.py\", line 746, in _validate_y_class_weight\n    check_classification_targets(y)\n  File \"C:\\Users\\lucal\\anaconda3\\lib\\site-packages\\sklearn\\utils\\multiclass.py\", line 207, in check_classification_targets\n    raise ValueError(\"Unknown label type: %r\" % y_type)\nValueError: Unknown label type: 'unknown'\n"
     ]
    }
   ],
   "source": [
    "from sklearn.ensemble import RandomForestClassifier\n",
    "from sklearn.model_selection import KFold\n",
    "from sklearn.model_selection import cross_val_score\n",
    "array = data.values\n",
    "X = array[:,1:14]\n",
    "Y = array[:,0]\n",
    "num_trees = 100\n",
    "max_features = 3\n",
    "kfold = KFold(n_splits=10, shuffle=True, random_state=7)\n",
    "model = RandomForestClassifier(n_estimators=num_trees, max_features=max_features)\n",
    "results = cross_val_score(model, X, Y, cv=kfold)\n",
    "print(results.mean())"
   ]
  },
  {
   "cell_type": "code",
   "execution_count": null,
   "id": "638025ac",
   "metadata": {},
   "outputs": [],
   "source": [
    "from sklearn.model_selection import KFold\n",
    "from sklearn.model_selection import cross_val_score\n",
    "from sklearn.ensemble import BaggingClassifier\n",
    "from sklearn.tree import DecisionTreeClassifier\n",
    "array = data.values\n",
    "X = array[:,1:14]\n",
    "Y = array[:,0]\n",
    "seed = 7\n",
    "kfold = KFold(n_splits=10, shuffle=True, random_state=seed)\n",
    "cart = DecisionTreeClassifier()\n",
    "num_trees = 100\n",
    "model = BaggingClassifier(base_estimator=cart, n_estimators=num_trees, random_state=seed)\n",
    "results = cross_val_score(model, X, Y, cv=kfold)\n",
    "print(results.mean())"
   ]
  },
  {
   "cell_type": "code",
   "execution_count": null,
   "id": "0c1debe6-eb6e-4706-827c-2e6c15fbf774",
   "metadata": {},
   "outputs": [],
   "source": [
    "\"\"\"\n",
    "categorical_columns = data.select_dtypes(exclude='number').columns.tolist()\n",
    "data = data.drop(columns = categorical_columns)\n",
    "array = data.values\n",
    "\n",
    "X = array[:,1:12]\n",
    "Y = array[:,0]\n",
    "\n",
    "print(data)\n",
    "# estrazione features\n",
    "test = SelectKBest(score_func=chi2, k=4)\n",
    "fit = test.fit(X,Y)\n",
    "\n",
    "# riassunto punteggi\n",
    "print(fit.scores_)\n",
    "features = fit.transform(X)\n",
    "\n",
    "# riassunto features selezionate\n",
    "print(features[0:5,:])\n",
    "\n",
    "\"\"\""
   ]
  },
  {
   "cell_type": "code",
   "execution_count": null,
   "id": "0e95c013-64eb-47a0-8570-cbf01230b890",
   "metadata": {},
   "outputs": [],
   "source": [
    "#import sklearn.linear_model\n",
    "#from sklearn.feature_selection import RFE\n",
    "#from sklearn.linear_model import LogisticRegression\n",
    "# load data\n",
    "\n",
    "\n",
    "#array = data2.values\n",
    "#X = array[:,0:20]\n",
    "#Y = array[:,20]\n",
    "# feature extraction\n",
    "#model = LogisticRegression()\n",
    "#rfe = RFE(model, 3)\n",
    "#fit = rfe.fit(X, Y)\n",
    "#print(\"Num Features: %d\") % fit.n_features_\n",
    "#print(\"Selected Features: %s\") % fit.support_\n",
    "#print(\"Feature Ranking: %s\") % fit.ranking_"
   ]
  },
  {
   "cell_type": "markdown",
   "id": "acf003d2",
   "metadata": {},
   "source": [
    "## PROVA CON UNISELECT"
   ]
  },
  {
   "cell_type": "code",
   "execution_count": null,
   "id": "0f85b81d-01e2-424b-ad21-f12c72d95e35",
   "metadata": {},
   "outputs": [],
   "source": [
    "print(df)"
   ]
  },
  {
   "cell_type": "code",
   "execution_count": null,
   "id": "7dd20b78",
   "metadata": {},
   "outputs": [],
   "source": [
    "df['Start_Time'] = pandas.to_datetime(df['Start_Time'])\n",
    "df['End_Time'] = pandas.to_datetime(df['End_Time'])\n",
    "df['Weather_Timestamp'] = pandas.to_datetime(df['Weather_Timestamp'])\n",
    "df = df.drop(['ID', 'Source', 'Description', 'State', 'Country', 'Street', 'City', 'County', 'Timezone', 'Airport_Code', 'Zipcode', 'Weather_Timestamp'], axis=1)\n",
    "print(df)\n",
    "print(df.columns)"
   ]
  },
  {
   "cell_type": "code",
   "execution_count": null,
   "id": "ad0b300e",
   "metadata": {},
   "outputs": [],
   "source": [
    "df = df.drop(2835)\n",
    "df = df.drop(['End_Lat', 'End_Lng'], axis=1)"
   ]
  },
  {
   "cell_type": "code",
   "execution_count": null,
   "id": "efe62c1d",
   "metadata": {},
   "outputs": [],
   "source": [
    "df['Temperature(F)'].fillna(df['Temperature(F)'].mean(), inplace=True)\n",
    "df['Precipitation(in)'].fillna(df['Precipitation(in)'].mean(), inplace=True)\n",
    "df['Pressure(in)'].fillna(df['Pressure(in)'].mean(), inplace=True)\n",
    "df['Visibility(mi)'].fillna(df['Visibility(mi)'].mean(), inplace=True)\n",
    "df['Wind_Speed(mph)'].fillna(df['Wind_Speed(mph)'].mean(), inplace=True)\n",
    "df['Wind_Chill(F)'].fillna(df['Wind_Chill(F)'].mean(), inplace=True)\n",
    "df['Humidity(%)'].fillna(df['Humidity(%)'].mean(), inplace=True)\n",
    "df.isna().any().any()"
   ]
  },
  {
   "cell_type": "code",
   "execution_count": null,
   "id": "2e2729a0",
   "metadata": {},
   "outputs": [],
   "source": [
    "print(df)\n",
    "print(df.columns)"
   ]
  },
  {
   "cell_type": "code",
   "execution_count": null,
   "id": "3c9fdb78",
   "metadata": {},
   "outputs": [],
   "source": [
    "df = df.dropna(subset=['Wind_Direction'])\n",
    "df = df.dropna(subset=['Weather_Condition'])"
   ]
  },
  {
   "cell_type": "code",
   "execution_count": null,
   "id": "d21976cc",
   "metadata": {},
   "outputs": [],
   "source": [
    "df.isna().any().any()"
   ]
  },
  {
   "cell_type": "code",
   "execution_count": null,
   "id": "0ccaa9ab",
   "metadata": {},
   "outputs": [],
   "source": [
    "print(df)\n",
    "print(df.columns)"
   ]
  },
  {
   "cell_type": "code",
   "execution_count": null,
   "id": "22d1d093",
   "metadata": {},
   "outputs": [],
   "source": [
    "df = df.replace([True, False], [1, 0])\n",
    "df['Sunrise_Sunset'] = df['Sunrise_Sunset'].replace({'Day': 1, 'Night': 0})\n",
    "df['Civil_Twilight'] = df['Civil_Twilight'].replace({'Day': 1, 'Night': 0})\n",
    "df['Nautical_Twilight'] = df['Nautical_Twilight'].replace({'Day': 1, 'Night': 0})\n",
    "df['Astronomical_Twilight'] = df['Astronomical_Twilight'].replace({'Day': 1, 'Night': 0})\n",
    "print(df)"
   ]
  },
  {
   "cell_type": "code",
   "execution_count": null,
   "id": "965c16e2",
   "metadata": {},
   "outputs": [],
   "source": [
    "print(df['Wind_Direction'].value_counts())"
   ]
  },
  {
   "cell_type": "code",
   "execution_count": null,
   "id": "5a9f2e76",
   "metadata": {},
   "outputs": [],
   "source": [
    "df.loc[df['Wind_Direction']=='Calm','Wind_Direction'] = '0'\n",
    "df.loc[(df['Wind_Direction']=='South')|(df['Wind_Direction']=='SSW')|(df['Wind_Direction']=='SSE'),'Wind_Direction'] = '1'\n",
    "df.loc[(df['Wind_Direction']=='SW'),'Wind_Direction'] = '12'\n",
    "df.loc[(df['Wind_Direction']=='SE'),'Wind_Direction'] = '14'\n",
    "df.loc[(df['Wind_Direction']=='West')|(df['Wind_Direction']=='W')|(df['Wind_Direction']=='WSW')|(df['Wind_Direction']=='WNW'),'Wind_Direction'] = '2'\n",
    "df.loc[(df['Wind_Direction']=='North')|(df['Wind_Direction']=='NNW')|(df['Wind_Direction']=='NNE'),'Wind_Direction'] = '3'\n",
    "df.loc[(df['Wind_Direction']=='NW'),'Wind_Direction'] = '32'\n",
    "df.loc[(df['Wind_Direction']=='NE'),'Wind_Direction'] = '34'\n",
    "df.loc[(df['Wind_Direction']=='East')|(df['Wind_Direction']=='ESE')|(df['Wind_Direction']=='ENE')|(df['Wind_Direction']=='E'),'Wind_Direction'] = '4'\n",
    "df.loc[df['Wind_Direction']=='Variable','Wind_Direction'] = '1234'"
   ]
  },
  {
   "cell_type": "code",
   "execution_count": null,
   "id": "2203df33",
   "metadata": {},
   "outputs": [],
   "source": [
    "print(df['Weather_Condition'].value_counts())"
   ]
  },
  {
   "cell_type": "code",
   "execution_count": null,
   "id": "84840c27",
   "metadata": {},
   "outputs": [],
   "source": [
    "print(df)"
   ]
  },
  {
   "cell_type": "code",
   "execution_count": null,
   "id": "549c56ab",
   "metadata": {},
   "outputs": [],
   "source": [
    "df.loc[df['Weather_Condition']=='Clear', 'Weather_Condition'] = '0'\n",
    "df.loc[(df['Weather_Condition']=='Overcast')|(df['Weather_Condition']=='Mostly Cloudy'), 'Weather_Condition'] = '1'\n",
    "df.loc[(df['Weather_Condition']=='Partly Cloudy')|(df['Weather_Condition']=='Scattered Clouds')|(df['Weather_Condition']=='Cloudy'), 'Weather_Condition'] = '2'\n",
    "df.loc[(df['Weather_Condition']=='Light Snow')|(df['Weather_Condition']=='Snow'), 'Weather_Condition'] = '3'\n",
    "df.loc[(df['Weather_Condition']=='Light Freezing Rain')|(df['Weather_Condition']=='Light Rain')|(df['Weather_Condition']=='Rain')|(df['Weather_Condition']=='Light Drizzle')|(df['Weather_Condition']=='Light Rain Showers')|(df['Weather_Condition']=='Drizzle'), 'Weather_Condition'] = '4'\n",
    "df.loc[df['Weather_Condition']=='Heavy Rain', 'Weather_Condition'] = '5'\n",
    "df.loc[(df['Weather_Condition']=='Light Freezing Rain')|(df['Weather_Condition']=='Light Freezing Drizzle'), 'Weather_Condition'] = '6'\n",
    "df.loc[(df['Weather_Condition']=='Haze')|(df['Weather_Condition']=='Fog')|(df['Weather_Condition']=='Shallow Fog'), 'Weather_Condition'] = '7'\n",
    "df.loc[df['Weather_Condition']=='Mist', 'Weather_Condition'] = '1234567'\n",
    "print(df['Weather_Condition'].value_counts())"
   ]
  },
  {
   "cell_type": "code",
   "execution_count": null,
   "id": "37e76df9",
   "metadata": {},
   "outputs": [],
   "source": [
    "print(df)"
   ]
  },
  {
   "cell_type": "code",
   "execution_count": null,
   "id": "1a06ba63",
   "metadata": {},
   "outputs": [],
   "source": [
    "df = df.drop(['Start_Time', 'End_Time', 'Start_Lat', 'Start_Lng', 'Wind_Chill(F)'], axis=1)\n",
    "print(df)"
   ]
  },
  {
   "cell_type": "code",
   "execution_count": null,
   "id": "1879edad",
   "metadata": {},
   "outputs": [],
   "source": [
    "print(df['Severity'].value_counts())"
   ]
  },
  {
   "cell_type": "code",
   "execution_count": null,
   "id": "5206d03c",
   "metadata": {},
   "outputs": [],
   "source": [
    "print(df.columns)"
   ]
  },
  {
   "cell_type": "code",
   "execution_count": null,
   "id": "b86651c4",
   "metadata": {},
   "outputs": [],
   "source": [
    "df['Severity4'] = 0\n",
    "df.loc[(df['Severity'] == 4)|(df['Severity'] == 3), 'Severity4'] = 1\n",
    "df = df.drop(['Severity'], axis = 1)\n",
    "df.Severity4.value_counts()\n",
    "print(df.columns)"
   ]
  },
  {
   "cell_type": "code",
   "execution_count": null,
   "id": "fe77fd9a",
   "metadata": {
    "scrolled": true
   },
   "outputs": [],
   "source": [
    "print(df)"
   ]
  },
  {
   "cell_type": "code",
   "execution_count": null,
   "id": "d8840ab2",
   "metadata": {},
   "outputs": [],
   "source": [
    "#(df['Wind_Chill(F)'] < 0).any()"
   ]
  },
  {
   "cell_type": "code",
   "execution_count": null,
   "id": "693833db",
   "metadata": {},
   "outputs": [],
   "source": [
    "df['Severity4'].astype(int)"
   ]
  },
  {
   "cell_type": "code",
   "execution_count": null,
   "id": "969a9d41",
   "metadata": {},
   "outputs": [],
   "source": [
    "print(df.columns)"
   ]
  },
  {
   "cell_type": "code",
   "execution_count": null,
   "id": "0bb9f515",
   "metadata": {},
   "outputs": [],
   "source": [
    "array = df.values\n",
    "\n",
    "X = array[:,0:25]\n",
    "#Y = array[:,26]\n",
    "Y = df['Severity4']\n",
    "\n",
    "# estrazione features\n",
    "test = SelectKBest(score_func=chi2, k=10)\n",
    "fit = test.fit(X,Y)\n",
    "\n",
    "# riassunto punteggi\n",
    "print(fit.scores_)\n",
    "features = fit.transform(X)\n",
    "\n",
    "# riassunto features selezionate\n",
    "print(features[0:5,:])"
   ]
  }
 ],
 "metadata": {
  "kernelspec": {
   "display_name": "Python 3 (ipykernel)",
   "language": "python",
   "name": "python3"
  },
  "language_info": {
   "codemirror_mode": {
    "name": "ipython",
    "version": 3
   },
   "file_extension": ".py",
   "mimetype": "text/x-python",
   "name": "python",
   "nbconvert_exporter": "python",
   "pygments_lexer": "ipython3",
   "version": "3.10.9"
  }
 },
 "nbformat": 4,
 "nbformat_minor": 5
}
