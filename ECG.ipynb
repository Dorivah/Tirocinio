{
 "cells": [
  {
   "cell_type": "code",
   "execution_count": 1,
   "id": "79a58f43",
   "metadata": {},
   "outputs": [],
   "source": [
    "import pyedflib\n",
    "import numpy as np\n",
    "\n",
    "file_name = './psg/1-1.edf'\n",
    "f = pyedflib.EdfReader(file_name)\n",
    "n = f.signals_in_file\n",
    "signal_labels = f.getSignalLabels()\n",
    "sigbufs = np.zeros((n, f.getNSamples()[0]))\n",
    "for i in np.arange(n):\n",
    "        sigbufs[i, :] = f.readSignal(i)\n",
    "\n"
   ]
  },
  {
   "cell_type": "code",
   "execution_count": 2,
   "id": "1c457e8d",
   "metadata": {},
   "outputs": [
    {
     "name": "stdout",
     "output_type": "stream",
     "text": [
      "[[ -9.27762688  10.84017457  19.43418683 ...   1.26956999  -0.48829615\n",
      "   -3.71105075]\n",
      " [ -1.26956999  16.69972839  26.0750145  ...  -9.08230842  -8.10571612\n",
      "  -10.44953764]\n",
      " [-19.72716453   0.39063692   8.78933073 ...   6.93380535   7.4221015\n",
      "    7.61741997]\n",
      " ...\n",
      " [ -9.76592303  10.64485611  18.26227607 ...   0.9765923    3.90636921\n",
      "    4.88296152]\n",
      " [ 11.9144261    4.49232459 -13.96526994 ...  -0.87893307  -0.68361461\n",
      "   -4.78530229]\n",
      " [ 11.23081149  11.71910764  12.98867763 ...  88.18628498  90.04181036\n",
      "   86.6237373 ]]\n"
     ]
    }
   ],
   "source": [
    "print(sigbufs)"
   ]
  },
  {
   "cell_type": "code",
   "execution_count": 3,
   "id": "c41cc357",
   "metadata": {
    "scrolled": true
   },
   "outputs": [
    {
     "name": "stdout",
     "output_type": "stream",
     "text": [
      "['Fz', 'Cz', 'C3', 'C4', 'Pz', 'Oz', 'Cam-Sync', 'PVT', 'EOG-V', 'EOG-H', 'EMG', 'ECG']\n"
     ]
    }
   ],
   "source": [
    "print(signal_labels)"
   ]
  },
  {
   "cell_type": "code",
   "execution_count": null,
   "id": "d046c17a",
   "metadata": {},
   "outputs": [],
   "source": []
  }
 ],
 "metadata": {
  "kernelspec": {
   "display_name": "Python 3 (ipykernel)",
   "language": "python",
   "name": "python3"
  },
  "language_info": {
   "codemirror_mode": {
    "name": "ipython",
    "version": 3
   },
   "file_extension": ".py",
   "mimetype": "text/x-python",
   "name": "python",
   "nbconvert_exporter": "python",
   "pygments_lexer": "ipython3",
   "version": "3.10.9"
  }
 },
 "nbformat": 4,
 "nbformat_minor": 5
}
