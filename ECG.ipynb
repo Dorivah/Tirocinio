{
 "cells": [
  {
   "cell_type": "code",
   "execution_count": 1,
   "id": "79a58f43",
   "metadata": {},
   "outputs": [
    {
     "ename": "ModuleNotFoundError",
     "evalue": "No module named 'pyedflib'",
     "output_type": "error",
     "traceback": [
      "\u001b[1;31m---------------------------------------------------------------------------\u001b[0m",
      "\u001b[1;31mModuleNotFoundError\u001b[0m                       Traceback (most recent call last)",
      "Cell \u001b[1;32mIn[1], line 1\u001b[0m\n\u001b[1;32m----> 1\u001b[0m \u001b[38;5;28;01mimport\u001b[39;00m \u001b[38;5;21;01mpyedflib\u001b[39;00m\n\u001b[0;32m      2\u001b[0m \u001b[38;5;28;01mimport\u001b[39;00m \u001b[38;5;21;01mnumpy\u001b[39;00m \u001b[38;5;28;01mas\u001b[39;00m \u001b[38;5;21;01mnp\u001b[39;00m\n\u001b[0;32m      4\u001b[0m file_name \u001b[38;5;241m=\u001b[39m \u001b[38;5;124m'\u001b[39m\u001b[38;5;124m./psg/1-1.edf\u001b[39m\u001b[38;5;124m'\u001b[39m\n",
      "\u001b[1;31mModuleNotFoundError\u001b[0m: No module named 'pyedflib'"
     ]
    }
   ],
   "source": [
    "import pyedflib\n",
    "import numpy as np\n",
    "\n",
    "file_name = './psg/1-1.edf'\n",
    "f = pyedflib.EdfReader(file_name)\n",
    "n = f.signals_in_file\n",
    "signal_labels = f.getSignalLabels()\n",
    "sigbufs = np.zeros((n, f.getNSamples()[0]))\n",
    "for i in np.arange(n):\n",
    "        sigbufs[i, :] = f.readSignal(i)\n",
    "\n"
   ]
  },
  {
   "cell_type": "code",
   "execution_count": 2,
   "id": "7157618b",
   "metadata": {},
   "outputs": [
    {
     "name": "stdout",
     "output_type": "stream",
     "text": [
      "Collecting pyedflib\n",
      "  Downloading pyEDFlib-0.1.34-cp310-cp310-win_amd64.whl (2.2 MB)\n",
      "     ---------------------------------------- 2.2/2.2 MB 7.3 MB/s eta 0:00:00\n",
      "Requirement already satisfied: numpy>=1.9.1 in c:\\users\\crist\\anaconda3\\lib\\site-packages (from pyedflib) (1.23.5)\n",
      "Installing collected packages: pyedflib\n",
      "Successfully installed pyedflib-0.1.34\n"
     ]
    }
   ],
   "source": [
    "!pip install pyedflib"
   ]
  },
  {
   "cell_type": "code",
   "execution_count": null,
   "id": "97fd05f8",
   "metadata": {},
   "outputs": [],
   "source": []
  }
 ],
 "metadata": {
  "kernelspec": {
   "display_name": "Python 3 (ipykernel)",
   "language": "python",
   "name": "python3"
  },
  "language_info": {
   "codemirror_mode": {
    "name": "ipython",
    "version": 3
   },
   "file_extension": ".py",
   "mimetype": "text/x-python",
   "name": "python",
   "nbconvert_exporter": "python",
   "pygments_lexer": "ipython3",
   "version": "3.10.9"
  }
 },
 "nbformat": 4,
 "nbformat_minor": 5
}
